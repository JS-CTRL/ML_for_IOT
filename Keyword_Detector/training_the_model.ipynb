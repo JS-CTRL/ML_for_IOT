{
 "cells": [
  {
   "cell_type": "markdown",
   "id": "adolescent-davis",
   "metadata": {},
   "source": [
    "## Basic Steps\n",
    "\n",
    "1. Run a baseline training script to build a speech commands model.\n",
    "2. Add in your custom word to the training and test/validation sets.\n",
    "   - Modify labels, shape of your output tensor in the model.\n",
    "   - Make sure that feature extractor for the model aligns with the feature extractor \n",
    "     used in the arduino code.\n",
    "3. Re-train model. => TF Model using floating-point numbers, that recognizes Google word and custom word.\n",
    "4. Quantize the model and convert to TFlite. => keyword_model.tflite file\n",
    "5. Convert tflite to .c file, using xxd => model_data.cc\n",
    "6. Replace contents of existing micro_features_model.cpp with output of xxd.\n",
    "\n",
    "All of the above steps are done in this notebook for the commands 'left', 'right'.\n",
    "\n",
    "7. In micro_speech.ino, modify micro_op_resolver (around line 80) to add any necessary operations (DIFF_FROM_LECTURE)\n",
    "8. In micro_features_model_settings.h, modify kSilenceIndex and kUnknownIndex, depending on \n",
    "where you have them in commands.  \n",
    "  - Commands = ['left', 'right', '_silence', '_unknown'] => kSilenceIndex=2, kUnknownIndex=3\n",
    "9. In micro_features_model_settings.cpp, modify kCategoryLabels to correspond to commands in this script.\n",
    "10. In micro_features_micro_model_settings.h, set kFeatureSliceDurationMs, kFeatureSliceStrideMs to match what is passed to microfrontend as window_size, window_step, respectively.\n",
    "11. Rebuild Arduino program, run it, recognize the two target words.\n",
    "12. Experiment with model architecture, training parameters/methods, augmentation, more data-gathering, etc.\n",
    "\n",
    "*Note*:  As of 5/3/21, this model uses 22% of flash and 49.5% of RAM, so there is substantial space to improve the model, but the latency is about 208ms, which is probably too slow."
   ]
  },
  {
   "cell_type": "code",
   "execution_count": 1,
   "id": "undefined-familiar",
   "metadata": {},
   "outputs": [
    {
     "name": "stdout",
     "output_type": "stream",
     "text": [
      "2.8.0\n"
     ]
    }
   ],
   "source": [
    "# TensorFlow and tf.keras\n",
    "import tensorflow as tf\n",
    "from tensorflow.keras import Input, layers\n",
    "from tensorflow.keras import models\n",
    "from tensorflow.keras.layers.experimental import preprocessing\n",
    "from tensorflow.lite.experimental.microfrontend.python.ops import audio_microfrontend_op as frontend_op\n",
    "print(tf.__version__)\n",
    "\n",
    "# Helper libraries\n",
    "import numpy as np\n",
    "import matplotlib.pyplot as plt\n",
    "import seaborn as sns\n",
    "\n",
    "#from tqdm.notebook import tqdm\n",
    "from tqdm import tqdm # replace with this if moving out of notebook\n",
    "\n",
    "import os\n",
    "import pathlib\n",
    "\n",
    "from datetime import datetime as dt\n",
    "\n",
    "from IPython import display"
   ]
  },
  {
   "cell_type": "code",
   "execution_count": 2,
   "id": "bearing-lobby",
   "metadata": {},
   "outputs": [],
   "source": [
    "# Set seed for experiment reproducibility\n",
    "seed = 42\n",
    "tf.random.set_seed(seed)\n",
    "np.random.seed(seed)"
   ]
  },
  {
   "cell_type": "code",
   "execution_count": 3,
   "id": "incredible-numbers",
   "metadata": {},
   "outputs": [],
   "source": [
    "i16min = -2**15\n",
    "i16max = 2**15-1\n",
    "fsamp = 16000\n",
    "wave_length_ms = 1000\n",
    "wave_length_samps = int(wave_length_ms*fsamp/1000)\n",
    "window_size_ms=60\n",
    "window_step_ms=40\n",
    "num_filters = 32\n",
    "use_microfrontend = True #used for microcontroller \n",
    "dataset = 'full-speech-files' # use the full speech commands stored as files \n",
    "\n",
    "silence_str = \"_silence\"  \n",
    "unknown_str = \"_unknown\"\n",
    "EPOCHS = 50"
   ]
  },
  {
   "cell_type": "markdown",
   "id": "outstanding-movement",
   "metadata": {},
   "source": [
    "Apply the frontend to an example signal."
   ]
  },
  {
   "cell_type": "code",
   "execution_count": 4,
   "id": "69f3be03",
   "metadata": {},
   "outputs": [],
   "source": [
    "data_dir = pathlib.Path(os.path.join('/Users/Jeromey/IOT/Project1/data/speech_train'))"
   ]
  },
  {
   "cell_type": "code",
   "execution_count": 5,
   "id": "2e571f98-2d10-4809-ae2e-abd8d202181a",
   "metadata": {},
   "outputs": [
    {
     "data": {
      "text/plain": [
       "WindowsPath('/Users/Jeromey/IOT/Project1/data/speech_train')"
      ]
     },
     "execution_count": 5,
     "metadata": {},
     "output_type": "execute_result"
    }
   ],
   "source": [
    "data_dir"
   ]
  },
  {
   "cell_type": "code",
   "execution_count": 6,
   "id": "precious-graph",
   "metadata": {},
   "outputs": [
    {
     "name": "stdout",
     "output_type": "stream",
     "text": [
      "label_list: ['_silence', '_unknown', 'armadillo', 'backward']\n"
     ]
    }
   ],
   "source": [
    "commands = ['armadillo', 'backward'] \n",
    "label_list = commands.copy()\n",
    "label_list.insert(0, silence_str)\n",
    "label_list.insert(1, unknown_str)\n",
    "print('label_list:', label_list)"
   ]
  },
  {
   "cell_type": "code",
   "execution_count": 7,
   "id": "36a4dd41",
   "metadata": {
    "scrolled": true
   },
   "outputs": [
    {
     "name": "stdout",
     "output_type": "stream",
     "text": [
      "Number of total examples: 147619\n",
      "Number of examples per label: 21816\n",
      "Example file tensor: tf.Tensor(b'\\\\Users\\\\Jeromey\\\\IOT\\\\Project1\\\\data\\\\speech_train\\\\yes\\\\4b25f620_nohash_0.wav', shape=(), dtype=string)\n"
     ]
    }
   ],
   "source": [
    "filenames = tf.io.gfile.glob(str(data_dir) + '/*/*.wav')\n",
    "#filenames = tf.concat([tf.io.gfile.glob(str(data_dir) + '/' + cmd + '/*') for cmd in label_list], 0)\n",
    "filenames = tf.random.shuffle(filenames)\n",
    "num_samples = len(filenames)\n",
    "print('Number of total examples:', num_samples)\n",
    "print('Number of examples per label:',\n",
    "    len(tf.io.gfile.listdir(str(data_dir/commands[0]))))\n",
    "print('Example file tensor:', filenames[0])"
   ]
  },
  {
   "cell_type": "code",
   "execution_count": 8,
   "id": "ranging-version",
   "metadata": {},
   "outputs": [
    {
     "data": {
      "text/plain": [
       "<tf.Tensor: shape=(147619,), dtype=string, numpy=\n",
       "array([b'\\\\Users\\\\Jeromey\\\\IOT\\\\Project1\\\\data\\\\speech_train\\\\yes\\\\4b25f620_nohash_0.wav',\n",
       "       b'\\\\Users\\\\Jeromey\\\\IOT\\\\Project1\\\\data\\\\speech_train\\\\nine\\\\953fe1ad_nohash_2.wav',\n",
       "       b'\\\\Users\\\\Jeromey\\\\IOT\\\\Project1\\\\data\\\\speech_train\\\\four\\\\674ca5ea_nohash_0.wav',\n",
       "       ...,\n",
       "       b'\\\\Users\\\\Jeromey\\\\IOT\\\\Project1\\\\data\\\\speech_train\\\\armadillo\\\\armadillo_Sample889_LShift2_0.wav',\n",
       "       b'\\\\Users\\\\Jeromey\\\\IOT\\\\Project1\\\\data\\\\speech_train\\\\left\\\\0487ba9b_nohash_0.wav',\n",
       "       b'\\\\Users\\\\Jeromey\\\\IOT\\\\Project1\\\\data\\\\speech_train\\\\yes\\\\63f7a489_nohash_1.wav'],\n",
       "      dtype=object)>"
      ]
     },
     "execution_count": 8,
     "metadata": {},
     "output_type": "execute_result"
    }
   ],
   "source": [
    "filenames\n",
    "# tf.strings.split(filenames[0], os.path.sep)[-2].numpy().decode('utf8')"
   ]
  },
  {
   "cell_type": "code",
   "execution_count": 9,
   "id": "assured-capture",
   "metadata": {},
   "outputs": [
    {
     "name": "stdout",
     "output_type": "stream",
     "text": [
      "\\Users\\Jeromey\\IOT\\Project1\\data\\speech_train\\yes\\4b25f620_nohash_0.wav\n",
      "\\Users\\Jeromey\\IOT\\Project1\\data\\speech_train\\nine\\953fe1ad_nohash_2.wav\n",
      "\\Users\\Jeromey\\IOT\\Project1\\data\\speech_train\\four\\674ca5ea_nohash_0.wav\n",
      "\\Users\\Jeromey\\IOT\\Project1\\data\\speech_train\\armadillo\\armadillo_Sample76_RShift3_0.wav\n",
      "\\Users\\Jeromey\\IOT\\Project1\\data\\speech_train\\armadillo\\armadillo_Sample6150_Noise0_Multiplier1.wav\n",
      "\\Users\\Jeromey\\IOT\\Project1\\data\\speech_train\\no\\6727b579_nohash_0.wav\n",
      "\\Users\\Jeromey\\IOT\\Project1\\data\\speech_train\\stop\\bde0f20a_nohash_2.wav\n",
      "\\Users\\Jeromey\\IOT\\Project1\\data\\speech_train\\marvin\\c1eebc0b_nohash_0.wav\n",
      "\\Users\\Jeromey\\IOT\\Project1\\data\\speech_train\\three\\ceaadb24_nohash_0.wav\n",
      "\\Users\\Jeromey\\IOT\\Project1\\data\\speech_train\\backward\\backward_Sample1318_LShift2_1.wav\n"
     ]
    }
   ],
   "source": [
    "# Not really necessary, but just look at a few of the files to make sure that \n",
    "# they're the correct files, shuffled, etc.\n",
    "for i in range(10):\n",
    "    print(filenames[i].numpy().decode('utf8'))"
   ]
  },
  {
   "cell_type": "code",
   "execution_count": 10,
   "id": "201656b2",
   "metadata": {},
   "outputs": [
    {
     "name": "stdout",
     "output_type": "stream",
     "text": [
      "Training set size 126529\n",
      "Validation set size 19981\n",
      "Test set size 11149\n"
     ]
    }
   ],
   "source": [
    "fname_val_files = os.path.join(data_dir, 'validation_list.txt')    \n",
    "with open(fname_val_files) as fpi_val:\n",
    "    val_files = fpi_val.read().splitlines()\n",
    "# validation_list.txt only lists partial paths\n",
    "val_files = [os.path.join(data_dir, fn) for fn in val_files]\n",
    "fname_test_files = os.path.join(data_dir, 'testing_list.txt')\n",
    "\n",
    "with open(fname_test_files) as fpi_tst:\n",
    "    test_files = fpi_tst.read().splitlines()\n",
    "# testing_list.txt only lists partial paths\n",
    "test_files = [os.path.join(data_dir, fn).rstrip() for fn in test_files]    \n",
    "\n",
    "# convert the TF tensor filenames into an array of strings so we can use basic python constructs\n",
    "train_files = [f.decode('utf8') for f in filenames.numpy()]\n",
    "\n",
    "\n",
    "# don't train with the _background_noise_ files; exclude when directory name starts with '_'\n",
    "train_files = [f for f in train_files if f.split('\\\\')[-2][0] != '_']\n",
    "\n",
    "# validation and test files are listed explicitly in *_list.txt; train with everything else\n",
    "train_files = list(set(train_files) - set(test_files) - set(val_files))\n",
    "# now convert back into a TF tensor so we can use the tf.dataset pipeline\n",
    "train_files = tf.constant(train_files)    \n",
    "\n",
    "\n",
    "print('Training set size', len(train_files))\n",
    "print('Validation set size', len(val_files))\n",
    "print('Test set size', len(test_files))\n"
   ]
  },
  {
   "cell_type": "code",
   "execution_count": 11,
   "id": "924467a4",
   "metadata": {},
   "outputs": [
    {
     "data": {
      "text/plain": [
       "'\\\\Users\\\\Jeromey\\\\IOT\\\\Project1\\\\data\\\\speech_train\\\\testing_list.txt'"
      ]
     },
     "execution_count": 11,
     "metadata": {},
     "output_type": "execute_result"
    }
   ],
   "source": [
    "fname_test_files"
   ]
  },
  {
   "cell_type": "code",
   "execution_count": 12,
   "id": "connected-polish",
   "metadata": {},
   "outputs": [],
   "source": [
    "def decode_audio(audio_binary):\n",
    "  audio, _ = tf.audio.decode_wav(audio_binary)\n",
    "  return tf.squeeze(audio, axis=-1)"
   ]
  },
  {
   "cell_type": "code",
   "execution_count": 13,
   "id": "third-leave",
   "metadata": {},
   "outputs": [],
   "source": [
    "# @tf.function\n",
    "def get_label(file_path):\n",
    "  parts = tf.strings.split(file_path, os.path.sep)\n",
    "  in_set = tf.reduce_any(parts[-2] == label_list)\n",
    "  label = tf.cond(in_set, lambda: parts[-2], lambda: tf.constant(unknown_str))\n",
    "  # print(f\"parts[-2] = {parts[-2]}, in_set = {in_set}, label = {label}\")\n",
    "  # Note: You'll use indexing here instead of tuple unpacking to enable this \n",
    "  # to work in a TensorFlow graph.\n",
    "  return  label # parts[-2]"
   ]
  },
  {
   "cell_type": "code",
   "execution_count": 14,
   "id": "false-cambodia",
   "metadata": {},
   "outputs": [],
   "source": [
    "def get_waveform_and_label(file_path):\n",
    "  label = get_label(file_path)\n",
    "  audio_binary = tf.io.read_file(file_path)\n",
    "  waveform = decode_audio(audio_binary)\n",
    "  return waveform, label"
   ]
  },
  {
   "cell_type": "code",
   "execution_count": 15,
   "id": "injured-december",
   "metadata": {},
   "outputs": [],
   "source": [
    "def get_spectrogram(waveform):\n",
    "  # Concatenate audio with padding so that all audio clips will be of the \n",
    "  # same length (16000 samples)\n",
    "  zero_padding = tf.zeros([wave_length_samps] - tf.shape(waveform), dtype=tf.int16)\n",
    "  waveform = tf.cast(0.5*waveform*(i16max-i16min), tf.int16)  # scale float [-1,+1]=>INT16\n",
    "  equal_length = tf.concat([waveform, zero_padding], 0)\n",
    "  ## Make sure these labels correspond to those used in micro_features_micro_features_generator.cpp\n",
    "  spectrogram = frontend_op.audio_microfrontend(equal_length, sample_rate=fsamp, num_channels=num_filters,\n",
    "                                    window_size=window_size_ms, window_step=window_step_ms)\n",
    "  return spectrogram\n"
   ]
  },
  {
   "cell_type": "markdown",
   "id": "competent-newark",
   "metadata": {},
   "source": [
    "Function to convert each waveform in a set into a spectrogram, then convert those\n",
    "back into a dataset using `from_tensor_slices`.  (We should be able to use \n",
    "`wav_ds.map(get_spectrogram_and_label_id)`, but there is a problem with that process).\n",
    "   "
   ]
  },
  {
   "cell_type": "code",
   "execution_count": 16,
   "id": "normal-productivity",
   "metadata": {},
   "outputs": [],
   "source": [
    "def create_silence_dataset(num_waves, samples_per_wave, rms_noise_range=[0.01,0.2], silent_label=silence_str):\n",
    "    # create num_waves waveforms of white gaussian noise, with rms level drawn from rms_noise_range\n",
    "    # to act as the \"silence\" dataset\n",
    "    rng = np.random.default_rng()\n",
    "    rms_noise_levels = rng.uniform(low=rms_noise_range[0], high=rms_noise_range[1], size=num_waves)\n",
    "    rand_waves = np.zeros((num_waves, samples_per_wave), dtype=np.float32) # pre-allocate memory\n",
    "    for i in range(num_waves):\n",
    "        rand_waves[i,:] = rms_noise_levels[i]*rng.standard_normal(samples_per_wave)\n",
    "    labels = [silent_label]*num_waves\n",
    "    return tf.data.Dataset.from_tensor_slices((rand_waves, labels))  "
   ]
  },
  {
   "cell_type": "code",
   "execution_count": 17,
   "id": "awful-national",
   "metadata": {},
   "outputs": [],
   "source": [
    "def wavds2specds(waveform_ds, verbose=True):\n",
    "  wav, label = next(waveform_ds.as_numpy_iterator())\n",
    "  one_spec = get_spectrogram(wav)\n",
    "  one_spec = tf.expand_dims(one_spec, axis=0)  # add a 'batch' dimension at the front\n",
    "  one_spec = tf.expand_dims(one_spec, axis=-1) # add a singleton 'channel' dimension at the back    \n",
    "\n",
    "  num_waves = 0 # count the waveforms so we can allocate the memory\n",
    "  for wav, label in waveform_ds:\n",
    "    num_waves += 1\n",
    "  print(f\"About to create spectrograms from {num_waves} waves\")\n",
    "  spec_shape = (num_waves,) + one_spec.shape[1:] \n",
    "  spec_grams = np.nan * np.zeros(spec_shape)  # allocate memory\n",
    "  labels = np.nan * np.zeros(num_waves)\n",
    "  idx = 0\n",
    "  for wav, label in waveform_ds:    \n",
    "    if verbose and idx % 250 == 0:\n",
    "      print(f\"\\r {idx} wavs processed\", end='')\n",
    "    spectrogram = get_spectrogram(wav)\n",
    "    # TF conv layer expect inputs structured as 4D (batch_size, height, width, channels)\n",
    "    # the microfrontend returns 2D tensors (freq, time), so we need to \n",
    "    spectrogram = tf.expand_dims(spectrogram, axis=0)  # add a 'batch' dimension at the front\n",
    "    spectrogram = tf.expand_dims(spectrogram, axis=-1) # add a singleton 'channel' dimension at the back\n",
    "    spec_grams[idx, ...] = spectrogram\n",
    "    new_label = label.numpy().decode('utf8')\n",
    "    new_label_id = np.argmax(new_label == np.array(label_list))    \n",
    "    labels[idx] = new_label_id # for numeric labels\n",
    "    # labels.append(new_label) # for string labels\n",
    "    idx += 1\n",
    "  labels = np.array(labels, dtype=int)\n",
    "  output_ds = tf.data.Dataset.from_tensor_slices((spec_grams, labels))  \n",
    "  return output_ds"
   ]
  },
  {
   "cell_type": "code",
   "execution_count": 18,
   "id": "appropriate-circus",
   "metadata": {},
   "outputs": [],
   "source": [
    "AUTOTUNE = tf.data.experimental.AUTOTUNE\n",
    "num_train_files = len(train_files)\n",
    "files_ds = tf.data.Dataset.from_tensor_slices(train_files)\n",
    "waveform_ds = files_ds.map(get_waveform_and_label, num_parallel_calls=AUTOTUNE)\n"
   ]
  },
  {
   "cell_type": "code",
   "execution_count": 19,
   "id": "ed73179f",
   "metadata": {
    "scrolled": true
   },
   "outputs": [
    {
     "name": "stdout",
     "output_type": "stream",
     "text": [
      "About to create spectrograms from 126529 waves\n",
      " 126500 wavs processed"
     ]
    }
   ],
   "source": [
    "train_ds = wavds2specds(waveform_ds)"
   ]
  },
  {
   "cell_type": "code",
   "execution_count": 20,
   "id": "objective-consideration",
   "metadata": {
    "scrolled": true
   },
   "outputs": [
    {
     "data": {
      "image/png": "[encoded data removed]",
      "text/plain": [
       "<Figure size 720x864 with 9 Axes>"
      ]
     },
     "metadata": {
      "needs_background": "light"
     },
     "output_type": "display_data"
    }
   ],
   "source": [
    "rows = 3\n",
    "cols = 3\n",
    "n = rows*cols\n",
    "fig, axes = plt.subplots(rows, cols, figsize=(10, 12))\n",
    "for i, (audio, label) in enumerate(waveform_ds.take(n)):\n",
    "  r = i // cols\n",
    "  c = i % cols\n",
    "  ax = axes[r][c]\n",
    "  ax.plot(audio.numpy())\n",
    "  ax.set_yticks(np.arange(-1.2, 1.2, 0.2))\n",
    "  label = label.numpy().decode('utf-8')\n",
    "  ax.set_title(label)\n",
    "\n",
    "plt.show()"
   ]
  },
  {
   "cell_type": "code",
   "execution_count": 21,
   "id": "positive-honolulu",
   "metadata": {},
   "outputs": [
    {
     "name": "stdout",
     "output_type": "stream",
     "text": [
      "Label: _unknown\n",
      "Waveform shape: (14336,)\n",
      "Spectrogram shape: (24, 32)\n",
      "Audio playback\n"
     ]
    },
    {
     "data": {
      "text/html": [
       "\n",
       "                <audio  controls=\"controls\" >\n",
       "                    <source src=\"data:audio/wav;base64,UklGRiRwAABXQVZFZm10IBAAAAABAAEAgD4AAAB9AAACABAAZGF0YQBwAABBAbMB2QDJ///+9P4FAPwApgHgAQcD5wLvAOv/MQHzAfcAewGTAU8AzwCkAFoAPAExATUAAgBM/1/+z/5Z/1H/6f+z/2r+/P4AALcA8/9iAE4BZwBzAeYBkwGRAUcAUgDwATACgwGkAGb/pP+cAD0Ar/55/0IABQDXAPH/y/8FAKf+Wv7a/uH/uQD2/9H/WwFWAVoAhwCsAMEA9v+c//kAlABcAKn/Vf4HABwBVgHhAGn/KQH3AJf+uf+aAFz/XwDLAfQA3gEjAlkBvABQ/n7/uQCMAMYBTQDhANcAmf8uAYwA9/7//pYB8wFKAJQAEgDh//H///4F/gT9DP9CAF/+Nf4v/7kAnwANABcAcv5R//v/7v8FAqEB9v8E/8/+pP/S/lj+bP/5/wcAwf+x/0f/A/5V/gD+Cv7J/87/TwC+/7H/owHUAN7/N/+h/0oAR//E/gIACgDP/rb/kf+U/7b/5/7m/2IAmgCnAOwAcf89/sT+av73/gcAlwAX/wT/vwBkAA0Apv9m/6cAdgGiAIwANAHx/+n/RP9y/g8AFP9PAOsBzv9J/17/t/6P/lIANwDy/pn/vv/xAMv/3P7EAEcADQBc/8j9b/4o/qf+u/8R/1f/pAD3ALv/L//b/+f+8/1f/mz/DgFiAK/+ef+3APb/bv+5/4n/tv90/0T/qv6X/q7/ov7f/pIAEf+S/g//zP66/kcAnAAH//b/nP/e/3cAyv5k/+b/vv8fAOEA4QANAFX+Bf4qAJ/+l/5cADoACQEcAUwB/gCvAOgBTgHvAGIAqf/GAfIC5gFeAVICWgJEAVQARP++/+P/8f/cAEf/Zv3p/5sBpP8XADQBjgFZAeP/t/43/5wAmf+H/vT+/v85/+/+XwACAFj+cv5Z/6L+DAElAvwATQJGAfH/HwCxALP/kv5e/7b/pP/5/5cADQCW/xIAv/6X/vwAuQBjATMC3wAaAF3+yv6G/17/QgB3AJgC3gFa/uv95v85AT8APQDx//f+rAByAMz+P/+i/hD+Zf6c/xoAv/67/Vn9TP8dAAn/lv+5/2cAwQBNAO7/x/7k/g//mv5S/jf/pADJ/wz/XwAHAGH/fwDHABIAsf/B/wQBzwCe/4kB5AC1/V7/bgEBAQYBPwCp/8EA/gASAFoA+/+W/7wA7wBmAWICFgFqAA8Ay//z/6z/7wCoASUCUgI1ApkBYQFDAjcA1/6d/rr+lv/D/48AnwBcAPH/Iv4h//MBTwCl/kcAKQHrAf4AjP/7/8H/R//s/rv/BQDU/hn9Gv5RARUArf61/fz+LgH6/pz/R/8X/6YB8AH9AYYBkwFNAGz/xABSAPb/mf9X/w//SP55/zcAXf5t/vn/w//u/5YB8AEvAMEAQQFUADn/X/5p/3z/If8E/1IA+/8K/ub/JQBU/78AogBiAAEBigBHABUArABTAeEABQC6/h//BQBl/tL+RwBR/zUAWf/y/gcA/v/9AfABTAFEAZMBPAEHAPH/t/4//w0Acf+p/2ACNAOaAP4AawHxAOcAqf8h/53+NQA+AQcAiwGcAO7/nwD5/xQBbwCE/xUAjwBiAMP/dABE///+Zv+//uEAcwFcAGwA8QA6AFIAfwCk/1sBKwJaAEUAHAH3AG4BsAH5/2z/NAH+AF4BvwA6/rH/p/6t/gYBVACUAO7/5/4PAL7/u/0u/fT8iv6EACwBmQHp/+v9Ff5J//P9Vv1Y/mD9Lf6U/z8A8/9a/r7/eQHD/3f+nv+mAUwBpf5e//gB6AGMAEUA9ABPABIAEgCv/uv/DQCE/5z/tv/J/1X+Gf+q/jn/If9G/RT/8/02/UT/7P4dAEkBSf8CAL8AXv+Z/9n/WgCvAKQAJAGvAjMC/ADzAbABmQHx/1z/lACu/0oAjP/C/l7/jP/5/wT/af+x/wn/0f+l/sD99P5i/g3+qv49/lL+Sf/s/ir+/f1N/hX+fv0S/mX+Yv6t/kz//v+e/+D9C/21/T8AtgECABsCGwICAL4B7wARAfYBEQEtAlYBxAA6A5wDHQJcAPH/+QCiAI8A6wEPA6ACjwCs/3T/bv/5/2/+Wv5nAK4BjwCs/7wAvwBPAGQAyQCMAGcA6QCz/48APgFsALv/Xv1n/vH/lP9KAOn/Zv/IAWYBFP+Z/77/9wD7/+7/kgJsADoA4AGaAFoAu//w/Xb/YwG5/68ADgE9AEcAaf+2/1n/5P60/qQAYgJyAGcA9v/q/rH/NQD5/8r+Wv4HAOcAAv/3/v/+zP6q/nD9pf5s/woAZwBE/0H/mf8Z/xn/6/+h/2IAkAL7AQ0APP/6/tv/RgEaAPr+rP8BAQwBBwD2/wf/BQAxAZT/0/+s/wL/Z/64/Uz/nv9U/67/rv98/8f+Xv82Ab8ApP+h/5f+BwD7/yf/YQHsAOwAmgABAUIDaQH3AIYBRwBBAbEAGv52/V/+vP7U/pwAxABSADUArv+Z/8f+ov69/RT/6QAFAJoATQDe/1wAtv8E/3L+3/5E/3T/TQDpAKcAxwA8Acn/HP8OAfkARP8f//7/twAtAA8Apv/2/wkBnwCTAa8AP//J//T+rP8wApICjgEfAJQA3wLwAZQAWgBvAOkA/v8J/3/+Xv+u/2H/DP8q/in/Wf8AAJIABwDEADT/BP/BAGQASgAmAZQAkf/5/2n/sf9UAIwATwD8/kIA3wBXAPb/AP4G/ZH/3gGm/2n/TwBm/17/Zv/nAE4B7/63/nQAaf/K/mH/V//s/m/+yf+nAJT/xv9BAfEA2AEHA5gCuwGhAYkB7wAcAaYB8AG2AfP/Yf9KAI4BdgFJ/00ASQH5/3n/Gf8U/6z/JQDr/7H/YgB/AET/x/4P/3X+kv4c/5z/ef+U/6wAwf+c/+wAXABU/zz/DAFQAuABYQH3AGIABP8/AJICQwLAAYkBnQKcAyMCgwFvALH/9wAAAMz+rv9yAPcAJgHmAT4BAgANAKz/r/5N/mn/cgDr//b/uQDz/4n/HQBSAB8AV/+C/l7/7v+Z//7//ABTAXkBngGPAI8AQgA0/z8A2QDWAUUCuQBk/1H/VwCsAAIAvP5X/5n/ZP+iADwBWQHj/woAvv9S/gT/6/+k//j9Qf/u/6r+XP+x/4H/7f2t/qT/DP9HAAoATQCfABn/Yv6+/5n//P4VABoAkf/H/sT+D//8/rL+DP/HAAIAvP6q/tL+uv7F/Qj+Qv7x//wAaf+l/mX+8/3Y/cT+ov4O/X79//6v/pr+FQAyAKH/bf4K/lIA7v/6/un/ZwBBAewAR//B/0kBFAEOARH/r/5XAHz/t/4c/3cAXP/z//4ApwCwAcH/PQC1AkYBnwDz//r+pwANAHf+V/8U/67/+/+cAD0C7wBFAFIAjAD+AFwADP92//n/Uf+R/03+6f9p/7v9XwBHALEA7gFGAb7/VwA2AaT/FQACALv/XADz/6wAuQDO/1QA7ADb/8P/XwAXAPn/OgCsAAIAXv/pAKIA9P4o/kL++/9x//D9Jf4//1n/uf/sAEz/xP5x/8kAxAB1/pH/XAD7/xcAkgB3AMEAAAJzAV4BPQA//0ACswGjAfkAP//cAJT/VP95/+P/XgEvAEz/qf+MAFH/d/4aAMP/PQCm/1f/V/9w/Qn/D/9yALcABf4VAK/+sP0h/7D9Cv4w/o3+cv7D/VwAvwDM/mr+A/60/pT/Sf+b/a79MgDJ//r+BP9l/gz/Sf8U/wcALwBR/2T/PAGvAAn/5v8WAa8AawHwAVEB+wE2AS8A+/8fANwAkwHDAa4BqgLNAgwBYgCZAecAqf+q/qr+Wf+P/iIAuwGmAScD7wLnAgQD7ABbATwBEgDD/5H/nwARAUcAWgCTAVoAIgA/AI/+Wf0Z/RD+wv6X/gUADwNFAkQBNAGsAFQA3vx2/Rn/9P7r//L+//6M/5f+AP6SAhEEDQK3Akf/n/6m/xr+5/7W/9H/bv9X//H/TAGyAsICBQLrAQQDgAJfAPwAZQKBAf7/sf/HAMYB+AEjAvoCIgPjAaEBIQGwAegBtADuAVUCVgHbAdgBywHuAekAkgCU/5z/vgGZAckAL/9c/4cADQBHABIA7wCaABIAMgC3/pf+QgBaAFH/9wBsAFIA+QD5/1kBs/8J/0IA+/2//pwARQBiAB0AJgHZAEUAPQIZAbn/SgCm/wz/BwCSAPv/bP8f/23+t/6EAA0ARgH9AUIAUQENAE///gDZ/2b/wf+D/Vb9y/1c/GD9b/7I/cv9WP4W/Zv9F/8B/Wb9uP0a/Ar+QgCBAQMCjwDO/3YBuAFiAAUA7wDJ/0//VgG0AGz/6QDkAMr+kgCz/1r+aQFFAGwAUgLzATkBYf9J/0UABwCC/sP/lQL2AV0ClgFR/00AVP9i/hf/Z/6//gEB7gEBARkBsQC5/7H/lP8Z/6X+Av8CAMQA+QDJAPP/af/Z/2z/af/p/xIAkgCKAAUADAFOAZIAPAERAeQAfv/D/wIAIP4l/qL+xv92/0L+P//u/woAMgC2//T+Ev4e/Qz/AAAj/bL+BQB5/3b/QP7H/rP/Uv64/SH/8f9XAKz/Qf9FAJf+Lf4KAB//ov63/r/+pP/S/g3+Av+v/s/+AgCm/2b/6/+u//P/9ABPALEAhQLxAAcAfwDu//QAcAK5AFz/twBMAXYBpABBAZYBFQDpAKb/6//2/wf/rv/i/jUACgCl/nwA+wE/AJn/nACfAEQBxwJiAnwATgGaAp8AJ/+x/3IAkgCu/zf/zP66/ub//AC2AUIAqv5p/9QAWgANAIwArf6l/iD+Ov6aANv/lv9NAE8ApwAFAEn/VACpABQBzwBUAEQBGQGXAML+Xv+pAHoAngHhAE0AYwHJAHT/KgAHAL/+VP8dAGoAsQAAAFn/fwCfAMz+7/5V/gv9Xv2P/qz/Qf+L/Q3+BwBEAe8ADP/3/vH/pv+R/8n/OgCsAAUANP9H/5wAPAFnAE8AVACnAFwAYf9m/6r+t/5XAH7/3v+nAH7/Cf+Z/7EAtADrAegB9v/3/mv9/P7x/wAArgEJAQcAWP6O/QT/Qf8U/5z/mf/i/sr+PP8FABcA9P63/vz+If9k/z//vP77/Y79kv5U/7v/rAAWAWMBagCm/67/+/9iAAoACQHhAN8A4QCEAF4BjACZ/1wA6QAqAEoAPgHEAL8A4AGeAan/sf8f/2v9Av+e/6cAxgGm/zoA5v9q/sP/rv9p/3oAVwBu/0H/ov55/+H/Zf73/ir+c/1H/6wApv9r/ZX+IgBR/3T/8//8/o/+yf8uAb7/Yf8uAa4BmgKoARYBKwSHBQsEMgO0A/sBDwBbARQBGQGJAbwAkf/1/c7/iQFSAnYBqv6pAMMBSgAMAVEBTwDx/5IAZwCPAJoAkf88AQQBxv8NALP/YgCkABEBtABP/6f+B/8KAOv/sQD+AFIA0wGaAEf/tABX/1f8/fu8/hT/0P1d/rz8Y/1nAGcAlv8dAAn/s/9mAaT/sf98/3b/Wf9B/2oCwAF/AEgCUgJGAVwArv9FAAAClwACAJ4BsQCWAUACGgBZ/zz/Ef/2/67/Wf/7//H/WgD5ALcADgEnAM7/u/8//9b/Mf95/5z/qQBWAQz/SgBSAoEBkgCxALb/twBqAlYB5gExAS0AYgBU/wcAFQCz//z+D/8HAAz/agAAAAr+AgBB/6v9Of+t/hX+wv60APcAZv9sAPP/AAD5/8T+PQAxAcABRgH2/+EAJgG3AK8AsAGOAa8A1QL8AloCngH0ADQB7ADUAEz/fAD+AP7/Sf9o+3D7Nv1f/Bv9hPxp/Pz+7P4F/kf/8/+rAfYBRwCfAE0Akf+y/pP9KP7+/1z/BP1z/QL/r/7Q/aj9ov5vAPn/cf/z/3X+vf28/pz/JgEFAqT/yv5l/mv9Uv7L/Wr+u/89AJcAtv8FAJoAPwCZAUoDswGs/3EBRgFu/74B1QLnACr+Z/4E/1/+T/8M/7cAWwHZAFoCvACO/4/+pf5TAdn/rf5d/vX9Kf8g/rf+bP9W/Wb9uP3V/QX+pf65AIz/uv7D/2z/Sf9n/if/SgD8/o/+Xv8fAG8APAEGAaQAMwKoAQIATQCLAU0CwQBOASACZwDTAVQDDAEdAPQAuQBXAB8AigDYAaYB7wCJAZYB9AAtADIAwQAxAe4BXQI2AZIAnwAFAKkAEQGx/1z/uAFmASH/VP9HAPP/Gf/u/7z+NQCBAbz+FQCeAQEBYf8a/rb/PwBX/xn/A/4H/wAAkv5L/XX7W/vE/AT9XPwi/P78Cf34/YIA7wAVAOv/jP9e/xH/hv0K/uwAzAAAAHEBJQK+AYkBLgH8AGMBCwKTAT4B4AG5AA0AVgH2ATsCRwNIAuEAHAEOAZsBFgGPAFcDsgLfAPYBmgBRAZ4BRQD2AbYBmf8M/1wA9AAZAVsB2f9m/9n/nP9k//L+pP9jAekAs/+h/0j+DP8EATUAZf5D/fn/mwHsALkA2/+5AOP/R/+aAEcA/ACzAU0CkAKhAXQA4/+cAEoAqf9CAKMBhAAR//wA/ACsAKgBvgEPAMz+fv9M/7b/u/+n/k3+PP9PALf+VP9ZAQf/kP2k/17/Zf7b/5b/ff7E/p3+u//x/0r+Ov5l/gD+sv6y/sn8uP2l/rj9Uf9h/9T+qf9X/6X+Yf9aAOP//v9e/6X+6v4k//L+Vf5n/pf+WgAFABn/XgGIAqcC6AEPADn/sf9R/5oA4AHvANEATgE9AqEBKQGwAYEBuQCpAK8CrwJZAYYB/QGzAYMBLQJQApoCUgK8AMH/PQBbAf4A0/8tAOn/OQEuAbb//gCk/wT/Sv5U/2kB+P0A/qQAigBk/7r+4v7Z/wkB9wC8/hr+4f9p/xcA9ABkAPb/Cv6W/SD+BP/m/7b/DQD8AEEBjADmAagBaf9eAVACkgD+APb/D/8M/6/81f2UAOH/mv5k/37/ov6s//EA+AFYAuMBnP+v/rP9G/ve/GIA4wE1AHX+/v8xAdv/nP+sAFX+r/xl/p7/lP/3/k//Av+H/sL+vP5m/2P9bv17AZEBjABRAagBsAGAArwAsf+gAqgBZP+fABwBVAAC/1f/RgGOAUYBowGrAUcDkQPB/2b/xwA2AYcASf8zAucAr/wW/a79SP5l/mj9Gv4h/03+Qv49/r/+VQK/AET/QQFyANP/af/m/7z+VP+RAQ4ByQAdAEEBLAFh/w4BFgHc/hcAUQEAAOQAgwGh/xf/+QCfAKj9vf1r/Rn9aP0D/pL+Gf2p/1oCDQJMA0ME/wIwAtABIQFFAOH/RQDE/gP+Xf4o/kn9p/6vAG7/t/67/87/If9f/rj99/62/wUAZv/w/WwABgGCAFIABP9m/2r+VP+HALv/XP8KAP0BVwD8/lQAjP/q/nQAqf9y/v7/PwBP/2j9s/1d/jn/+f8v/xH/b/x+/ZoAT/8PANgBrv9k/7EACf9u/+b/cv4PAGIARwBAAkwBWgBEAUYBWwGkAGIAhAC2/9H/+/+kAIkBsAFeAaEBFQJPAO8AiAJeAd8AcAJBAar+EQH4AU0AiwE7Al4BQQGaAE8ARwCnAKkAav5U/xn/6v7ZAD4B8AGt/vv9sQBkAJ8ACQHr//r+vwCvALX9Yfyo+6T8Y/3D/cP/V/+h/1wAlwDgAZ8Axv9p/wUAsf9+/df+Zf56/vL+n/xF/hj+Af1K/j//mgAk/0f/vABU/wf/EgA5/2X+af8CAPv/nACZAWMB/ADZABgCXQIJAc8AlP/0/rn/OQEVAPj9BP/A/Rj+QgD//iIAvgHkAJn/Zv+eARACGAIkAdv/0QD5AJkBMwKaAlwDgAKeAVEDnwNMAeQANAGaALEAUgBNAiQDFAFLAtYBPAFuAfb/uQAXAJb/nACMABIARQBEAf4ARwCc/1wARwDv/qf++v5u/2L+VP/u/1L+R/9m/5r+Xv9HAFsBWQHh//L+gf/v/gP+TP+E/7L+Kv48//n/T/8UAT4BOgAHAEoAYQE5AbsBJQDh/9ABogBR//L+sf8fAAUA8//fAJYByQCjAQACqwENAPH/pACu/0UAjv8//9wAlgHnAFz/mf/q/rH8Nv0X/7H/LP+u/bT+Uf+i/qX+vf3z/QD+j/7p/6/+CP5Z/8T+Jf7J/7f+uP36/lr+8/0iAEEBUf+h/34BYQGm/xn/tABFAr4BZwCSAGH/s/0U/yEB6AGWAeP/bv+i/in/CQGZAWgCYQGKAFf/Yf+PAPb/MwJjAWb/CgD0/g8ATQA8/1wAdADL//b/AgAAAO7/fv/h/8/+hv8JATf/KgA9APn/UQGUAFkB7ABM/6f+BQAFAjwBXgEVAMf+WgDB/34B/QFh/4cALwACAHMBIgANAAQBwf86APwAWQG1AhoAYf+/AOv/+/1o/V8AFAEWAYkBrwBp/1H/xwA1AAAA2/+O/zIA/ACDAZz/uv6h/4T/lwD7ARQB+/8C/7f+SgANAuMB1wCOAaT/n/78ALkAXgHoAbb/l/5c/xoAcgAMAYkBowHxAJr++P2R/5oAEgANAJf+fv1CAB8AFP9l/qP95P5KAIH/u/1R/4wApf6m/a/+kf9iAPMBrACU/7b/u/9PALr+r/4C/2b9z/4H/1/+a/1s/O/+1P4K/pn/TwAR//f+xv9m/17/RP8f/5L+X/7t/W3+YgCkAJ8AZP+R/5MBGQEPAFcAEgDG/zoACQFNAukAAv8c/+X9+/1hAVkBT//v/l/+e/2J/2UCpgGJAd4BbgGfAJoAYwEOAYwAXADBALP/X/6d/q3+Ef/3AAQBRQCxABIAGgBnAF4BlgE5/xj+ev4C/zz/u//y/vD9RP+k/0z/XP+x/7gBoQFUALQA+f9s/2cAhQLxA9cAGgDrAVoARwD5AGH/pP84AusBpABsAA4BcgK0ALv/rv/t/RX+e/0f/1T/e/35/9kA5gFTAUX+fv1L/dP9ZP+x/00AYwGaAIwAXwC+/wn/df4CAAAAaf+sALwAmf9h/7/+If9fAIcA4wEpAZcAYwG5AK8AVwCs/+gB9gFS/ln/IQFu/+n/bwCl/rX92v4f/6X+6QCJAVcA3wBfAJH/IgAOAaIAMgBh/2/+9P5FAFkBPwAU/xn/8/9U/5T/YwEXAPX9AP6U/5QAkgC7//v/9ACoAegBCQHxAET/yP1t/hz/mf8HALH/V/+xALgB9ABKAFcA5v/B//v/B/8CAE4BQgBXAA8AUgDxAPb/Qf9y/qL+T////kf/qf8dAAoAhv/4AWoCIgCx/yQBoQGu/6T/qQD5AMb/ZAArApz/9/7sAAAABP/vAAQBRQCpALQAawHG/0X+mv5m/w4BFgEJAeYBvgGeAUYBhv9FAJcAof/vAL8Amf+h//kATwDq/rb/V/94/ez+RAH0AFoAQf9X/zUApAD0AOH/2v6E/yYBnwCq/m790P2i/vn/RwBS/pb/JAHuAYUCKgDv/mT/owEHAzwBnwBaAFT/n/52/0oAkf8NAE0AjwCCAKgBnAMJATz/0f9qAP4AXwA5/7L+pv+P/vP9Av/M/mX+/vxr/RT/V/8H/xz/7v/R/3H/Zv/RAD8A6f9XADT8R/xy/ij+Av+a/hb90P15/08A6QD8APwAzAD5/97/SgCU/98A5v/K/j0AbP+SAKH/D/9sAFn//P65/5sBngHz/0kBRANbAUUAuf8H/w0AggDDAWUCnwBm//b/7wDxAFEBiAKKApMBBwASAPwCOgOh//QAgQM5Aa4BSwKcAF4B4wFYAoAC2f/r/04BtACsAGIAVwACAJz/MgCcAFMBkf9B//L+uf9MAw8A1v/gAZz/OgBPAIL+Ev6R/00ASf8C///+Cf+f/j//jABEAY4BHP9H/98As/9NAKT/pf63AJIAuQCeAVQAmgA6AA//9P77/Qj+pv+R/zf/tv8X/1H/FQC2/3b/nP/n/qH/jP+v/lsBRgGp/woA9v/2/x//u/1c/FX+PQA8/7H/r/54/QT9zPyz//P/Z/7s/nH//v+l/m3+IQHoAbsBHwB1/l7/9v8OARwBQgBfAEcATQBE/1n/rP9HALgBrP+B/9wA9v/O/zYBrAD3/o/+0v5J/8j99PzC/pT/Jf5R/1cAXv9nAJkBTAGW/7L+Vf4J/V3+bv/2/5oC9wL+AMv/dv+rAXcDWQEvAIz//v8KAGH/RwBHAAoAfP8P/wr+B/+UAAYBpQJJAcEAVgFPAAYB7wCZ/27/uf9J/6b/t/5e/WH/+f+u/yQBTAGx/6YBaQG8/pkBywE3AGIApv9o/V/8t/5q/mz/GQH+/3H//P5Z/0UAkgD+/8H/7gGSArb/+/8uAe8AQQHx/wAALwBM/6wAjwAX/xn/BQBUAIwAjAA9ALsBGQHfAKsBAAAAAJQA7v8/AE0AigASAKT/xAAFAGr+uv5d/lD+AQEKAMn81/7C/o7/fgGa/jH/WgA8/2cA+f9CALYBYf+y/lL+Ff5E/wr+BP89AFIAdABK/gr+jP9U/67/BwBCADwBif9i/rH/TQBZAZYBkgBZ/7v/pP+H/kkBVgHM/gIAlP9s/wACWwGB/8H/cgAUAUQBSgANALQA+gKWBKgB4/+nABwBPgFPAOP/Gf+p/9v/d/6M/1n/J/8/AA//Cf/EAI8AOf/z/7kA5gHAAe7/vAA6AF7/nACsAIUC9wAAAD4BT/9aAKf+SP5RAVIAVACOAVQDhwNGAS4BUQFJAYEBngHfAPcAlgGcABoAhv+m/1IA+v6z/bv/9v/8/pcAiQH9ATEBZADSAsoCGQHqAhQBPP80/6b9Af2j/SH/Xv/+AP0BDQJNAv7/P/+CAFoAB/8NAIgCYwFo/Rr8GP7n/kf/hf54/Zf+B/+w/Z/8wP3Q/dD9w/3Z/J79xPwW/X3+c/2Z/G/8iP1n/p3+CgCrAZMBiwH3AoYB+/8JASwBwwH+/0X+zP5u/3cA8f8aAIwABQA8AZkBPgFZAcEApABSAE4BWQFUAGYBTgGsAK4BWwFfAOn/fP9kAAIA7v9GAfwAy/9l/jz/PQBaAE//VP+jARIAkv5F/g8A0wFi/mr+sP0N+yH9tPwi/CH9Xf7L/6n/WwHoAYkBPwPtAvwA//4K/gT/Uv5K/iD+J/xZ/Q//qf+fAAEBDQL4AdYB9gEtAMkADAE3AKkAUAKQBJACVwBZAeQAYgD2//n/BAFFAPcATQAJ/18AOgBCAEwB9wCcAJIAVADoAesB+/9kAGwA7wCuAa4BWgJZAfABlwAV/owAoQGbAWACAwLoAV8AVwCbARQB8QCZAUgCggB3/gAA9ADx/77/WgDp/+wAQQEXAKkA2v5S/qQArAANAGT/uv6y/uz+SgBXAOP/gQHsAKIADgFP//n//v+Z/2wABQANACT/GP5v/hH/Jf5O/dD9Jf5E/9r+xf1+/0cAbP/C/h3+Yf+3AJIAUwFeAVwArwD5//H/TwD3/kj+oP0J/8P/X/6C/t/+pP9U/xf/yf8/AHIAFQB0/xT/BQACAKb/Av+x/5IA0v5i/gr+tf1Z/28Abv+n/rf+Uv7E/lcAv/7B/G3+NP9t/v/+JP92/Y3+6//y/jIA9P5u/cn/HQA6AAcABQAKA+cCnAD3AE0ABwCk/+n/sAFiAEoAnABnAAUCTAOJAw4BRP8RAYsBDAHjAbABAABN/jr+7/5t/n79j/5C/n79HP/6/gAAkQFRAU4BkwGgAqYBNQA5AZoCNwMUA0sCxABP/6/+sv5Y/pr+nf7L/ej91/6y/hD+Mf+3/kL+9v/p/wUAVgFnADoANgHW/0//FQAP/5b/yQBeAakAGf9FAKQA3wCuAYkBxwBc/woAnP/E/qwA/ABHAJwA/P5V/uEAXgGiAHT/sv7j/wIArv+kAI7/Gf8R//f+BgGHALv/dwCnADoA/v/+/5IAmgBZ/28AVgGOAZ0C8AHTAcsBZgFvAFT/pAABASoAaf/Y/aP9wP0m/Vr+rP8C/2f+ef9SAKX+Vf5nAFsBRAFNAlgCngGlAq4BFgEEAT8AXAD2/w8A7v8GAfcA7wBpAcv/u/9m/wAApADhAJcAr/7//kL+Vv3I/Qz/SQGfABf/fv+8AJQA9/7v/loAlgGGAdkAtwA5AaYB/gCpAJsBsQDs/sz+B/83/2b/tv+vAFEBnwB9/hr+gwFNAlIARQBWAT4BVAAf/8P9Wv4P//z+Cf+q/mz/sQB5AccAPQAMAZIAOgANAKX+DP+pAKz/1f2c/BP9TP+6/n7/DwAX/yD+ZPz1/TL+T//5ALT+wf+O/7X9r/6p/5oABAGLAVoAlADTARIA5wCcAFT/mgCLAegBvADW/2IAdP86/gr+Cv7T/Wb9qv7e/5oA5v8h/1cAXv9UAMEA5v+nALsB1wJOAdb/RwBWAasBcQE2AbMBFQKGAVIAJQBqALj9Iv4E/5f+AAB5//EA0QAc//n/8/8uAQAC5gEcA9kAzP6Z/7P/jP9s/7b/Zv9KAEz/jv9CAO7/mgBK/lH/rwCk/24BFgHz//n/+v5a/nX+Wf8PAFT/R/8fAK3+vf33/p/+rP9nAGQABAEkAeYBhgFTAQ4BlgHzAUkBBQAA/hn/vAD+AN8ATQDhAE4B5AAVAK7/rP81AEIAif+J/1IAGQG8AHX+Af1v/mT/Av+U/wAAqf9e/3n/9wDvAK7/bwBvAAn/df4///P/DAF7Af7/UP63/mwAZAC0AOMBWgBiAOsBWQECAFj+Xv9NAGb/Xv9R/5b/9v9M/67/mwHDAZ4BBgGUAAQB7AChAUACpAAP/zz/ZP8v/67/+/8H/47//v+0/g//JP9H/1oA3wARAfgBkgIIAgUCVwDBAJ4B8f+pAB//ov6SANH/9/4g/rP9yP20/vf+Hf60/g8A9/5K/k//Wf8h/7r+7v+u/wD+y/8hARf/Nv1T/cT+Qf/P/qX+B//+//EApAAKAN8Ajv+y/i0Axv/7/18A7wALAsEA8/+iAJYBWQE3AAn/fP+kAEIAnQK1AuwAHwC8/gr+yvtj/Wr+0fzM/tX9Wv6mAd8AoQGRA08DEAKcAPn/tv+s/4H/v/5c/wAAtv9h/53+//5M/wUALQAh/x8AtwBvAEcA/gCTAdQAJAFQAj0CcwFwAqgB9P6s/5QAKP4S/tv/hAA5Ab8AlABRAfEAXwBZAbYB9v9h/3oAAgBM/2T/3P7r/9wADP+3/pX+Zv8XALf+Wf/r//H/tP7G/+8AF/+p/9f+u/8GAUcAVgFPAFACCgMdAMQAeQE2AbQAdgGaAggCEAKiAv0B3wAx/1X+yv77/18AXAC3AAoAPQCh/+r+vv/0/v/+pv8a/vP98f+SANb/lwBPALv/ZAAKAJ8A7wANAAUAnP81ACkBtwB0AKb///45//7/9wD9AVoC0QAiABT/Of+iABf/HwBWAXL+j/5m/zH/9v+x/7z+l/6k/6kAcQGLAbkAPQAE/7r+FP+l/l7/af9n/r/+Vf6H/in/xf2y/g8ACf+K/kr+lwD+AGn/SQFMAT4BBgGt/jn/ZwAdALcAFgG0AJsBSQG3AOMBuwG4AT0CUwGTAUcA//5EAREBkgBBAY/+rf7+AEwBDgFR/4X+TP/+AMYBzv9B/2oAVAAE/zr+Hf4E/2b/TP/7/2QArv9J//7/PAGnAGQAuQBP/18AnwA5/2QAuQDpAO4BTgHxALEA4f+5ADoASf9c/6H/8QBcAKX+tv9qANf+sv63/lwAMQHO/6z/Ef/7/cX9rf6u//v/Xf5b/fr+qv6W/W3+Av85/2b/TP9+/5b/t/7T/Y7/RgFGAecARwDkAOQAbADD/18AhgHPAA4BXwCPAGgC8f9qANsBBAGqAqH//vx5/3QADP/H/p7/eQGzAUj+Qv70/vL+y/8H/5T/XACh/28AWwG/AGIAkv5r/TT/Tf7A/T//Ev4i/sz8df5oAg4B/gBeAeQAkQGeAagBZgHxADYBPAHXAAwBXgHT/Vr8KP5t/rb//v+0APMBtgE2AXcAcQGAAi0AXP8VALn/Xv+G/xcAGf/y/gUApwAGAZ8AtABSAPP/BwAlADYBbQIAAgYB/gDsANgBhQI6AJH/yf9p/yoAmgBGATUCrgEZAU4Bnv8Z/1H/o/1m/yMCewEHAO/+Ef9cAEUA+/+uAQMC1wA1AMX9Hf7q/kb9+P22/1L+Kv5eAXYBWgDB/3/+kv6v/gz/jwBNABUAIgCz/7QA5AAGAc4B9ABRAfoCWwGe/zUAD////oz/CP7S/joAJwCy/in9av4I/j3+rACkAMn/B/84/hj+ov68/vP/4/+T/Zf+ef+O/zUAtwBE//v9Cf9l/lf/3ACiAPAB8AGPAFQASgCKAFQAAgB0/zn/QgAVALH/pP8CAJwAF/9//hoAlADhAJn/Of88AXQAT/+0/goABAGSAKT/pP8fAF/+Vf5Z/+QAZgEfAIb/ff7V/XX+TQCfAPz+CgDBAFf/PQAWAesB7wAR/6IAqQAKANEA8QC4Af8C7ADx/+sBDAHZADYB9wAEAYn/9P5P/6QAXQK+AZH/R/9HAPn/lwDm/w//vv8U/xH/qv4V/g//s/+2/+QALgHO/7H/Cf8g/p3+wQADAt7/d/6O/0oAGgD5/y8AtwCaAk0Cmf+7/67/Gf/m/3j9WP4eAab/HQBfALH/mgAdAAAA6/90/5b/Av+6/rn/7v+e/7b/of+7/3r+7f2h/wIANwCpAAoADP9h/+7/Xv9bAfYBnwDBAMH/hP+h//L+HQCfAKn/xP5h/1YB6gKZAZ7/fAAhAfkAoQHxAMEAsQBkAAgCtwCz//n/bv+oAfkAjAA0AVH/nAA9APv/uAGeAYMB3/6I/V7/Zv+u/9H/6/9MAVQA5/5FAOEA1AAsAQf/NP8NALn/RQBfAEYB0/9F/kcATAEyALH/kwHrAQoAtv+vALcArv90AEoAlf4C/7P/vv+XAOv/df6h/6H/Sv4fAAoAdf5k/37/xP6v/r/+zv8yAOL+TwAKAMz+//67/RH/BgENABH/SgBDAp0CWgBc/0cA4f/j/9P/s/9KADIA6f8R//P/kwHu/0f/SgCu/8r+FP+c/xIAXwASAAIAXv8H/yIAgQFfAPP/PAH3AO4BQwIUAbH/ogArAlYBmwGZAYoAmQE+ARP9Fv1M/7j9xf03/xL+Uf+EAEcAHwBfAD8D8AGG/0n/sv4tAFoAnv89AKcAbADh/+f+WP4d/hH/Sf9L/bX9xf35/D3+s/8HAAAAVAD5//X9Lv2S/v/+lP+p/1cAZACc/zIAcf8F/vP9/v/m/z//vwC/AOwA4wECAK79rf4AAKz/t/4Y/iX+1/4d/lr+qv5f/vb/YgAH/6n/+QBaAPH/pACTAVsBWgD+ACEBkgDO//z+QgDz/+v/J/8Z//wAUf8AANwAkf9SAB//2v7B/7b/PAFZAQ//d/43ADIAtwDAAQkBbgEBAS0AXABPAKkA+f+f/sz+1/68/kn/lP+7/2P9NP/eA+wAYf/G/2H/9gFaApMBngHvAI8A/v8Z/0z/TQCp/67/NAG/AMQAxwA6AM7/RAGfAzkBHwA8ARQB3gH7Ab4BVgFSAmIArv3J/wAAWf85/8z+TP+V/p7/6/9XAJ4BQQH3AFcAzwCkAIIA/ACnAJIAvv/5/1kB4wHkALH/AgBKALb/Sf+a/pz/vv9s/xkBnwCMAFcAPQBWAUH/af9KALP/8QBHAPH/BAFZAWcAAP5V/pIA5wCl/m79FP8i/tz+uv79/cH/VP9HAJ8AzP50/6cApP+0AOEAj/6k//QAbADr/5z/FwChAakAqf+nALH/ov4uAdcC7ACvAFoAuf+kALsBoAI0AZYBOgC3/qn/Iv6q/iUA9/7N/bH/L//r/00CbACk/1X+u/1C/lT/yQAf/1IANgEPAJkBqAHcAE8AHP8C/xn/BwD+AAQBNQL6Au0CWAJbAWEBP//H/nT/w/2E/w0Akf/8AC8AH//0/u7/mQHoAYQAtv9nALH/GgCaAJz/qQBvABcAvACoAQACmgBPADoAwf8/AN4BQwIWAVQAMgAUAWsBjP8R/1wAYv7A/QQB/ACS/pv9Qf2u/cv/7v+X/vn/OQEiAHH/af91/gUA8QA9AKwAtP6i/mEBrADn/ob9Uf0H/48AT/+S/sP/dv/y/lr++P2t/p7/y/9x/0//UgA8A+ICXACh/2wANgGZ/+wATgGu/z0AVAASANr+ff5iANUCvwIXAGH/Av/P/gIAyf/xADwByf8GAf4ADwCs/18A8wGnANv/cQHsABj+Q/0K/hT/8QBbAV8AnABM///+OQFnAKcA7gGrARUCNAE+AVcAXP9UABz/y/+SAPb/fv90/xQBlwDnAJAC1ACl/mX+DP+z/0//hwBEAQcAOgDm/9v/FwCnANkAEf+t/nf+jf4k/+v/DQDU/o/+JP9Z/8H/9v91/qP90/2//owABwBY/qn/qQCZ/5H/AgAAALv/GP7Y/UH/XwB0ACcA7wBPAC0AegBp//v/XABkAAkBWgCpAPkA1gFSAoQAWALfApIA8AGuAWb/n/5e/2T/Sf/IAa4BAgCPAIoA9v+/AO8ApAANAqYBEgAsAfQAfwABAWcADwABAZwAmv4C/8P/qQC0AE//yv4g/p/+pP8E//z+iQFGARn/Ef/a/vr+8/8c/9v/BwDF/Yr+Z/5Z/1wAUv7c/vb/5v90/1T/sf+h/0UA5v/v/q7/fACp/1n/jv9m/1IATgHzAZ8AZv/v/q/+9P5t/mT/9wC2/z//qwEc/3b9yf8o/v39av51/qf+Gv5v/mH/8/8P/33+sfwS/k8A8v67/8cArP8D/r39Sf++///+vABOAdr+ff7D/1IARQDW//n/UgBs/zYBwQDK/pEBcwGk/0//BQCSAOH/H/9P/0cA+f9SAK8AZwAxAQAAbv8xAU8ATwDvAJQAoQEFArsBngH7ASEBbv99/j8AZQK3AEz/PQC0AEUCPwM3AG7/+QAn/3H/9ADB/w0AAABs//n/DP+x/5QAXQJNAoH/agCs/7f+fP9qAFIAyv5hAQQBWf+3ALv/MQGfAPf+VwDG/7QAbf6j/VwAnf5h/87/LQD3AFQAjgHp/2b/VwDv/o7/pAA5//H/kgJMAUIAPwCc/w0AIwKgAqcAbADMAPb/VP9x/z8Aw/8AAN8AbP8dAGoAuf9k/5r+uf+z/17/SgDx/xD+y/3sAOICRAEXAEH/Wv5h/yD+8fxZ/wL/rf5XAPv/EwJeAUH//gD+AJcArwAMAQMCuQBXAOgBs/9B/1MB3AC+AecAH//x/6H/BwBUAFL+//77//L++/9s/1H/XgHzAU0A8v6e/2z/Of/5/wEBOQGXAEkBRAGPAN8Anv93/vv/PQCM/3b/cQGdAucATgG4AfkADAGPAEf/B/+y/gr+sf+iAEf/PP8n/8r+s/0Q/pT/sv6W/0UA/v85AdABUQFXAKkAuQDh/7wA+QASAKT/DwDOATwBxv9BAZYBYgDYAdEAGv4Y/tH8HPxo/fv97Px//BX+Yfz7+kX+Gf8V/mX+Zf6h/77/TP+h/6f+AP6a/scAigAX/1cAZP+Z/z4BOgBSABcAov6l/rv/agBEAWcA//5P/2T/VwBR/5/+Xv9i/mT/Yf9B/0IAqf+nAHYB7v+GAYkB7ACeAc8ASQHL/6QAiwHr/7b/pv+iABkB+wEDAj4BEQGz/7YBOALx/9cATwDh/8P/xP75/wcASf+Z/xoAqf8A/l7/2f/B/z8Ayf+RAYwA0v4FAEcAT/9c/4IA6v4P/xEBX/7H/p4BzADpAJQAkf98AI8A9v+2/0T/T/9U/0//uQAfAHb//ADx/58AEAJeAT4BbwAtAtED8gLAAVcA+QC4ASwDjAMvAFz/DgG8AFIA5v+5/00AiQHbAYQApwDcAHH/RwBZAZn/t/62/1oAigANAEcA1AAKAMv/VwCu/8T+sv4C///+HP9e/+z+Ef/r/5b/7P4J/x8AOQFRATcA0P0I/vP/XACcADIAuv4t/sP/2//R/57/+P1J/cH8Wv5h/00Av/4e/Z8AyQBcAO8AAABk/+v/XgFvAM8A+QCSAJsBPgEDAlgCEQEyALkAuQAJAT0CWgICAy0C8QA3AOwA9ADp/6sBYQFEAaMB2f/hAN8Aev4dAFQAZv/ZAJ8AkQGaAG3+Z/6UAJ4BGQGvABX+Yv6fAP4AVwBk/5n/vACPAPr+qv73/lj+//4HAJX+lP8NAAL/Xv2Z/HL+mv5H/1wAw/+u/2T/Hf6G/cX9Cv6z/4wA4v5B/woAYgCsALwAWQHpAHH/SgBEAVH/HP/r/TP9tv8M/6v9Yf+O/6X+B/8E/wf/lP9R/6j98v5iAAoAWwGLATkBEgAXAFUCAAAE/2cAN/+p/63+Wv6aADQBRgHZAOsBRQKxADIAlP+s/8n/pP+x/1T/CgBjAWkBYQGZAdkAAALlAjkB8//J/y4BHQD7/1YB8QAyABUASgDJ/9EAlAB5/xUAsf9aAKwA6/+sABQBJP+n/j//o/30/jcA/P67/0oA+QA8AQUAZP90/57/FP8x/yf/+/+3AP7/pv8FAF8AEQGk/8/+uf/D/W7/xADn/loA+//H/k0AlAASAA8AUgCy/gn/CQFUAPcAPQD0/o8ANQCh/4b/yP0B/c39av7z/bL+TQAVAG7/mv6X/pr+b/4R/wz/FwDL/6/+5v8SAIwAVADr/0EB6f+z/+QABQDZAGEBFAFkAJ8ACQH5AK8AZv/r/+H/9v/cAEcAjv8P/0IAYgCs/zEB5AANAPn/VABMAWz/h/4SADwBMQFzAV8Ar/7K/gr+B/8HAPn/pABU/1wAPgEeAYIC9AAFAFYBcwGnAFH/r/6v/sf+VP9iAL8AkgAwAqYBBQAdAL8A+QC5AAwBTwD5/ycAYQGyAlcAhv8yAK8A9ABZ/1YBmQGm//n/wv4JAeMB/v+mAQEBxv9CAFQApP9V/rv/UwEMAeQA9v9m//H//v+Z/9f+tv83/wH9zP4qAD8ANgGSAJoAgwGUAKIAMQEX/2P9tf2V/k3+o/2X/kH/YP1m/dX9+P0k/6v9Sf1Y/h3++/0KAJIAfwBMAVoAYgBR/+7/EQGU/+z+qQDhAEIAYAIxAcP/aQFpAUwBGQGfAPcAR/8h//QAFP91/hoAmf+a/sf+mv72/xcAUP6c/2H/8v4KADkBtQIOAYoArgGU/77/nADz/1wAs/8C/0r+FP9u/0UACwKc/1L+QP5n/gcAnv+O/wUAlAChAa8AFP/RAIoAFP+s/zUAbgHhALP/Av9FAOICZQLxAMcA+AEOAbQAUwHoATgCZADTAfcCLQJEA6ACtwDr/68ARwBM//QAEQGrAecCVQIMAUcAlADD/wQBtgFFAEoAOgC5/4z/JwBR/xn/hP8F/lf/6f+i/qX+9/6k/0f/PwAdAEX+7v9JAT8ARP+d/qT/wQCZ/z//Uf/B/0kB4QCW/0f/hADm/4X+JP9c/yz/cP1j/Qz/sP1G/Y/+GP4q/iX+uP0F/g3+A/7f/v7/RQBcAKz/Qf/ZAO8AHP9q/iD+Cf9R/2f+N/8aALn/tv8U/wf/Qf8A/vf+v/5v/nH/BwCXAO7/nAAyABIArAAdALb/WwETArH/pP8xAUMCXgH3/qf+UQFZAbf+cgAxAdb/8f8R/7P/pv8F/q3+y/3Q/YoA0QD7/2H/VwBM/1/+DwB2/0cAWQFe/wL/af98/6wAfP+cAOUC8QBiAGMB2QAyAPsBUwFkAKgBFgFFAqEBpP+xALQAuf8PAKH/pv9NAPb/0wFdAkYB1AA/AFT/F//r/2oAvwCRAbcAef+bAfgBRQDpAEEBZABNAAoA6QBpAZz/Hf5Q/qz/Uv79/UQBRwD0/qIAJwDs/iIAAQHJAOb/V/9iAHIA5v8f/6H/6QBcANH/ZwDB//z+jP9UAO8AFQDmAfwC8QA5AQkBtwAtAGT/FQBk/0IAuwFGAS//Hf6m/Un/sAHpAJcAp/53/rEAvv++/xUAZf5Q/hn/Z/6y/v7/uQBHADIAlABU///+BP/0/nP9fv2+/8z+fP+2/7H/tABe/1MB4wH8AFEBVACSAEcArwCEAA//mgCeAZ8AlwBFAPH/kgA3AG8ARQBP/8kAYgBaAMABZAAqAPEABQKDAfP/bAAM/0n/TgGMAOP/WgCUAGT/MgD0AAcAcgBsAPn/nv/H/gn/7/52/+b/Iv6P/gcAVwBNAGwABgE/AGT/hv9aAGQAyf+vAEEBFwCt/mL+dv89AA8Amf8K/lz/AgAI/kcAkQFP/xX+Iv71/RX+FAGnALP9pf7s/pL+D/8K/gX+cgBnAKf+FP+e/xT/PP/3/rz+cf+3/oH//v+//vv/jAB/AJIAmv6H/sv/N/8AAMH/GP6s/7H/9v9UALj9Hf7C/vT+dv/v/t7/pv9m/wQBFQC+/18A/v/pABEBMQFBAVQAZv+p/z0A/gCTAfwAMAJZAV8A5gHcAAAANQAPAFEBewGfAPb/LQAR/7j9x/75/+H/3v8NAPP/OgBUAL7/Sv5N/vP9u/08ARYBWf9PAEoAaf98/3z/af9FAOP/5v9CAGz/pv+aAAUATP+Z/7P/Ef8l/uP/mQFGAZ4BQwITAgsCmAI5AQAC5gM9AqgBSALqAgMCzABwAqgBZgEAAvb/VABcAJz/uf8U/2T/NAHh/0b99P5e/xP9vPyp/Fv95P7E/Fb9Kf9v/rkA7v+cAIcD9gF7AWQA7v/vAHIAhP/Q/SD+L/9h/3H/FP+XAP4AXP90//7/RwDeAUsCDgFUAHYB5gFEAVYB2QBNAAUAhADxAFQARAHFAg4Bpv9zAfICzgOCAqcAFQAi/hz/OQE9AD0AGgCcAJsBcgCfAHEBWwHj/7QAIwJnAK8ArwBSAPEA3ACpAPYB8gKJAQgCkgJZAagBkQPyApwAVACp/8f+b/4D/h3+rf6c/wT/b/4/AIMBegBqANcAXv8f/wT/EQF5AywBTgEpARz/N/92/wcArP/P/v7/2wEvAOz+9v8RATsCowGvAFQAnwAFADz/NwCGAQYBnP9X/1r+UP5m/9z+TP/e/2T/of9kAET/jP9KAOb/KgBR/6L+lP8NAg0C/v+W/wz/RP8E//j9nf6i/vf+qv6v/m8ATQB+//P9Z/y0/gUA/P5K/v78Uv7HAC8ABwCR/53+Ef9d/pX+QgCXAKz/vP4C/7v/mf8CAF8AFQCR//r+VP+/AB4BVP8HAGYBDP8Q/hf/hwDT/zr+Av9S/kD+7f1t/tv/Gf8H/wL/pf4t/kH/dACsAPQAAQHBAD0Asf9U/9cA6AH0AAcAZP+R/57/0v5k/zz/Av+c/5j9bv0C/9r+Sf/q/mb/XAC0/q3++v46/gX+3P5SAKb/dP+s/wIAnAC5/08AnwBR/0f/AADB/+H/sf/7/yIAYv5C/vL+uQDxAJn/qQBvAEf/DP+N/rL+Yf8Z//P/BQDmAaoCTwA9AEoAFAEIAoYBNgFFAP/+AgBiAJ/+AADx/1IAiwH5/0EBFgFM/5wAFAFMAasBB/+i/mz/D/9K/gf/mwGxAG8Avv9N/i8AAgCt/vr+iv73/hcAY/3b/ST/tPxv/qb/nP9qAPH/AQFMAaYBqwGW/5/+Bf7F/Z/+Lf4Y/qX+xP65/3n/5v/rAfwAAgAcAa7/FQC2AWcAwQBmAaQAVwCRAb4BTQDsAEQB8QDZAH7/5v9PAOcAqQCnAL0C2AEMAVMBLgFZAVkB8AE8AUcAowGOAaIAqAG3ADQBvQKPAF7/DwAR/3b/twCnAFICtwI8AfkABAGuAV0CTANUA4ICugIxAVz/yf8AAGoA6QDb/wT/RQDkAC8AAABUAIoAAgD6/sL+Yf/0/ub/NQAE/yn/VP/W/7L+8P3fAMsBRgGhAVYBOAJQArH/ff5g/V/8y/3l/ev9Cv4i/pL+9P7H/g//EQGiAIcAXwDx/1cAXAARAWICBQLL/17/Z/5B/Wf+qv4J/57/6v7x/3oAwf/B/wEBdgFUAKIAQQFuAU0Aw/9cAEoAqQCpAEMCIAKCAJYBmgCnAAEB6f9KAG7/4/11/g//9P4FAAT/Nf4AAJn/r/6+/5H/Av+t/gL/u/+h/xIAof/D/2H/7P7vAJwAOf+fAIIAvP5PANn/Z/4D/hf8v/sr+w/8B/8HAL7/GQGZAbkAogBaAJQABwDcAHEBMgBFAAIAHP/P/rf+Zv+z/8b/2/+l/sL+tACMAOEAhwCP/jz/RQBCALv/ZP+m/xoAQgA8/zz/DAGBAcH/2v65/z0A9v9+/5T/rwCp/x//WQHjAQAABQB8AKb/9wDxAEf/T//pAAAC6wEjAjQBVAA7AlICpgErAtcAs/9OAegBYgDfADEB6f+x/xz/HP9Z/6T/ZACE/xUA1AC0AI4BGQH3ABcAwP3S/gAAJ/+M/6L+uv41AKIAmgACAFIAsQCiAHoA9P7i/vH/JQBM/0//LwCu/xT/pP9SALr+6v7UABz/+/1K/j3+fAAEASf/vwCiAB3+tP5m/xn/Wf+RAVACpwBX/+b/lwD8/qH/RAH3ANEA8f/z/+wAbADsAKgBVABcALgBCwKEABz/FwBeAbABOgBUAOcAJwDkAFoAnP+7/2n/of+0ALcArP9HAKgBPgHvAEMCUQFHAFYBTQBJ/6z/mf/BADUA5v9aAEH/s/8uAYMBRAF+AUgCAAKu//T+PAEGAVf/ZwBhAXwAqQC3ApEBrP8KAE//2v6u/4oAdAC+/7H/B/8y/u/+VP+u/xf/7/48/7z+CgACAF7/TQCR/wz/GgDv/u78O/1Z/3wADAFEAe7/pv+aAGoAXwAhAakA0f9SALEAOgD0AAsCrP+8/Mj9nv/4/cP9TwD0AAIAwQDYAZb/Of8Z/xn/VACO/+ABwwHE/qIA4QDS/g8AvwB+/1f/yv6f/loAGQFX/1z/1v/8/qIATwBKAMwAWgCpAKb/lwCxAPb/PwCsAFsE2gKK/pz/tv/T/V799/4P/1D+t/5S/gT/R/9S/k//t/5C/lkB3wAQ/gT/NwCx/3z/rP9cAAwBT/++/6YBDAERAe4BSwKKAA//FP8y/vb/5wDBAGcAUv6x/9wAYwGYAi0CZP8F/lIA6QDfADsCkgIOAfH/NwACAO7/cv7F/Wr+UP5V/iP9f/y0/Dj+R/+0/sH/s//y/sn/vwCz/1/+4v64/Qn9AP7A/UH/r/5a/moARQAEARkBvgFJBCsErQL/AvgBjgHuAysCMgC0AKwA7gEUAZ8APwD6/qQAXAD+AKMBNwADAkYBkgDgAaMBfgHz/+z+Sf8///z+Yf8X/6b/rwAVAO7/9P63/hUA4/9CAJIAqv7K/rb/hP/e/2T/DQA5Afn/V/9KAKz/ZP+m/0r+v/7D/xf/cf8R/1j+dv/E/pX+UwHcACIAmwFqAL7/XADJ/+n/9/4s//n/bv3D/d7/OgBnAMz+DP9R/zoAxwABAVoCAgBE/8b/bv8M/yP9nPwF/hX+c/0KAJEB5gFJAff+PgE2AWr+B//m/6H/B/+j/fv9sf8U/yn/If9M/xoAYf+k/8r+bf65ALH/uv72/8P/w/8fAK8Aqf+7/7ABYQEaADH/dP+x/8b/nwA1Ar8CPAG+/1wA+wEEATYB5wJMARQB9gEMATAC9wC/AIACagCz/wf/HP90/1n/UwE8AdP/y/8ZAVcA4v4t/iH9rwDvAjUCrQLzAc8Anv8JAdQDZgGZ/zYBOgBE/7b/RP/m/00AZP/7/8wAEgAvABcABAHvADUApAA8/0z/nf5q/pr+/f3EAHQAyf9RAen/Bf76/r8APQBU/4oAOgBU/98AVABX/3QA9P4//+kA/v/kAAwBtv8SAAn/q/2w/Q//+/8U/17/xP4E/57/8v75/4z/Uv5l/mr+D//L/zIAYgAh/8v9K/0e/XL+FQC+/5b9Kv51/nD9u/0o/j8A7gFrAWEBPQLoAWIAcf8k/zr+Wv7v/hf/Ov64/QAAnP+H/hf/Xf6d/i8ACgAc/1f/Av+x/0cAw/9X/8391P4X/8/+6/+3/jIA9gGuAQ8AIgBVAgkB8QBZAQEBnwBU/w0AGgAaAFQA/gBOAdf+A/44/rz++v6n/qr+q/29/az/yf+PAIgCbgHfAKoC8QOIBCkE9ANXA5IA3ADaAl0CaAIgAikB5ACUALkAw/8M/4wAcQGmAe8Adv+7/5EB/QFxATcA8v6h/9H/bACeAYUCBAM/ADoAEgCi/koAlACs/8f+rf6y/hz/1v9c/+/+TP8M/zX+Ev67/db8b/6KAH8AUQFmAQ8ABP9F/lH/twABAb8A1ACDAawAvP6t/jYBCQEC/+P/TwBe/wcAogC3AEUAWgA5AQcAsQDcAN8APwAZ/yEBVwAFAMb/Vf7C/rT+nwBfAMf+6/9jAd0CkwEGAaYBPQJVAloANAH2/7X9FP/4/bj9bP95/+T+Yf+mAfcC/ALBAGMBrAAi/gkBrP/Z/58AIP6J/1cAvv+X/kn/ZwCa/l3+XACOAU4BcwFaAFj+XP/8AFsBPQCc/1n/8fxX/Jb9Uf+k/+39Hf7D/57/ov4HALP/jf4XAHz/av5q/if/nP+1/bX9Zf4I/l/+TgGcA2ICHAPiAuMBRQJeAUwDWwSeAbQAowFYAqsBUAKeAUn/UgBc/7b/fgFm/+kAmwHD/7kA7wCrAf0BNAFjAVIAwv4HAIoAwv7F/fj9F/+R/47/5ADm/5L++wGIAi0AlwA6AD//cf9v/q79Pf7S/sL+c/2k/BH97f0i/gf/uf+M/8r+8v4AALP/rv/5/6b/9wBjAQQBLQAg/m/+vv++/yj+rf6nABoAlf6L/Xj9CP4M/5H/bADpAJ7/DgFpAYz/VP9K/p3+Wf0S/Ar++fz0/M/+bf4p/b78SP6G/34BogLXAjwDAwJHABf/Av/6/qIAEQH3ADQBpv9CANkA+AH1AusBFgE+AQUCof8M/4sBw/+8AAACWgBZATcAmwFpAwsC9QKeAZ8A8QDTAa0CwAFGASf/Wv7L/SD+Xv8o/jn/9v8X/wT/of9sAAIAFwAC//399f3D/Yr+xf31/fD9kv45ARkBuv5O/Wr+6v5P/+7/CP53/uz+i/1e/QD+pf7E/oz/AQFFAhACbgHfAGQA/P6n/gkBvwAAAMb/ZwC4AZEBswGmAaoCTgGx/7MB7wBB///+R/+Z/1z/EQEnA6ICqAFsA48DnwBX/0T/9/5H/37/ff5o/fD9vABNAqMBUgJKAzwDVAOtAuQAOwKyAqEBrQJYAiQBCQHjAdgBRAEuAUgC2wQmBDYBRAHsAJoA5gF+AWMBqAHgAQwBlwDhAA0AlwB+AekAHwAJ/6D9qf8e/WX7tf2t+5H8av7K/p/+Cv5Z/5wAAACm/zz/DPyy+/f7ZPxX/7D9b/xf/mX+cP2Q/QX+FP9m/9j9SP5CAF7/WP7G/1T/y/+4AZ4BmQFyALwAjgGp/0UA8AH5AEoAcgCCAKMB+wFlAogC8AE7AkEB/ACUACUC3wJMAaYBpv+j/dH8mfxD/bD9pf6n/lz/lv8X/7n/nv/B/0//wv6M/5/+r/4J/6z/7v/2/1wADf7p/wMCXwCPAOYBQwJTATkB5ACkAPn/F/8SABcArv+m/87/7v+e/+n/nwDMAA//pwDjAbwAyAEU/8X98//vAPABMQHD//7/+f+5//r+m/2Y/bX98P0w/nP90/2i/rQATAGm/00AnP/e/00ABQAtAAb9q/1MAa8AN/9aANQAsv4KAKYB4QBpAWIAQgARAeEAzgEzAqsB+QBEAe8ACQFAAi0AlwDbAdcAqQDoAXgCTgGjAfUC5wI8/6P9BwB0/7z+Zv+J/2YBKQFp/+wAAQHr/1oAmgC2/2QAkwFMAUEBDwDT/5IA5ACZ/xUAnQLuAdkDPgS0AHn/A/7x/BX+W/0A+/z8sP08/B79/vz4/Wr+sP1M/5n/6v4a/mX+9v/HALkAVP92/aT8Jv1a/m79P/y7/fT+If9R/939Tf5NAKkAUgBXAEoAdACMAA8A8wH8ApkB+f98/33+Tf75AI4BowH8AggCwwGvApoAV/9fAK8AWgCW/00Aif/E/vL+r/5GAesBMQGkAN7/pv9p/wn/Hf5S/oD99f2U/6n/GgBaADoAXP96/q3+Kf+XAAEBGQF+Abb/pv+3AAAA+f+7/x3+bv26/mr+yP1c/xz/Yf9R/2f+6QCxAB//uf+fAIkBZAAVAGcA7/4H/zz/rv19/rwA5AAHAKb/+QABAaIA8f83/1YB9ADE/n7/nADj/1sB/QGXAP0BvwJEAfn/0/+0ADwB5wCoAbsB6QAHACT/vABNAjsCxQKgAuYBGwKyApkDUAQxBNsEnwMzAkAC/gDYAS0C8QBBAbQA5wCe/23+4AHTAWcA/gCp/9b/HQA6/mf+j/6l/vr+Xf7D/7b/nwDmAVz/X/4J/2T/Wv4y/gn/vf21/bn/XADu/1H/x/5aABoAZP/7/wf/yf8HAKb9tP62Af4AR/+t/rr+df5f/hD+gP11/iUAPQB2/zn/FP8FAK8ABAHuAYsBAgDvABsCBgHnAFUC7gEnAJH/p/4w/oQAYgJSAkYB7AAhAacAUgBjATkBBQDz/47/vABSAO/+9P7z/VT/AAA///b/6f/+AKsBN/+c/2EBPP8Q/gwBBAFc//L+j/5XALH/Uf9EAZ7/nADWAS//0wFIAgn/7wCh/2j9r/5S/qv9AP7//r/+Av9P/xf/DgFhAUcAjv/D/yoAl/4f/28A5AAGAWn/tP6W/zYBTQKkAPv9sfxp/Aj+H/9q/jT/rwDsAPv/DQAtAIn/Ef8r/R3+6f+H/qX+uf9FALL+sP1R/7v/5P6k/yUAFwCRAZQAwv6MAJsBNP+s/1QAwv5HAA0Apv9h//T+RgERAYQATQDE/h0AAABOAT8D7wBxAa4B/gDrAc4B1gFHAGH/VAAeAawAYgCxAJ3++f9EAYz/lv9X/5T/V/8aAFkB7AA5ATYBZwBUALH/8v5Z/1QAnAAKAPn/WP67/Wr+Zf5R/zH/Qf+W/yz/EgC4AY4BnAADAq7/s/0HAD8ApgFAAkn/FP8VAJz/8f/z/5cAigILAnkBwwEfADf/2/+nAFcAf/5cAMMBHwAKAL7/igAqAzwDeQFfABcAwQB/AET/r/5I/hL+Yf/c/qj9cf+z/xH/vv8x/6T/YgB5/1/+rf6s/zIAnv9J/x8A2v6n/vr+vP5B/5v9rP/uAewA9AAMAdMBzABRASkBAADuAacA/AD7AQ0AWgA9ABIAogAh/zn95f1d/gIArgEXAEUApP+2/98ACgByAHIApwAVAHL+bf6m/fP9TwAFAPn/DQJdAukA3AC0AEoAwAHkAFz/5gE8AYH/rADZ/+/+Uv4q/mz/ef+R/34B7gHz//cAsQC7/xkBAv+c/57/dv0BAVIA9/48AVoABP/G/zwBSQEkAUUAmgDsAEUAsf9T/cX9s/+U/48AAQGkAAcAqv7s/vv/Zv8dABUACf3Q/QcAYgDp/yX+aP2b/bX9Z/6e/3X+XP8yAGT/eQERAbkACgDx/AX+xv9C/tv94v7n/rL+f/74/Xr+CgB/ADwB4AHu/2n/NQBTAewDRQL5ADwByf+k/7T+AgBSAF3+DP9u/wUA7v+m/+MB0AH7/zYBRAFA/kb9yv63/k3+Z/5V/gT/AABpAU0CmgBSAO4BNQBXAN4Bbv+R/zIAtP5x/5cAlP/D/Z3+v/6m/S3+n/5PAKkA3v/B/7f+T/9l/hn9R/9Z/9r++//z/6kAiwEDAgkBnP+n/oj9T/+cAAAANQIEA1QAw/+s/2r+rP9X/xT/vABBAc7/X/78ALn/zvxh/7b/Kf8a/rD9WP4d/hcAmgBNAKwACgAR/1n/ef9m/RL+pwBRAU4BZgHgATMCmAI5ASgClwNmAakAVACIApsE7gHeAWQDZwMVAvkAQAL7AQYBQwJ+AVwAUwG+AVgCTgFJ/zf/T/9f/lH/vwC2/98AnwC5/5MBtABHACwBogAvAMv/NP8f/xn/CP5V/qv99f2u/+r+CgBqAOb/DQB2/w//d/5p/47/lP9P/03+DwASAMb/RAHm/9v/cgBn/iL+xP5J/z//Gf/r//H/Ef9Z/xcAtwAQArsBlP9e/2sBwQB8AA4B4AFiAloArv83//z+lP/6/lj++v62/xIAqf8P/w8As/90/+wA4AFbAaIATQJSAtQALQKoAfQASAK+AZ8ARQBHAAT/HQCLAQIA4wH3AFL+nwCjAVkBBAEJAaIChgHp/1kB+QCm/9cA2QA/AFH/Av9I/m/8C/3t/UX+sv5Y/tT+1P7Y/Rr+i/0N/q3+B/8J/z79av6fAAkBEgA6/r/+h/4F/on/dv9p//H/uf/3/mEB2wHu/2YBnv+q/uQAbwAJ/6H/iQFOAQQB/QHCAjQDLQJsAB//XAAkAcwAJAGn/rT+twCu/1j+Wf8/ALL+3wBWAbr+Zv+k/wUAQgBu/2z/7wDPAtoCegKJAaMBsQBt/nP9uP2s/7P/3P78/lX+/f1q/tkA1wDs/mYBcgL4AegBbACMAJIAQgBfABUAhAD+AGoA+/9HAOMB+AGCAI8AMgCMAAsC6QAKAHoAsf9Q/v39+f/gAVgCswFTAawAOgBvAHkBvwKiAMz+FP91/kX+Wf3E/FX+pv/E/pn/gQGrARQD/wI9AvYB6f9m/6IAswE9AL/+PP/1/Q3+Z/6r/YH/wf9Q/gP+s/1R/Z/8UP6iAAYBlwCn/in9//5GAab/lwCCAloAsf+pADEBiwFRAfr+dv3w/VP9uP1P/7b/u/8WAQACmwGuAVEBSgA5/0f/YgCSAEcA7wBoAjID/gA3ALsBrwAR/0r+D/+R/2z/5v8A/mX+DQBk//7/RQBm/xn/wf8MAeEAUQF9Arv/Z/46AKn/bP+u/5H/jACcAE0AL/8H/xQBBQB6/vT+qv6x//ABWQEuAXIAnv+bAQAApf4vAMEAMwLHAL7/qAGfAGz/zP7C/j//rP9NAO/+Xv/E/r398/+d/ir+1v91/u/+Of+//hYBUwEeAesBRP+q/k4B/ACf/ln/pACe/7z+6P0R/5z/Kf9BAV4BbwCLAYoC+gIDAlwAcwFqAKH/tgFyAMP/6/9k/1cArACMABH/vf2s/z4BKgA5/xT/XABXACz/nP+7/68AWgC2/3oAPQDh/0n/PQAGAab9Vfur/aX+Df6J/yX+CPuw+z79/f0U/1f/u//+AEUAZADrAagBZQJIAtMBqwGO/0//uf/z/68A7/5Q/kz/bv+nAPwALgFEAR0A+v5d/uT+lP+x/0UARgFRAZgCYAJaAFz/Tf5X/zr+Iv5/AHb/XwBqAugBKgC7/4wA3wBbAecAnP+u/wT/Cf/BAO8AaQE1AP/+mgCeAZz/xPyg/ZX+dP9SAPT+7P7C/hj+X/5v/rn/1v9H/2T/z/6t/uf+2f8UAdwAPf4V/sr+Pf4g/qT8Wf0J/8L+/P6p/3H/HP+MAE4BVACoAa8CT/9L/Q////4U/7QABgFSAFT/6/9nAOwA4QDMAOYBwf9s/xgCLQKLAcEAMQGWAQYBMQFWAVkB9gFuAfn/qf+z/6T/pv/kAF4BRAHpAEIAEQGrAcb/lf5M/8f+rf75/6n/DP+7/1QAOgBx/8P/nP9s/woABQC3ALQAYf8XAE4B8wFWAdH/SAJQArv/sQBCAK7/BAERASz/Qv7e/w0AEf+m/6IAUQGzAeQAs/8AADwBrwAlAIwAnwCZ/wUArv8E/Qn9IP7J/2H/X/5qAHH/p/6sAL8A6QCQAt4BTv3a/p4BZwDkAJH/ZwBDAgUCZQLrAaEBWQFCAEf/Xv9cAJQAEgASAGMB9gF0AE8ACQFKAKb/w/+nAGsBdgFSAP4AQALxAIwAT/+m/2ACAQFE/+kA+f8v/6T/PP8aAEQB6QAh/7H/FwDD//P/FP+k/2cABwCpAGwArv06/mz/DwCyAu4BcwETAmoAlwAdAFT/UgCW//H/oQHxAEoAVADL/6n/Zv/j/YD9Sf+c/8f+Av/S/nL+Vf53/kH/P/8///cARAFP/+39NPz8/MT+HP8AAGEBagJMAQ0Au/8V/ob9Sf+e/+T+rf5R/xUApv9k/3cApwC/APwAqQCMAIoArgEvACH/CgAs/9wA5AA9AGsBggDx/w8Afv9v/v7/LP/A/QUA/v95/7z+/v+vAAf/RwDE/gj+rv+x/6QAXAABAVYBuQDCAtYBEf8iAE0A//5c/wAALAFCAL/+wf/G/17/Yf9f/sH/CwI1ApEBnv/3/qYBQAIBAUEBDwBe//b/+/9aALn/nACoAR8ATQDnAM8Aw/8J/6IAIwIlArEAkgCWAS4B+QDsAGEBVQJcAPn/qAGSAKcAnwBs/7cATwCu/+r++P2fAB8A5/6k//4AMwLJ/6b/AgDN/Uv9JP+vAOkA+f8h/8/+wP3T/Rr+BP9S/qv9nP/K/gP+cv5u/wYBtwAKAPP/Xv+h/7H/Sf9e/xT/DQAyAFz/V//j//H/hv8HAPT+wP1Q/vv/XgFAAj8DXAOqAgwBXwCRAVMBSgCu/wQBuwFPAI4BgwEU/6n/4QCu//T+XwD3APb/pv///sn8A/5FALf+Yv7p/6n///5Z//z+jP8MAQQBNQBTAQgCTP/B/xMCpwDpAKACMAIMAwUCbv9R/1j+V/+MAGIAwf/H/t8AuQAP/7kA0QCh/6MBTwBm/ab9wP2q/l79TPwt/vz+AgAC/yL+R//r/V3+Sf/Z/PH8Cf8s/xj+av4S/n3+J//N/Qj+mv5m/wEBOAIvAFH/tABUAB0AwQA8A2ACw/+k/zL+Wv4R/wz/hAD1AuABDP86AHn/Vf7B/+v/cf9p/xoA5P4i/mIAaQHoAS4BGf90/6wADgFOAZUCpwLuAaEB1v9aALQA3P58/1cAvwC3ALb/4//G/1oA7wDT/7P/pgFeAfv/EgC5/5b/BQBx/7b/wAHsANL+Cf/K/kn/TQCxAPMB+QBsAFsBMgCcAKb/Qf9PA0ME5gFUAPv/WQEYApb/j/zu/PX9v/5XAFf/0/28/u/+v/4HAGIAz/5R/0kBNQDH/vL+CQHQAbQAZwCp/4oABgEJAUwBDwC2/5oA9ABZAeQAof9P/7b/GQH0AD0AXv+sAFQDVwCu/+wAYv7O/PH89/7L/zT/DwC2/9r+nP/y/pv9BP+sADkBPAHUAHQArP/H/mr+fv9aAFQAnwCvAAAAT//h/w0ARQD5AAsC7AAZ/0f/lv/C/mr+ov4X/4cAXADO/xIAUf9Z/04B7ADr/+cAVwCz/zkB6AGPAL7/V/9Z/R3+rP9b/SH97v9CAB//pAD9AZACEwJp/6H/sQAM/3X+Ef/0/ub/NwCa/hj+yP3Q/Q3+p/6h/6n/w/9SALwAdAAJAeEAuv4fADkB0/9p/0j+h/5KAFYBLAE+AV0CVQIEAcgBSgNIAmAC7gFXAD4B9wBjAU8D/AAFAEUC7wCPAAkBtABmAWQAuf9nAJ7/kf9k/wL/jP+e/1cA7wA1ANf+jf6//of+af+nAOP/Sf9Z/wcAuAH9AdkAVACzAWEB0v6a/rv/VwAHAPr+v/5J/7v/VACxAEcA7AAHAPz+lwD8ADEBYwGh/wn/lP8AAG8A2v6R/zQBtADnAPP/tv8f/5L+0QCWATkBxgHeAVEBQgAVAD8AGgDbAY8AZv8GAeP/A/7f/tQA9ACOAQYBT//r/6f+RP9EAbP/af86AA8A6v6d/v/+P/+x/3H/Yv4l/g0ATf6b/W8Amf9j/Zb9lADu/1j+lv8R/1cAfP9I/hEBRQDz/0IAQgARAV8AAgCx/+v/sv5e/wUASv65/6cA4QCMAGX+Xv8lAEcATgHrAaMBWQHzAUoAR/+k/8kAwAGNAgMCw/8FAKcAlAB+/+n/RAEyAGoAowGiAjcDFQKkAOf+rv+CAu0C3wCUAEkBy/8PACwBWgD3AKMBDgGc//z+RAH5/839VP9mAb8AaP0A/iz/gf/A/Rz8MgCHALv9nf6z/7P/VACm/9P9Sf8h/xv9av7xAAkBnv98///+Uv6i/kcARQCp/2oAsf9FAJYB6f/7/5oC5wBY/mIAngE6AFj+gP1/ANwAKgBkAIz/TwBu/1T/MQG0ANkAbP+l/rcAWf92//7/Uv5E/8b/xACDAeP/gf+O//z+Yf+5ALz+XPyq/nT/Sv6i/qb/7/7z/aL+kv6P/hH/X/6n/rEA9v/w/R3+r/6m/2z/qf+EAHn/hf5q/rL+1ADxA/YBSP4N/r8ABwNBAZIA2wFcA40CYgD9ATIDIgOwAV3+Hf7nAFIAe/0G/WwADwOy/if8ZP+2/z//Cv7l/YMBXP8f/Er+n/5M/6z/u/2T/fD9Av9h/3b/8/+s/6wAPP/I/b7/yQD+AJ8A+QBeAUYBRAG0ABkBrgH1AksEXQIGAV4BVQI1AlT/Lf4CAEQBrwAR/6j9yv6XADL+xfvG/0kEeQEM/z0AmQFKA9wAGv7BAEUCAQGc//cAPwPhAAr+9f2h/woAEf9t/jn96f+xA6EBwv5u/28A2v4a/MD9rwBcAM/+Wf0b/fX9sP3//owACgD7/63+fv1Q/gcA7v/v/kn/wf8KABz/yv5p/8kAlv+z/S//9v9BAfkAXP9qAAwBBQBJ/57/u/9BAUQBUgCjAVMBrgEEAZ/+vP5Z/6b/NAE1ApACoQPrAbL+/v9qAjgCXADr/z4BBQIeAQAAlAClAr4Bnf7S/vn/pgETAqkAPAFEAf0BvgG7//kA8wEEAfQAof+0/on/gf9sAOYBzgFHAPz+TwBSAD8A9wCm/78AhQLEAGf+Ff6a/mH/MQH2/2X+CgDZAMH/xP5E/4IA8f/M/g//sP1n/qkAdP+i/if/Ef/1/Xj9Rf6N/ur+rv3R/BH/PwBcAJcAXwAyAD0AmQE0Ae/+bwBvANb/CgAW/f/7Z/x2/Vz8n/4tAvT+lv0MAfUCBwAS/sr+YALxA5QAggD7AbUCHAH0/v/+7gF3AxYBdACE/7n/HgHx/7f+agDaAkYBwfzv+wIAAwIKAMb/pwDyAnwDkgCR/27/mwGzASD+a/3sAI4BrwCxALz+nv/J/wAAUgC3/iYBmAKLAYn/GP6fAJsBxv8i/DL8twBEARX+JPwg/r7/DQAU/8X9jv+ZAQACov5u/dgB4wFY/oP9+f+iArYBvPwn/Gn/9/7M/N/5GvzqApoCAP4i/PT8af+C/oD99wBRAwoD7wBSALoCFAM9AKT/4wGUALf+H//W/7MBAwKz/8f+AALaBdQD1P5n/lkBVgGf/v/+kQE7BAoDsP0B/UoAqgJ/AA79Rf5nALP/tvzU/AIAIwK5AFz/sQCrAXcDUwEp/+cCPQU1ANP6t/4mBP0BdPzg/SsEJwPs/Pf7bwDtBDcDcP3E/pYE1gOn/iv7bv/9BFoAfft9/vEDXgEb+8r7sAGXBfkAH/ym/aIAcQEE/4D9QgCKArcAg/0v/Ob/RgEo/lH/DgGOAUQBZv8M/6QAlgFt/ub8BAGlAlH/Df6M/1EBnQJm/1n9vwA7BDIDeP20/ksEggIE/T37PQDdBJ0Cd/4H//QD+QMFAH8AaAIkA7YBCQERARIA8wFOAf39xv8tAsMBFf4y/KwA5wLVAvv/gP1XANICKAJZ/Xv9gAK/AmH/Uf1c/7gBCQGt/pb/sQM7BE//+PrD/TEBX/6k/MD9XABHA1kB9f1f/mMB3QLfAKkA5wICAykBBP2X/G4BYwFi/tf+xv8BAawAJv3V+/f+SAIKADP9yP0//8H/9P7m/Kn8zP6M/7n/xPwk/BYBhgGy/gf8pv1mARv9LPoU//wA//4t+TD46AGaBaX+GPtOAS8IKgVG+mb6MgPgBGoAjfsH/38FAgNL+wP72wGsA+v/1/uS/u8FyAeXANn5af85Bv8Cwfxf/IUCagXIAWv6YvlOAXwGzwLr+sr7GgOrBHQAIfq2+kQDVwUU/wv4IvwnCKoFvPkr+JcDiwzcA+P1mPj6By4MDf7n8Qj7xw1tChf3EPOwAWAPkgJY7jDz4wZjEVf/A+tA9uYOCA/i8xvmZPxFF2MMhOyi6xQLHxjuAV3rrPEYD8cVhvpn6RT6nRRdDd3w2uuaAqMUBAbW79n0KArAD1r83O5R/VoQZQ2K9v7slAPxEzsH3PEy8XoKTRVBAf/uXPpzD8gMhPkh8qYBzxAoB+/2sPj4BHIKSgMH/BIA6wZEBuoCr/5b/bQAmQFNAsMBH/9aAMMGMQZd/ov9HAFWBAsEtgFx//b/TQWABP39Af1SAjwG8QP3/rH8/v93A4H/Zvop+uD9SwK3AJ79ZwBNAgEB8/0d+00A4QOSAq8ADPz2/IICPgT/+zb1KvwyA44EHPyI9Sf/4QYuBK76GPgwAtgHlAM//L76Ff5MAy8GuP0e+Pr+3QQjBBv9efrXAEAC6v5M/Fj+8wT0ACv4sfzrBKoCefeE9OcAjglYBLD7pPnBAJsHogJK/F37SQEuCU4Edvp/9gL/JgmiAs73QPbjBB4PD/+N7pb1KQxYD174ovH3Al0NNgQh92/5jwN1BZIA2vgT+AAChAbP/if3VfvdBD0F3v8p+nD4gwSICiT8ZvJ+/aYOngQ+7Uv1ig1nDZH3Q+tp+v0RKQ7X83rpXv9AFGAK0PLr7cQFZBarBn/uJ++cCJYRtf0p6oT0NhQcEzbwiubBBvQdVAiO5fnpvBDtGXP62eI/9DcYABWR79nf2/+OHskOjOyL5fgEUBrGCbDrXePjBOwgFgnr4uTmrhHEIr/+ueLR9OQVhhmJ+qTnpPlQF3QWpPTR5yn6Dg8pDurzOOva+PAJoBQa/jLklfaWG+kYQuzZ32wLTSVyBZTcB+paGMQdmvnh36z3OR6kFaz0EeXx/3UfzQxh7xnq2wE+HHQORO+v7DEJYh1BCRrpeux0DvUfQQRI5jnyABLxG0H/U+iF9rMOHxM0+oDtcfydB5gH8v4w+8n5ov58EIkLCPbI8lQDuxTcCzDwJuuLBEsZdQqV6JXrEQ5EFk/8WeWd9kQWKw+r8p7taARZETsEefRd9pAHjA64AUrxhPTrC/cSs/pO6oj74A/TCdj15fB2AXEOAQSy8RzyewcbD0n3COuUA68VLgTJ73/2FgyGDhn6JfG4/WMMiwfc9oP4GQmBC8D6XPKU/88KQQQd+Wr+xQeaBUACbvq//vAHvwAS/q3+ZgEBBLICkgK2/Kz5A/76B78IjvoQ+4cIHwtU/DT0owF0CKoCnv2W/0QD6AFI/mD74/+rBLwD6PqK+QcLEA0O+rPyVPzbBh0IQf+48zz09AO1Ev0BN+L98y4cnRQF7jHlUAS1FFkBpu1h73AE6hRDAnHqGPiND/YLIfJB7XsJehW1/QvrZfv8EE0Kv/bp7/L+lxJ4Ci3z+PKdBXoI4/rA+hMHZgRD8yX7vQ89BZruPe4NCJETVPw078H8PgnHCEX+NPTR9ysHBQ2/+67vUf06DY0Kh/kF8T79/QwQCtj1O/Dz/+AMrgZJ8sX1FwvYBxf3GfeWBLQDkvbC9u8A2wSt/sD42vsgBW8IH/za8Fz/GxLqBY7vdvXjCSUKT/xT86P4nQWcCLcAcfSB9N0Hbg7D+obyOf/VBKcCwPgi9gYE5QQiA6H8rPQyBYINHAbq+D32xwobDL/5T/TWAyoLwP1p/O4Dowa7/9f5AAftB837dPnD+r4JKw8f+WbtYv7iFycOueqD8G4RZxWp+nrmRvUtEMwTFv306ffzrxDqF273uuGm/+gc2AzY8hbwjwg8GLIF5fCr8FEL+Bkf/E/n6/rZE38Lhu+P9K0MRhEyAODqDvheDOgBePUk9+YDlgZg+7j9SgAW+gv7ewHlB53+IfKl9v0ErhFPBVzq9uc9CAojegph5/3riQZGFogKcPVX79T8qxR9DbLrQPBmDsQQ3vzE9gT/3QTlDK8CXvWaAGIKpAjY9V35gQ7G/yf3efzrBiYMefeO95YGGAolBc/7cfzH+2oAGgghBGoADvrG/NELXBClAlDujvVEFkcbs/pJ7TcAGRS6DyXufe6uCZELWQOB9BL5tAgfC0IFL/F4+BUIPwPI/fv6TP/N+D793QeYBP0BivMq9pUH8AQx/ZH3NQKPA5LzUQO/Ckj7Lfka+VcA0QhCA8L4LPJCBaAUyPj17YQDwwwxBtLzwOsZ/7MOtgPP86Dtw/cHE8EOFO/76rkAHx3UCDTfrfOODhMKbwAs9xj+xQfD//0BoQOb+Bn94QCvAosM0gVl+/L2d/wcE98I6+0d+ygK0wSwBPT+6PgcA1EGZPwP/IgMuAxD6/jlGxLvF7/21u87+10Sqxa/9FDr+QNzFEwO3PEy8RkMbQ0ECzQBdOc48HwQhCP9DzvWXdnMIC8wSP5f1MrjyxuCH0vwq92UA6wqSgPizkTy/SktFYHf8dqqAmsfvQ+M8a/xAf1PBTAKUvYY8+wA7QI8Br32M/V9CsAPuQs48HrkLAsaKHcLm9jG5/kYiyFaED352uOI6LUaaBz/47rh+fy0GAkOT+R47k8LzRne9DPLFf4GPmIg2MX9xjwgFU+pEyXB6en0KLInf/zFzh/0Ci29J+jwNN2SCpEb3Agr7djbIPZNH7oiGu9/1D37RRcLD9T5KOEv4m8I2R1Z/4jbwewPGKQQWe246CcIWSF0+e/Upu0AFf4onwN/33T59BViItQNHuWY6F8AWBoOIaXoj9EjEvkonPRN1on0WCRXE2zPb9cDF8Uc8/q53wn1ixlF+3f2AA2x4iznYw9dEj0XV+e+12ghKjLK9lTHi/iaP8gP0M0L7hIlHSWO+snXku4bKX8ioefr4qICGR69GsD1qe/h940FBBYD89jVru+mGy0dx+nB5FEThha070Pe0ezlBM8K7f1d/iQGLQ2fCrEDlgSS+9/zZwC9EhoNHPzc/psHOguJAWj2ewf4Ds73F+eT9QcY4Qt/7BEBWw8NFeYLNdak4fIXxB0KAF/XnfM5HrQNlAbX7snifPwKA1sXCwpl4wbwxf2XAzkEUgLMBS//Mgu4B4TxDfneBtINhQWdBS0Niv5aCoAHJeaf/vkL7/Yf9/wAGyElBbrRGfeUCJH/f+6Z2moYYySm6ondzeuQLF8yw+D3zMHsLCCeFjnYq+hCDYsZ2Q4L/XgHqvs/8a3zufxpHq0UZfs6C9sZiRMw69ni+RUaIkUF/dOa3GE2IjUa3x64t+TTNrgxgeL0x2TnCB3JICLkqeoxFgkZRAYj4IwGjTkZDBznouETEjVEURbe3+3OIwylVK0SSsT52cYZ2SvE7HLBoe8RLgYfH+ImwzD4tjjjDgDM774e9ZFFZzhr697KveAcHngx9+lFxtz5wTscK0jLltVqOi84I+N+vTbqMioDMZYE/N614NEOdRxi/uMB4QZ98/TZHvDtH2co/Q++z/LLGxdbNoYJ3MHA01gply187zDTPQWtNA35a8Nc8gAl+SghAXHVVOp4FPEY//5S6RIDXhZ5/K3+fgae/QD5Ae2WBFUdPha3AgTXBNVrEcwyIQxl0yjhkxm1J3kGQ+PH4U76sBnNCvjgGPEPGywLmd177a8Q8RPoB9/53vJa5AkBPiFX+TDzwAyyCrP6vufuCPYeZ/nd4EPwtxD2FqP9huDw7VoSgQ78/Kn3aAckEbTxruej/f0PGx81GnwD3/Zx/MoPsiVnBRzKbuCTJOZABQ0QvorMkg2/KnsHkskW1fIUVyOh96rUmeqpKAMp5u8T0zH3sUBXLTfcksniCvxirECD0Iu2Wf0sTQ0qk72ExDMZwj9qInHKCrokCdY4DQ0ludrZCTvINhjjALEP989KxTTK4eaoku5jTjsxMOFWrabdEkKdOePygdUJ6H4WaBxb+wPzSeWm9S8rkRDJ2hHYSwKVOc4W5NH0xIr+8knYEe+nlbEWLKloLQXdrsPIEy8nWrL5m7Pr7U1M/lXc7KWx/BDKZBcwuLt1rqMuD3ouHCyYPKCTMf98rPwBgCa+pkaKUk/C6oxCA1Js6ThupYObdhsLZFQWxJ0Vuco6VGjIEY61tdOdL1gseONZzf4T4leKHa7NCeDtLBFJ+Ppfr63Y9UTXZFv1i5jd3qFIZDvmzeayWBKxNdn8QsR7xSQOWyfL9fnESseMGyQ72vvDwPLJrRdeK7b/e90R7VEmphZW6LzszRntPDD+3seP9ggn4BSv3AXmuidKLaLzEtkwAs4gPBPB55DOBQ2/Qo0fDN00zycLGR6/8fHfovnBIGEeK+bayY3zpisaHeLZnM9TAQIw4RsL3jvbdf5PGBgV4fRN8aH/bPya/kf/0gqRFqMJgwFa9MbyrguPFaAHAeql9swqtSID/sjo9/lxFooCOAK2DocS0g/C5sPQ1PQUGZkLHuO447YOLQ2Q60PjmezF/df+9fXfAu4W4RNC9jPeOPggH4IN5u97+CcYhx0e/bTkfuqsFRIimARu8Dn1iBkTFyn3j+k877oXphbZ8bvy5/OHCIIaZwDA4/HcIApPFcPlndmv8a4Wqwkt6XH37AofGLf7r9nC9qIXyCGwBzfvkQsKE5YEUQHC+0kJvhFvDbQFU+sd9skOvve46IX2ahWVGlbw/eXr/egHvv/S9mv1MQGAEnkJtPd99rgJ\" type=\"audio/wav\" />\n",
       "                    Your browser does not support the audio element.\n",
       "                </audio>\n",
       "              "
      ],
      "text/plain": [
       "<IPython.lib.display.Audio object>"
      ]
     },
     "metadata": {},
     "output_type": "display_data"
    }
   ],
   "source": [
    "for waveform, label in waveform_ds.take(1):\n",
    "  label = label.numpy().decode('utf-8')\n",
    "  spectrogram = get_spectrogram(waveform)\n",
    "\n",
    "print('Label:', label)\n",
    "print('Waveform shape:', waveform.shape)\n",
    "print('Spectrogram shape:', spectrogram.shape)\n",
    "print('Audio playback')\n",
    "display.display(display.Audio(waveform, rate=16000))"
   ]
  },
  {
   "cell_type": "code",
   "execution_count": 22,
   "id": "previous-clear",
   "metadata": {},
   "outputs": [
    {
     "data": {
      "image/png": "[encoded data removed]",
      "text/plain": [
       "<Figure size 864x576 with 2 Axes>"
      ]
     },
     "metadata": {
      "needs_background": "light"
     },
     "output_type": "display_data"
    }
   ],
   "source": [
    "def plot_spectrogram(spectrogram, ax):\n",
    "  # transpose so that the time is\n",
    "  # represented in the x-axis (columns).\n",
    "  freq_bins = spectrogram.shape[1]\n",
    "  time_dur = spectrogram.shape[0]\n",
    "  X = np.arange(time_dur)\n",
    "  Y = range(freq_bins)\n",
    "  ax.pcolormesh(X, Y, spectrogram.T)\n",
    "\n",
    "fig, axes = plt.subplots(2, figsize=(12, 8))\n",
    "timescale = np.arange(waveform.shape[0])\n",
    "axes[0].plot(timescale, waveform.numpy())\n",
    "axes[0].set_title('Waveform')\n",
    "axes[0].set_xlim([0, 16000])\n",
    "plot_spectrogram(spectrogram.numpy(), axes[1])\n",
    "axes[1].set_title('Spectrogram')\n",
    "plt.show()"
   ]
  },
  {
   "cell_type": "code",
   "execution_count": 23,
   "id": "sound-forty",
   "metadata": {},
   "outputs": [],
   "source": [
    "def count_labels(dataset):\n",
    "    counts = {}\n",
    "    for _, lbl in dataset:\n",
    "        if lbl.dtype == tf.string:\n",
    "            label = lbl.numpy().decode('utf-8')\n",
    "        else:\n",
    "            label = lbl.numpy()\n",
    "        if label in counts:\n",
    "            counts[label] += 1\n",
    "        else:\n",
    "            counts[label] = 1\n",
    "    return counts"
   ]
  },
  {
   "cell_type": "code",
   "execution_count": 24,
   "id": "26fa4527-72ed-45fc-8c06-9333274fce77",
   "metadata": {},
   "outputs": [
    {
     "data": {
      "text/plain": [
       "(24, 32)"
      ]
     },
     "execution_count": 24,
     "metadata": {},
     "output_type": "execute_result"
    }
   ],
   "source": [
    "spectrogram.numpy().shape"
   ]
  },
  {
   "cell_type": "code",
   "execution_count": 25,
   "id": "undefined-filter",
   "metadata": {},
   "outputs": [
    {
     "name": "stderr",
     "output_type": "stream",
     "text": [
      "C:\\Users\\Jeromey\\AppData\\Local\\Temp\\ipykernel_20404\\1859809011.py:10: DeprecationWarning: `np.int` is a deprecated alias for the builtin `int`. To silence this warning, use `int` by itself. Doing this will not modify any behavior and is safe. When replacing `np.int`, you may wish to use e.g. `np.int64` or `np.int32` to specify the precision. If you wish to review your current use, check the release note link for additional information.\n",
      "Deprecated in NumPy 1.20; for more details and guidance: https://numpy.org/devdocs/release/1.20.0-notes.html#deprecations\n",
      "  ax.set_title(label_list[np.int(label_id)])\n"
     ]
    },
    {
     "data": {
      "image/png": "[encoded data removed]",
      "text/plain": [
       "<Figure size 720x720 with 9 Axes>"
      ]
     },
     "metadata": {
      "needs_background": "light"
     },
     "output_type": "display_data"
    }
   ],
   "source": [
    "rows = 3\n",
    "cols = 3\n",
    "n = rows*cols\n",
    "fig, axes = plt.subplots(rows, cols, figsize=(10, 10))\n",
    "for i, (spectrogram, label_id) in enumerate(train_ds.take(n)):\n",
    "  r = i // cols\n",
    "  c = i % cols\n",
    "  ax = axes[r][c]\n",
    "  plot_spectrogram(np.squeeze(spectrogram.numpy()), ax)\n",
    "  ax.set_title(label_list[np.int(label_id)])\n",
    "  ax.axis('off')\n",
    "\n",
    "plt.show()"
   ]
  },
  {
   "cell_type": "code",
   "execution_count": null,
   "id": "a21fc7a4-2a9b-45d9-9a0a-6561afd7b828",
   "metadata": {},
   "outputs": [],
   "source": []
  },
  {
   "cell_type": "code",
   "execution_count": 26,
   "id": "certified-interval",
   "metadata": {},
   "outputs": [],
   "source": [
    "def copy_with_noise(ds_input, rms_level=0.25):\n",
    "  rng = tf.random.Generator.from_seed(1234)\n",
    "  wave_shape = tf.constant((wave_length_samps,))\n",
    "  def add_noise(waveform, label):\n",
    "    noise = rms_level*rng.normal(shape=wave_shape)\n",
    "    zero_padding = tf.zeros([wave_length_samps] - tf.shape(waveform), dtype=tf.float32)\n",
    "    waveform = tf.concat([waveform, zero_padding], 0)    \n",
    "    noisy_wave = waveform + noise\n",
    "    return noisy_wave, label\n",
    "\n",
    "  return ds_input.map(add_noise)"
   ]
  },
  {
   "cell_type": "code",
   "execution_count": 27,
   "id": "distributed-breakfast",
   "metadata": {},
   "outputs": [
    {
     "name": "stdout",
     "output_type": "stream",
     "text": [
      "element 0 has shape (14336,)\n",
      "0\n"
     ]
    }
   ],
   "source": [
    "# waveform_ds = augment_with_noise(waveform_ds)\n",
    "count = 0\n",
    "for w,l in waveform_ds:\n",
    "  if w.shape != (16000,):\n",
    "    print(f\"element {count} has shape {w.shape}\")\n",
    "    break\n",
    "  count += 1\n",
    "print(count)"
   ]
  },
  {
   "cell_type": "code",
   "execution_count": 28,
   "id": "catholic-berlin",
   "metadata": {},
   "outputs": [],
   "source": [
    "def pad_16000(waveform, label):\n",
    "    zero_padding = tf.zeros([wave_length_samps] - tf.shape(waveform), dtype=tf.float32)\n",
    "    waveform = tf.concat([waveform, zero_padding], 0)        \n",
    "    return waveform, label"
   ]
  },
  {
   "cell_type": "code",
   "execution_count": 29,
   "id": "nonprofit-admission",
   "metadata": {},
   "outputs": [],
   "source": [
    "# Collect what we did to generate the training dataset into a \n",
    "# function, so we can repeat with the validation and test sets.\n",
    "def preprocess_dataset(files, num_silent=None, noisy_reps_of_known=None):\n",
    "  # if noisy_reps_of_known is not None, it should be a list of rms noise levels\n",
    "  # For every target word in the data set, 1 copy will be created with each level \n",
    "  # of noise added to it.  So [0.1, 0.2] will add 2x noisy copies of the target words \n",
    "  if num_silent is None:\n",
    "    num_silent = int(0.2*len(files))+1\n",
    "  print(f\"Processing {len(files)} files\")\n",
    "  files_ds = tf.data.Dataset.from_tensor_slices(files)\n",
    "  waveform_ds = files_ds.map(get_waveform_and_label)\n",
    "  if noisy_reps_of_known is not None:\n",
    "    # create a few copies of only the target words to balance the distribution\n",
    "    # create a tmp dataset with only the target words\n",
    "    ds_only_cmds = waveform_ds.filter(lambda w,l: tf.reduce_any(l == commands))\n",
    "    for noise_level in noisy_reps_of_known:\n",
    "       waveform_ds = waveform_ds.concatenate(copy_with_noise(ds_only_cmds, rms_level=noise_level))\n",
    "  if num_silent > 0:\n",
    "    silent_wave_ds = create_silence_dataset(num_silent, wave_length_samps, \n",
    "                                            rms_noise_range=[0.01,0.2], \n",
    "                                            silent_label=silence_str)\n",
    "    waveform_ds = waveform_ds.concatenate(silent_wave_ds)\n",
    "  print(f\"Added {num_silent} silent wavs and {noisy_reps_of_known} noisy wavs\")\n",
    "  num_waves = 0\n",
    "  output_ds = wavds2specds(waveform_ds)\n",
    "  return output_ds"
   ]
  },
  {
   "cell_type": "code",
   "execution_count": 30,
   "id": "measured-police",
   "metadata": {},
   "outputs": [
    {
     "name": "stdout",
     "output_type": "stream",
     "text": [
      "We have 126529/19981/11149 training/validation/test files\n"
     ]
    }
   ],
   "source": [
    "print(f\"We have {len(train_files)}/{len(val_files)}/{len(test_files)} training/validation/test files\")"
   ]
  },
  {
   "cell_type": "code",
   "execution_count": 49,
   "id": "conscious-humor",
   "metadata": {
    "scrolled": true
   },
   "outputs": [
    {
     "name": "stdout",
     "output_type": "stream",
     "text": [
      "Processing 126529 files\n",
      "Added 85000 silent wavs and [0.05, 0.1, 0.15, 0.2, 0.25] noisy wavs\n",
      "About to create spectrograms from 377549 waves\n",
      " 377500 wavs processed"
     ]
    }
   ],
   "source": [
    "train_ds = preprocess_dataset(train_files,num_silent=85000, noisy_reps_of_known=[0.05,0.1,0.15,0.2,0.25])"
   ]
  },
  {
   "cell_type": "code",
   "execution_count": 50,
   "id": "bbfe0f26",
   "metadata": {},
   "outputs": [
    {
     "name": "stdout",
     "output_type": "stream",
     "text": [
      "Processing 19981 files\n",
      "Added 3997 silent wavs and None noisy wavs\n",
      "About to create spectrograms from 23978 waves\n",
      " 23750 wavs processed"
     ]
    }
   ],
   "source": [
    "val_ds = preprocess_dataset(val_files)\n"
   ]
  },
  {
   "cell_type": "code",
   "execution_count": 53,
   "id": "2d1559d3",
   "metadata": {
    "scrolled": false
   },
   "outputs": [
    {
     "name": "stdout",
     "output_type": "stream",
     "text": [
      "Processing 11149 files\n",
      "Added 2230 silent wavs and None noisy wavs\n",
      "About to create spectrograms from 13379 waves\n",
      " 13250 wavs processed"
     ]
    }
   ],
   "source": [
    "test_ds = preprocess_dataset(test_files)"
   ]
  },
  {
   "cell_type": "code",
   "execution_count": 54,
   "id": "instant-sucking",
   "metadata": {},
   "outputs": [
    {
     "name": "stdout",
     "output_type": "stream",
     "text": [
      "training data set\n",
      "{1: 93325, 2: 100194, 3: 99030, 0: 85000}\n",
      "val_ds data set\n",
      "{1: 9981, 2: 5000, 3: 5000, 0: 3997}\n",
      "test_ds data set\n",
      "{1: 10840, 3: 165, 2: 144, 0: 2230}\n"
     ]
    }
   ],
   "source": [
    "print(\"training data set\")\n",
    "print(count_labels(train_ds))\n",
    "print(\"val_ds data set\")\n",
    "print(count_labels(val_ds))\n",
    "print(\"test_ds data set\")\n",
    "print(count_labels(test_ds))"
   ]
  },
  {
   "cell_type": "code",
   "execution_count": 55,
   "id": "controlling-arnold",
   "metadata": {},
   "outputs": [],
   "source": [
    "train_ds = train_ds.shuffle(int(len(train_files)*1.2))\n",
    "val_ds = val_ds.shuffle(int(len(val_files)*1.2))\n",
    "test_ds = test_ds.shuffle(int(len(test_files)*1.2))"
   ]
  },
  {
   "cell_type": "code",
   "execution_count": 56,
   "id": "scheduled-emergency",
   "metadata": {},
   "outputs": [],
   "source": [
    "batch_size = 64\n",
    "train_ds = train_ds.batch(batch_size)\n",
    "val_ds = val_ds.batch(batch_size)"
   ]
  },
  {
   "cell_type": "code",
   "execution_count": 57,
   "id": "positive-publication",
   "metadata": {},
   "outputs": [],
   "source": [
    "train_ds = train_ds.cache().prefetch(AUTOTUNE)\n",
    "val_ds = val_ds.cache().prefetch(AUTOTUNE)"
   ]
  },
  {
   "cell_type": "code",
   "execution_count": 58,
   "id": "exposed-appearance",
   "metadata": {},
   "outputs": [
    {
     "name": "stdout",
     "output_type": "stream",
     "text": [
      "Spectrogram shape (24, 32, 1)\n",
      "ranges from 0.0 to 713.0\n"
     ]
    }
   ],
   "source": [
    "for spectrogram, _ in train_ds.take(1):\n",
    "  spec1 = spectrogram\n",
    "# take(1) takes 1 *batch*, so we have to select the first \n",
    "# spectrogram from it, hence the [0]\n",
    "print(f\"Spectrogram shape {spec1[0].shape}\")\n",
    "print(f\"ranges from {np.min(spec1)} to {np.max(spec1)}\")   # min/max across the whole batch"
   ]
  },
  {
   "cell_type": "code",
   "execution_count": 59,
   "id": "artistic-christian",
   "metadata": {},
   "outputs": [
    {
     "name": "stdout",
     "output_type": "stream",
     "text": [
      "Input shape: (24, 32, 1)\n"
     ]
    }
   ],
   "source": [
    "for spectrogram, _ in train_ds.take(1):\n",
    "  # take(1) takes 1 *batch*, so we have to select the first \n",
    "  # spectrogram from it, hence the [0]\n",
    "  input_shape = spectrogram[0].shape  \n",
    "print('Input shape:', input_shape)\n",
    "num_labels = len(label_list)\n"
   ]
  },
  {
   "cell_type": "code",
   "execution_count": 60,
   "id": "db49b6d2",
   "metadata": {},
   "outputs": [
    {
     "name": "stdout",
     "output_type": "stream",
     "text": [
      "Input shape: (24, 32, 1)\n",
      "Model: \"simple_cnn\"\n",
      "_________________________________________________________________\n",
      " Layer (type)                Output Shape              Param #   \n",
      "=================================================================\n",
      " normalization_1 (Normalizat  (None, 24, 32, 1)        3         \n",
      " ion)                                                            \n",
      "                                                                 \n",
      " conv2d_2 (Conv2D)           (None, 22, 30, 32)        320       \n",
      "                                                                 \n",
      " pool1 (MaxPooling2D)        (None, 11, 15, 32)        0         \n",
      "                                                                 \n",
      " depthwise_conv2d_2 (Depthwi  (None, 11, 15, 32)       320       \n",
      " seConv2D)                                                       \n",
      "                                                                 \n",
      " conv2d_3 (Conv2D)           (None, 9, 13, 32)         9248      \n",
      "                                                                 \n",
      " pool2 (MaxPooling2D)        (None, 4, 6, 32)          0         \n",
      "                                                                 \n",
      " depthwise_conv2d_3 (Depthwi  (None, 4, 6, 32)         320       \n",
      " seConv2D)                                                       \n",
      "                                                                 \n",
      " pool3 (MaxPooling2D)        (None, 2, 3, 32)          0         \n",
      "                                                                 \n",
      " dropout_3 (Dropout)         (None, 2, 3, 32)          0         \n",
      "                                                                 \n",
      " flatten_1 (Flatten)         (None, 192)               0         \n",
      "                                                                 \n",
      " dense_3 (Dense)             (None, 128)               24704     \n",
      "                                                                 \n",
      " dropout_4 (Dropout)         (None, 128)               0         \n",
      "                                                                 \n",
      " dense_4 (Dense)             (None, 128)               16512     \n",
      "                                                                 \n",
      " dropout_5 (Dropout)         (None, 128)               0         \n",
      "                                                                 \n",
      " dense_5 (Dense)             (None, 4)                 516       \n",
      "                                                                 \n",
      "=================================================================\n",
      "Total params: 51,943\n",
      "Trainable params: 51,940\n",
      "Non-trainable params: 3\n",
      "_________________________________________________________________\n"
     ]
    }
   ],
   "source": [
    "print('Input shape:', input_shape)\n",
    "\n",
    "norm_layer = tf.keras.layers.Normalization(axis=-1)\n",
    "\n",
    "model = models.Sequential([\n",
    "    layers.Input(shape=input_shape),\n",
    "    norm_layer,\n",
    "    layers.Conv2D(32, 3, activation='relu'),\n",
    "    layers.MaxPooling2D(name='pool1'),\n",
    "    layers.DepthwiseConv2D(kernel_size=(3,3), padding='same'),\n",
    "    layers.Conv2D(32, 3, activation='relu'),\n",
    "    layers.MaxPooling2D(name='pool2'),\n",
    "    layers.DepthwiseConv2D(kernel_size=(3,3), padding='same'),\n",
    "    layers.MaxPooling2D(name='pool3'),\n",
    "    layers.Dropout(0.2),\n",
    "    layers.Flatten(),\n",
    "    layers.Dense(128, activation='relu'),\n",
    "    layers.Dropout(0.2),\n",
    "    layers.Dense(128, activation='relu'),\n",
    "    layers.Dropout(0.2),\n",
    "    layers.Dense(num_labels),\n",
    "], name=\"simple_nn\")\n",
    "\n",
    "model.summary()\n"
   ]
  },
  {
   "cell_type": "code",
   "execution_count": 116,
   "id": "0556a761",
   "metadata": {},
   "outputs": [],
   "source": [
    "model.compile(\n",
    "    optimizer=tf.keras.optimizers.Adam(),\n",
    "    loss=tf.keras.losses.SparseCategoricalCrossentropy(from_logits=True),\n",
    "    metrics=['accuracy'],\n",
    ")"
   ]
  },
  {
   "cell_type": "code",
   "execution_count": 117,
   "id": "2e9cf5fe",
   "metadata": {},
   "outputs": [
    {
     "name": "stdout",
     "output_type": "stream",
     "text": [
      "Epoch 1/5000\n",
      "5900/5900 [==============================] - 227s 38ms/step - loss: 0.2576 - accuracy: 0.9065 - val_loss: 0.1292 - val_accuracy: 0.9732\n",
      "Epoch 2/5000\n",
      "5900/5900 [==============================] - 227s 38ms/step - loss: 0.2238 - accuracy: 0.9191 - val_loss: 0.1281 - val_accuracy: 0.9749\n",
      "Epoch 3/5000\n",
      "5900/5900 [==============================] - 227s 38ms/step - loss: 0.2046 - accuracy: 0.9264 - val_loss: 0.1506 - val_accuracy: 0.9835\n",
      "Epoch 4/5000\n",
      "5900/5900 [==============================] - 225s 38ms/step - loss: 0.1907 - accuracy: 0.9314 - val_loss: 0.1524 - val_accuracy: 0.9837\n",
      "Epoch 5/5000\n",
      "5900/5900 [==============================] - 226s 38ms/step - loss: 0.1784 - accuracy: 0.9352 - val_loss: 0.1251 - val_accuracy: 0.9854\n",
      "Epoch 6/5000\n",
      "5900/5900 [==============================] - 224s 38ms/step - loss: 0.1667 - accuracy: 0.9396 - val_loss: 0.1711 - val_accuracy: 0.9859\n",
      "Epoch 7/5000\n",
      "5900/5900 [==============================] - 224s 38ms/step - loss: 0.1570 - accuracy: 0.9424 - val_loss: 0.1951 - val_accuracy: 0.9866\n",
      "Epoch 8/5000\n",
      "5900/5900 [==============================] - 223s 38ms/step - loss: 0.1459 - accuracy: 0.9467 - val_loss: 0.2415 - val_accuracy: 0.9867\n",
      "Epoch 9/5000\n",
      "5900/5900 [==============================] - 221s 37ms/step - loss: 0.1357 - accuracy: 0.9505 - val_loss: 0.1836 - val_accuracy: 0.9880\n",
      "Epoch 10/5000\n",
      "5900/5900 [==============================] - 220s 37ms/step - loss: 0.1280 - accuracy: 0.9535 - val_loss: 0.2322 - val_accuracy: 0.9870\n",
      "Epoch 11/5000\n",
      "5900/5900 [==============================] - 221s 37ms/step - loss: 0.1196 - accuracy: 0.9565 - val_loss: 0.1924 - val_accuracy: 0.9882\n",
      "Epoch 12/5000\n",
      "5900/5900 [==============================] - 220s 37ms/step - loss: 0.1142 - accuracy: 0.9583 - val_loss: 0.2103 - val_accuracy: 0.9876\n",
      "Epoch 13/5000\n",
      "5900/5900 [==============================] - 220s 37ms/step - loss: 0.1103 - accuracy: 0.9608 - val_loss: 0.2505 - val_accuracy: 0.9881\n",
      "Epoch 14/5000\n",
      "5900/5900 [==============================] - 219s 37ms/step - loss: 0.1030 - accuracy: 0.9632 - val_loss: 0.3365 - val_accuracy: 0.9882\n",
      "Epoch 15/5000\n",
      "5900/5900 [==============================] - 219s 37ms/step - loss: 0.1006 - accuracy: 0.9647 - val_loss: 0.2564 - val_accuracy: 0.9879\n",
      "Epoch 16/5000\n",
      "5900/5900 [==============================] - 218s 37ms/step - loss: 0.0969 - accuracy: 0.9664 - val_loss: 0.3745 - val_accuracy: 0.9881\n",
      "Epoch 17/5000\n",
      "5900/5900 [==============================] - 219s 37ms/step - loss: 0.0934 - accuracy: 0.9673 - val_loss: 0.3885 - val_accuracy: 0.9892\n",
      "Epoch 18/5000\n",
      "5900/5900 [==============================] - 218s 37ms/step - loss: 0.0925 - accuracy: 0.9680 - val_loss: 0.2296 - val_accuracy: 0.9894\n",
      "Epoch 19/5000\n",
      "5900/5900 [==============================] - 219s 37ms/step - loss: 0.0889 - accuracy: 0.9695 - val_loss: 0.2368 - val_accuracy: 0.9887\n",
      "Epoch 20/5000\n",
      "5900/5900 [==============================] - 218s 37ms/step - loss: 0.0856 - accuracy: 0.9706 - val_loss: 0.3440 - val_accuracy: 0.9892\n",
      "Epoch 21/5000\n",
      "5900/5900 [==============================] - 219s 37ms/step - loss: 0.0848 - accuracy: 0.9711 - val_loss: 0.2149 - val_accuracy: 0.9877\n",
      "Epoch 22/5000\n",
      "5900/5900 [==============================] - 219s 37ms/step - loss: 0.0807 - accuracy: 0.9726 - val_loss: 0.2054 - val_accuracy: 0.9892\n",
      "Epoch 23/5000\n",
      "5900/5900 [==============================] - 218s 37ms/step - loss: 0.0808 - accuracy: 0.9725 - val_loss: 0.2277 - val_accuracy: 0.9892\n",
      "Epoch 24/5000\n",
      "5900/5900 [==============================] - 218s 37ms/step - loss: 0.0789 - accuracy: 0.9734 - val_loss: 0.2434 - val_accuracy: 0.9889\n",
      "Epoch 25/5000\n",
      "5900/5900 [==============================] - 219s 37ms/step - loss: 0.0780 - accuracy: 0.9734 - val_loss: 0.3138 - val_accuracy: 0.9904\n",
      "Epoch 26/5000\n",
      "5900/5900 [==============================] - 219s 37ms/step - loss: 0.0792 - accuracy: 0.9732 - val_loss: 0.2675 - val_accuracy: 0.9897\n",
      "Epoch 27/5000\n",
      "5900/5900 [==============================] - 218s 37ms/step - loss: 0.0752 - accuracy: 0.9749 - val_loss: 0.3060 - val_accuracy: 0.9888\n",
      "Epoch 28/5000\n",
      "5900/5900 [==============================] - 218s 37ms/step - loss: 0.0750 - accuracy: 0.9746 - val_loss: 0.2658 - val_accuracy: 0.9896\n",
      "Epoch 29/5000\n",
      "5900/5900 [==============================] - 218s 37ms/step - loss: 0.0730 - accuracy: 0.9758 - val_loss: 0.3044 - val_accuracy: 0.9893\n",
      "Epoch 30/5000\n",
      "5900/5900 [==============================] - 219s 37ms/step - loss: 0.0707 - accuracy: 0.9764 - val_loss: 0.2194 - val_accuracy: 0.9887\n",
      "Epoch 31/5000\n",
      "5900/5900 [==============================] - 219s 37ms/step - loss: 0.0709 - accuracy: 0.9765 - val_loss: 0.2332 - val_accuracy: 0.9907\n",
      "Epoch 32/5000\n",
      "5900/5900 [==============================] - 219s 37ms/step - loss: 0.0697 - accuracy: 0.9770 - val_loss: 0.3411 - val_accuracy: 0.9892\n",
      "Epoch 33/5000\n",
      "5900/5900 [==============================] - 219s 37ms/step - loss: 0.0684 - accuracy: 0.9774 - val_loss: 0.4153 - val_accuracy: 0.9893\n",
      "Epoch 34/5000\n",
      "5900/5900 [==============================] - 219s 37ms/step - loss: 0.0686 - accuracy: 0.9776 - val_loss: 0.3349 - val_accuracy: 0.9886\n",
      "Epoch 35/5000\n",
      "5900/5900 [==============================] - 219s 37ms/step - loss: 0.0683 - accuracy: 0.9778 - val_loss: 0.2876 - val_accuracy: 0.9894\n",
      "Epoch 36/5000\n",
      "5900/5900 [==============================] - 219s 37ms/step - loss: 0.0719 - accuracy: 0.9761 - val_loss: 0.3416 - val_accuracy: 0.9892\n",
      "Epoch 37/5000\n",
      "5900/5900 [==============================] - 219s 37ms/step - loss: 0.0803 - accuracy: 0.9730 - val_loss: 0.1934 - val_accuracy: 0.9896\n",
      "Epoch 38/5000\n",
      "5900/5900 [==============================] - 219s 37ms/step - loss: 0.0716 - accuracy: 0.9760 - val_loss: 0.2681 - val_accuracy: 0.9897\n",
      "Epoch 39/5000\n",
      "5900/5900 [==============================] - 219s 37ms/step - loss: 0.0695 - accuracy: 0.9771 - val_loss: 0.2703 - val_accuracy: 0.9901\n",
      "Epoch 40/5000\n",
      "5900/5900 [==============================] - 219s 37ms/step - loss: 0.0682 - accuracy: 0.9776 - val_loss: 0.3650 - val_accuracy: 0.9910\n",
      "Epoch 41/5000\n",
      "5900/5900 [==============================] - 219s 37ms/step - loss: 0.0667 - accuracy: 0.9780 - val_loss: 0.3332 - val_accuracy: 0.9820\n",
      "Epoch 42/5000\n",
      "5900/5900 [==============================] - 218s 37ms/step - loss: 0.0653 - accuracy: 0.9787 - val_loss: 0.3564 - val_accuracy: 0.9902\n",
      "Epoch 43/5000\n",
      "5900/5900 [==============================] - 219s 37ms/step - loss: 0.0638 - accuracy: 0.9793 - val_loss: 0.2089 - val_accuracy: 0.9882\n",
      "Epoch 44/5000\n",
      "5900/5900 [==============================] - 218s 37ms/step - loss: 0.0632 - accuracy: 0.9794 - val_loss: 0.3240 - val_accuracy: 0.9895\n",
      "Epoch 45/5000\n",
      "5900/5900 [==============================] - 218s 37ms/step - loss: 0.0624 - accuracy: 0.9798 - val_loss: 0.2809 - val_accuracy: 0.9906\n",
      "Epoch 46/5000\n",
      "5900/5900 [==============================] - 219s 37ms/step - loss: 0.0626 - accuracy: 0.9796 - val_loss: 0.2926 - val_accuracy: 0.9882\n",
      "Epoch 47/5000\n",
      "5900/5900 [==============================] - 218s 37ms/step - loss: 0.0629 - accuracy: 0.9798 - val_loss: 0.2594 - val_accuracy: 0.9879\n",
      "Epoch 48/5000\n",
      "5900/5900 [==============================] - 218s 37ms/step - loss: 0.0610 - accuracy: 0.9803 - val_loss: 0.3159 - val_accuracy: 0.9902\n",
      "Epoch 49/5000\n",
      "5900/5900 [==============================] - 218s 37ms/step - loss: 0.0616 - accuracy: 0.9802 - val_loss: 0.2058 - val_accuracy: 0.9891\n",
      "Epoch 50/5000\n",
      "5900/5900 [==============================] - 218s 37ms/step - loss: 0.0613 - accuracy: 0.9802 - val_loss: 0.3517 - val_accuracy: 0.9899\n",
      "Epoch 51/5000\n",
      "5900/5900 [==============================] - 218s 37ms/step - loss: 0.0595 - accuracy: 0.9809 - val_loss: 0.3709 - val_accuracy: 0.9910\n",
      "Epoch 52/5000\n",
      "5900/5900 [==============================] - 218s 37ms/step - loss: 0.0605 - accuracy: 0.9806 - val_loss: 0.3649 - val_accuracy: 0.9893\n",
      "Epoch 53/5000\n",
      "5900/5900 [==============================] - 219s 37ms/step - loss: 0.0581 - accuracy: 0.9812 - val_loss: 0.2929 - val_accuracy: 0.9889\n",
      "Epoch 54/5000\n",
      "5900/5900 [==============================] - 218s 37ms/step - loss: 0.0582 - accuracy: 0.9810 - val_loss: 0.2601 - val_accuracy: 0.9895\n",
      "Epoch 55/5000\n",
      "5900/5900 [==============================] - 218s 37ms/step - loss: 0.0596 - accuracy: 0.9811 - val_loss: 0.2900 - val_accuracy: 0.9901\n",
      "Epoch 56/5000\n",
      "5900/5900 [==============================] - 218s 37ms/step - loss: 0.0578 - accuracy: 0.9815 - val_loss: 0.3720 - val_accuracy: 0.9907\n",
      "Epoch 57/5000\n",
      "5900/5900 [==============================] - 218s 37ms/step - loss: 0.0571 - accuracy: 0.9819 - val_loss: 0.3220 - val_accuracy: 0.9900\n",
      "Epoch 58/5000\n",
      "5900/5900 [==============================] - 218s 37ms/step - loss: 0.0577 - accuracy: 0.9814 - val_loss: 0.4464 - val_accuracy: 0.9889\n",
      "Epoch 59/5000\n",
      "5900/5900 [==============================] - 218s 37ms/step - loss: 0.0572 - accuracy: 0.9820 - val_loss: 0.3758 - val_accuracy: 0.9892\n",
      "Epoch 60/5000\n",
      "5900/5900 [==============================] - 218s 37ms/step - loss: 0.0569 - accuracy: 0.9819 - val_loss: 0.2757 - val_accuracy: 0.9891\n",
      "Epoch 61/5000\n",
      "5900/5900 [==============================] - 218s 37ms/step - loss: 0.0561 - accuracy: 0.9824 - val_loss: 0.4374 - val_accuracy: 0.9892\n",
      "Epoch 62/5000\n",
      "5900/5900 [==============================] - 218s 37ms/step - loss: 0.0567 - accuracy: 0.9819 - val_loss: 0.3711 - val_accuracy: 0.9904\n",
      "Epoch 63/5000\n",
      "5900/5900 [==============================] - 218s 37ms/step - loss: 0.0568 - accuracy: 0.9821 - val_loss: 0.4755 - val_accuracy: 0.9896\n",
      "Epoch 64/5000\n",
      "5900/5900 [==============================] - 218s 37ms/step - loss: 0.0557 - accuracy: 0.9824 - val_loss: 0.2774 - val_accuracy: 0.9899\n",
      "Epoch 65/5000\n",
      "5900/5900 [==============================] - 218s 37ms/step - loss: 0.0555 - accuracy: 0.9828 - val_loss: 0.4453 - val_accuracy: 0.9911\n",
      "Epoch 66/5000\n",
      "5900/5900 [==============================] - 218s 37ms/step - loss: 0.0556 - accuracy: 0.9825 - val_loss: 0.2892 - val_accuracy: 0.9901\n",
      "Epoch 67/5000\n",
      "5900/5900 [==============================] - 218s 37ms/step - loss: 0.0550 - accuracy: 0.9824 - val_loss: 0.4663 - val_accuracy: 0.9899\n",
      "Epoch 68/5000\n",
      "5900/5900 [==============================] - 218s 37ms/step - loss: 0.0539 - accuracy: 0.9831 - val_loss: 0.2922 - val_accuracy: 0.9889\n",
      "Epoch 69/5000\n",
      "5900/5900 [==============================] - 218s 37ms/step - loss: 0.0553 - accuracy: 0.9826 - val_loss: 0.4676 - val_accuracy: 0.9895\n",
      "Epoch 70/5000\n",
      "5900/5900 [==============================] - 219s 37ms/step - loss: 0.0535 - accuracy: 0.9832 - val_loss: 0.5513 - val_accuracy: 0.9892\n",
      "Epoch 71/5000\n",
      "5900/5900 [==============================] - 219s 37ms/step - loss: 0.0545 - accuracy: 0.9830 - val_loss: 0.3460 - val_accuracy: 0.9892\n",
      "Epoch 72/5000\n",
      "5900/5900 [==============================] - 219s 37ms/step - loss: 0.0534 - accuracy: 0.9830 - val_loss: 0.2016 - val_accuracy: 0.9888\n",
      "Epoch 73/5000\n",
      "5900/5900 [==============================] - 220s 37ms/step - loss: 0.0534 - accuracy: 0.9834 - val_loss: 0.5186 - val_accuracy: 0.9863\n",
      "Epoch 74/5000\n",
      "5900/5900 [==============================] - 220s 37ms/step - loss: 0.0535 - accuracy: 0.9829 - val_loss: 0.5248 - val_accuracy: 0.9879\n",
      "Epoch 75/5000\n",
      "5900/5900 [==============================] - 219s 37ms/step - loss: 0.0536 - accuracy: 0.9831 - val_loss: 0.2703 - val_accuracy: 0.9894\n",
      "Epoch 76/5000\n",
      "5900/5900 [==============================] - 219s 37ms/step - loss: 0.0540 - accuracy: 0.9836 - val_loss: 0.3050 - val_accuracy: 0.9899\n",
      "Epoch 77/5000\n",
      "5900/5900 [==============================] - 220s 37ms/step - loss: 0.0526 - accuracy: 0.9836 - val_loss: 0.4364 - val_accuracy: 0.9905\n",
      "Epoch 78/5000\n",
      "5900/5900 [==============================] - 219s 37ms/step - loss: 0.0530 - accuracy: 0.9835 - val_loss: 0.4064 - val_accuracy: 0.9899\n",
      "Epoch 79/5000\n",
      "5900/5900 [==============================] - 219s 37ms/step - loss: 0.0529 - accuracy: 0.9837 - val_loss: 0.2493 - val_accuracy: 0.9911\n",
      "Epoch 80/5000\n",
      "5900/5900 [==============================] - 220s 37ms/step - loss: 0.0521 - accuracy: 0.9838 - val_loss: 0.4196 - val_accuracy: 0.9899\n",
      "Epoch 81/5000\n",
      "5900/5900 [==============================] - 220s 37ms/step - loss: 0.0526 - accuracy: 0.9838 - val_loss: 0.3593 - val_accuracy: 0.9900\n",
      "Epoch 82/5000\n",
      "5900/5900 [==============================] - 221s 37ms/step - loss: 0.0526 - accuracy: 0.9837 - val_loss: 0.2773 - val_accuracy: 0.9891\n",
      "Epoch 83/5000\n",
      "5900/5900 [==============================] - 220s 37ms/step - loss: 0.0524 - accuracy: 0.9836 - val_loss: 0.4158 - val_accuracy: 0.9879\n",
      "Epoch 84/5000\n",
      "5900/5900 [==============================] - 220s 37ms/step - loss: 0.0519 - accuracy: 0.9840 - val_loss: 0.3258 - val_accuracy: 0.9898\n",
      "Epoch 85/5000\n",
      "5900/5900 [==============================] - 220s 37ms/step - loss: 0.0507 - accuracy: 0.9842 - val_loss: 0.3585 - val_accuracy: 0.9890\n",
      "Epoch 86/5000\n",
      "5900/5900 [==============================] - 221s 37ms/step - loss: 0.0533 - accuracy: 0.9834 - val_loss: 0.3157 - val_accuracy: 0.9897\n",
      "Epoch 87/5000\n",
      "5900/5900 [==============================] - 221s 37ms/step - loss: 0.0512 - accuracy: 0.9841 - val_loss: 0.2786 - val_accuracy: 0.9896\n",
      "Epoch 88/5000\n",
      "5900/5900 [==============================] - 222s 38ms/step - loss: 0.0497 - accuracy: 0.9847 - val_loss: 0.5581 - val_accuracy: 0.9899\n",
      "Epoch 89/5000\n",
      "5900/5900 [==============================] - 221s 37ms/step - loss: 0.0508 - accuracy: 0.9842 - val_loss: 0.4086 - val_accuracy: 0.9897\n",
      "Epoch 90/5000\n",
      "5900/5900 [==============================] - 221s 38ms/step - loss: 0.0513 - accuracy: 0.9842 - val_loss: 0.3761 - val_accuracy: 0.9898\n",
      "Epoch 91/5000\n",
      "5900/5900 [==============================] - 221s 38ms/step - loss: 0.0503 - accuracy: 0.9844 - val_loss: 0.4132 - val_accuracy: 0.9899\n",
      "Epoch 92/5000\n",
      "5900/5900 [==============================] - 222s 38ms/step - loss: 0.0492 - accuracy: 0.9849 - val_loss: 0.4234 - val_accuracy: 0.9901\n",
      "Epoch 93/5000\n",
      "5900/5900 [==============================] - 223s 38ms/step - loss: 0.0497 - accuracy: 0.9845 - val_loss: 0.4148 - val_accuracy: 0.9896\n",
      "Epoch 94/5000\n",
      "5900/5900 [==============================] - 222s 38ms/step - loss: 0.0505 - accuracy: 0.9843 - val_loss: 0.3082 - val_accuracy: 0.9893\n",
      "Epoch 95/5000\n",
      "5900/5900 [==============================] - 223s 38ms/step - loss: 0.0504 - accuracy: 0.9849 - val_loss: 0.3921 - val_accuracy: 0.9890\n",
      "Epoch 96/5000\n",
      "5900/5900 [==============================] - 223s 38ms/step - loss: 0.0482 - accuracy: 0.9849 - val_loss: 0.5003 - val_accuracy: 0.9895\n",
      "Epoch 97/5000\n",
      "5900/5900 [==============================] - 222s 38ms/step - loss: 0.0502 - accuracy: 0.9847 - val_loss: 0.4907 - val_accuracy: 0.9904\n",
      "Epoch 98/5000\n",
      "5900/5900 [==============================] - 223s 38ms/step - loss: 0.0486 - accuracy: 0.9854 - val_loss: 0.3057 - val_accuracy: 0.9887\n",
      "Epoch 99/5000\n",
      "5900/5900 [==============================] - 223s 38ms/step - loss: 0.0507 - accuracy: 0.9844 - val_loss: 0.4615 - val_accuracy: 0.9886\n",
      "Epoch 100/5000\n",
      "5900/5900 [==============================] - 223s 38ms/step - loss: 0.0490 - accuracy: 0.9847 - val_loss: 0.4598 - val_accuracy: 0.9886\n",
      "Epoch 101/5000\n",
      "5900/5900 [==============================] - 223s 38ms/step - loss: 0.0505 - accuracy: 0.9848 - val_loss: 0.5787 - val_accuracy: 0.9902\n",
      "Epoch 102/5000\n",
      "5900/5900 [==============================] - 223s 38ms/step - loss: 0.0491 - accuracy: 0.9848 - val_loss: 0.3891 - val_accuracy: 0.9902\n",
      "Epoch 103/5000\n",
      "5900/5900 [==============================] - 223s 38ms/step - loss: 0.0482 - accuracy: 0.9851 - val_loss: 0.3516 - val_accuracy: 0.9896\n",
      "Epoch 104/5000\n",
      "5900/5900 [==============================] - 223s 38ms/step - loss: 0.0501 - accuracy: 0.9845 - val_loss: 0.7828 - val_accuracy: 0.9901\n",
      "Epoch 105/5000\n",
      "5900/5900 [==============================] - 223s 38ms/step - loss: 0.0494 - accuracy: 0.9850 - val_loss: 0.4323 - val_accuracy: 0.9910\n",
      "Epoch 106/5000\n",
      "5900/5900 [==============================] - 223s 38ms/step - loss: 0.0489 - accuracy: 0.9852 - val_loss: 0.2853 - val_accuracy: 0.9894\n",
      "Epoch 107/5000\n",
      "5900/5900 [==============================] - 223s 38ms/step - loss: 0.0493 - accuracy: 0.9848 - val_loss: 0.3571 - val_accuracy: 0.9900\n",
      "Epoch 108/5000\n",
      "5899/5900 [============================>.] - ETA: 0s - loss: 0.0483 - accuracy: 0.9853Restoring model weights from the end of the best epoch: 98.\n",
      "5900/5900 [==============================] - 224s 38ms/step - loss: 0.0483 - accuracy: 0.9853 - val_loss: 0.5251 - val_accuracy: 0.9895\n"
     ]
    },
    {
     "name": "stdout",
     "output_type": "stream",
     "text": [
      "Epoch 108: early stopping\n"
     ]
    }
   ],
   "source": [
    "callback=tf.keras.callbacks.EarlyStopping(\n",
    "    monitor= 'accuracy',\n",
    "    verbose=1,\n",
    "    patience=10,\n",
    "    restore_best_weights=True\n",
    ")\n",
    "\n",
    "history = model.fit(\n",
    "    train_ds, \n",
    "    validation_data=val_ds,  \n",
    "    #epochs=EPOCHS\n",
    "    epochs=5000, \n",
    "    callbacks=[callback]\n",
    ")"
   ]
  },
  {
   "cell_type": "code",
   "execution_count": 118,
   "id": "rough-train",
   "metadata": {},
   "outputs": [
    {
     "name": "stdout",
     "output_type": "stream",
     "text": [
      "[95760 23940 85120 16384 16384 16384   512]\n",
      "254484\n"
     ]
    }
   ],
   "source": [
    "# number of MACs in each layer is (# outputs in layer) * (number of inputs that contribute to one output)\n",
    "macs = np.array([(14*38*20)*(3*3), (7*19*20)*(3*3), (7*19*32)*20, 128*128, 128*128,128*128, 4*128])\n",
    "print(macs)\n",
    "print(np.sum(macs))"
   ]
  },
  {
   "cell_type": "code",
   "execution_count": 119,
   "id": "emerging-holocaust",
   "metadata": {},
   "outputs": [],
   "source": [
    "model.compile(\n",
    "    optimizer=tf.keras.optimizers.Adam(),\n",
    "    loss=tf.keras.losses.SparseCategoricalCrossentropy(from_logits=True),\n",
    "    metrics=['accuracy'],\n",
    ")"
   ]
  },
  {
   "cell_type": "code",
   "execution_count": 122,
   "id": "equipped-characteristic",
   "metadata": {},
   "outputs": [
    {
     "name": "stdout",
     "output_type": "stream",
     "text": [
      "Saving model to kws_ufe_24apr2022_0628.h5\n"
     ]
    }
   ],
   "source": [
    "date_str = dt.now().strftime(\"%d%b%Y_%H%M\").lower()\n",
    "model_file_name = f\"kws_ufe_{date_str}.h5\" \n",
    "print(f\"Saving model to {model_file_name}\")\n",
    "model.save(model_file_name, overwrite=False)"
   ]
  },
  {
   "cell_type": "code",
   "execution_count": 123,
   "id": "157289b7-b7c9-469a-909a-4d346e583a1a",
   "metadata": {},
   "outputs": [],
   "source": [
    "with open(model_file_name.split('.')[0] + '.txt', 'w') as fpo:\n",
    "    fpo.write(f\"i16min            = {i16min           }\\n\")\n",
    "    fpo.write(f\"i16max            = {i16max           }\\n\")\n",
    "    fpo.write(f\"fsamp             = {fsamp            }\\n\")\n",
    "    fpo.write(f\"wave_length_ms    = {wave_length_ms   }\\n\")\n",
    "    fpo.write(f\"wave_length_samps = {wave_length_samps}\\n\")\n",
    "    fpo.write(f\"window_size_ms    = {window_size_ms   }\\n\")\n",
    "    fpo.write(f\"window_step_ms    = {window_step_ms   }\\n\")\n",
    "    fpo.write(f\"num_filters       = {num_filters      }\\n\")\n",
    "    fpo.write(f\"use_microfrontend = {use_microfrontend}\\n\")\n",
    "    fpo.write(f\"label_list        = {label_list}\\n\")\n",
    "    fpo.write(f\"spectrogram_shape = {spectrogram.numpy().shape}\\n\")\n"
   ]
  },
  {
   "cell_type": "code",
   "execution_count": 124,
   "id": "amateur-slovenia",
   "metadata": {},
   "outputs": [
    {
     "data": {
      "image/png": "[encoded data removed]",
      "text/plain": [
       "<Figure size 432x288 with 2 Axes>"
      ]
     },
     "metadata": {
      "needs_background": "light"
     },
     "output_type": "display_data"
    }
   ],
   "source": [
    "metrics = history.history\n",
    "plt.subplot(2,1,1)\n",
    "plt.semilogy(history.epoch, metrics['loss'], metrics['val_loss'])\n",
    "plt.legend(['training', 'validation'])\n",
    "plt.ylabel('Loss')\n",
    "plt.xlabel('Epoch')\n",
    "plt.subplot(2,1,2)\n",
    "plt.plot(history.epoch, metrics['accuracy'], metrics['val_accuracy'])\n",
    "plt.legend(['training', 'validation'])\n",
    "plt.ylabel('Accuracy')\n",
    "plt.xlabel('Epoch')\n",
    "plt.show()"
   ]
  },
  {
   "cell_type": "code",
   "execution_count": 125,
   "id": "hungarian-arabic",
   "metadata": {},
   "outputs": [],
   "source": [
    "test_audio = []\n",
    "test_labels = []\n",
    "\n",
    "for audio, label in test_ds:\n",
    "  test_audio.append(audio.numpy())\n",
    "  test_labels.append(label.numpy())\n",
    "\n",
    "test_audio = np.array(test_audio)\n",
    "test_labels = np.array(test_labels)"
   ]
  },
  {
   "cell_type": "code",
   "execution_count": 126,
   "id": "a1fcb45f",
   "metadata": {},
   "outputs": [
    {
     "data": {
      "text/plain": [
       "array([1, 1, 1, ..., 1, 1, 1])"
      ]
     },
     "execution_count": 126,
     "metadata": {},
     "output_type": "execute_result"
    }
   ],
   "source": [
    "test_labels"
   ]
  },
  {
   "cell_type": "code",
   "execution_count": 127,
   "id": "dangerous-coverage",
   "metadata": {
    "scrolled": true
   },
   "outputs": [
    {
     "name": "stdout",
     "output_type": "stream",
     "text": [
      "Test set accuracy: 99%\n"
     ]
    }
   ],
   "source": [
    "y_pred = np.argmax(model.predict(test_audio), axis=1)\n",
    "y_true = test_labels\n",
    "\n",
    "test_acc = sum(y_pred == y_true) / len(y_true)\n",
    "print(f'Test set accuracy: {test_acc:.0%}')"
   ]
  },
  {
   "cell_type": "code",
   "execution_count": 128,
   "id": "e11642cc",
   "metadata": {},
   "outputs": [
    {
     "name": "stdout",
     "output_type": "stream",
     "text": [
      "On test set:\n",
      "Test set accuracy: 99%\n"
     ]
    },
    {
     "data": {
      "image/png": "[encoded data removed]",
      "text/plain": [
       "<Figure size 360x288 with 2 Axes>"
      ]
     },
     "metadata": {
      "needs_background": "light"
     },
     "output_type": "display_data"
    }
   ],
   "source": [
    "\n",
    "print(\"On test set:\")\n",
    "y_pred = np.argmax(model.predict(test_audio), axis=1)\n",
    "y_true = test_labels\n",
    "\n",
    "test_acc = sum(y_pred == y_true) / len(y_true)\n",
    "print(f'Test set accuracy: {test_acc:.0%}')\n",
    "confusion_mtx = tf.math.confusion_matrix(y_true, y_pred) \n",
    "plt.figure(figsize=(5, 4))\n",
    "sns.heatmap(confusion_mtx, xticklabels=label_list, yticklabels=label_list, \n",
    "            annot=True, fmt='g')\n",
    "#plt.gca().invert_yaxis() # flip so origin is at bottom left\n",
    "plt.xlabel('Prediction')\n",
    "plt.ylabel('Label')\n",
    "plt.show()"
   ]
  },
  {
   "cell_type": "code",
   "execution_count": 129,
   "id": "governmental-cathedral",
   "metadata": {},
   "outputs": [
    {
     "name": "stdout",
     "output_type": "stream",
     "text": [
      "On test set:\n",
      "Test set accuracy: 99%\n"
     ]
    },
    {
     "data": {
      "image/png": "[encoded data removed]",
      "text/plain": [
       "<Figure size 432x432 with 2 Axes>"
      ]
     },
     "metadata": {
      "needs_background": "light"
     },
     "output_type": "display_data"
    }
   ],
   "source": [
    "\n",
    "print(\"On test set:\")\n",
    "y_pred = np.argmax(model.predict(test_audio), axis=1)\n",
    "y_true = test_labels\n",
    "\n",
    "test_acc = sum(y_pred == y_true) / len(y_true)\n",
    "print(f'Test set accuracy: {test_acc:.0%}')\n",
    "confusion_mtx = tf.math.confusion_matrix(y_true, y_pred) \n",
    "plt.figure(figsize=(6, 6))\n",
    "sns.heatmap(confusion_mtx, xticklabels=label_list, yticklabels=label_list, \n",
    "            annot=True, fmt='g')\n",
    "plt.gca().invert_yaxis() # flip so origin is at bottom left\n",
    "plt.xlabel('Prediction')\n",
    "plt.ylabel('Label')\n",
    "plt.show()"
   ]
  },
  {
   "cell_type": "code",
   "execution_count": 130,
   "id": "ce5e2354",
   "metadata": {},
   "outputs": [
    {
     "name": "stdout",
     "output_type": "stream",
     "text": [
      "On validation set:\n",
      "Data set accuracy: 99%\n"
     ]
    },
    {
     "data": {
      "image/png": "[encoded data removed]",
      "text/plain": [
       "<Figure size 360x288 with 2 Axes>"
      ]
     },
     "metadata": {
      "needs_background": "light"
     },
     "output_type": "display_data"
    }
   ],
   "source": [
    "dset = val_ds.unbatch()\n",
    "print(\"On validation set:\")\n",
    "\n",
    "ds_audio = []\n",
    "ds_labels = []\n",
    "\n",
    "for audio, label in dset:\n",
    "  ds_audio.append(audio.numpy())\n",
    "  ds_labels.append(label.numpy())\n",
    "\n",
    "ds_labels = np.array(ds_labels)\n",
    "ds_audio = np.array(ds_audio)\n",
    "\n",
    "model_out = model.predict(ds_audio)\n",
    "y_pred = np.argmax(model_out, axis=1)\n",
    "y_true = ds_labels\n",
    "\n",
    "ds_acc = sum(y_pred == y_true) / len(y_true)\n",
    "print(f'Data set accuracy: {ds_acc:.0%}')\n",
    "\n",
    "confusion_mtx = tf.math.confusion_matrix(y_true, y_pred) \n",
    "plt.figure(figsize=(5,4))\n",
    "sns.heatmap(confusion_mtx, xticklabels=label_list, yticklabels=label_list, \n",
    "            annot=True, fmt='g')\n",
    "plt.xlabel('Prediction')\n",
    "plt.ylabel('Label')\n",
    "plt.show()"
   ]
  },
  {
   "cell_type": "code",
   "execution_count": 131,
   "id": "serious-victory",
   "metadata": {
    "scrolled": true
   },
   "outputs": [
    {
     "name": "stdout",
     "output_type": "stream",
     "text": [
      "On training set:\n",
      "Data set accuracy: 99%\n"
     ]
    },
    {
     "data": {
      "image/png": "[encoded data removed]",
      "text/plain": [
       "<Figure size 360x288 with 2 Axes>"
      ]
     },
     "metadata": {
      "needs_background": "light"
     },
     "output_type": "display_data"
    }
   ],
   "source": [
    "dset = train_ds.unbatch()\n",
    "print(\"On training set:\")\n",
    "\n",
    "ds_audio = []\n",
    "ds_labels = []\n",
    "\n",
    "for audio, label in dset:\n",
    "  ds_audio.append(audio.numpy())\n",
    "  ds_labels.append(label.numpy())\n",
    "\n",
    "ds_labels = np.array(ds_labels)\n",
    "ds_audio = np.array(ds_audio)\n",
    "\n",
    "model_out = model.predict(ds_audio)\n",
    "y_pred = np.argmax(model_out, axis=1)\n",
    "y_true = ds_labels\n",
    "\n",
    "ds_acc = sum(y_pred == y_true) / len(y_true)\n",
    "print(f'Data set accuracy: {ds_acc:.0%}')\n",
    "\n",
    "confusion_mtx = tf.math.confusion_matrix(y_true, y_pred) \n",
    "plt.figure(figsize=(5,4))\n",
    "sns.heatmap(confusion_mtx, xticklabels=label_list, yticklabels=label_list, \n",
    "            annot=True, fmt='g')\n",
    "plt.xlabel('Prediction')\n",
    "plt.ylabel('Label')\n",
    "plt.show()"
   ]
  },
  {
   "cell_type": "code",
   "execution_count": 132,
   "id": "unusual-stopping",
   "metadata": {
    "scrolled": true
   },
   "outputs": [
    {
     "name": "stdout",
     "output_type": "stream",
     "text": [
      "Processing 4 files\n",
      "Added 1 silent wavs and None noisy wavs\n",
      "About to create spectrograms from 5 waves\n",
      " 0 wavs processed"
     ]
    },
    {
     "data": {
      "image/png": "[encoded data removed]",
      "text/plain": [
       "<Figure size 432x288 with 1 Axes>"
      ]
     },
     "metadata": {
      "needs_background": "light"
     },
     "output_type": "display_data"
    },
    {
     "data": {
      "image/png": "[encoded data removed]",
      "text/plain": [
       "<Figure size 432x288 with 1 Axes>"
      ]
     },
     "metadata": {
      "needs_background": "light"
     },
     "output_type": "display_data"
    },
    {
     "data": {
      "image/png": "[encoded data removed]",
      "text/plain": [
       "<Figure size 432x288 with 1 Axes>"
      ]
     },
     "metadata": {
      "needs_background": "light"
     },
     "output_type": "display_data"
    },
    {
     "data": {
      "image/png": "[encoded data removed]",
      "text/plain": [
       "<Figure size 432x288 with 1 Axes>"
      ]
     },
     "metadata": {
      "needs_background": "light"
     },
     "output_type": "display_data"
    },
    {
     "data": {
      "image/png": "[encoded data removed]",
      "text/plain": [
       "<Figure size 432x288 with 1 Axes>"
      ]
     },
     "metadata": {
      "needs_background": "light"
     },
     "output_type": "display_data"
    }
   ],
   "source": [
    "sample_files = [data_dir/'left/07ad9b59_nohash_0.wav', \n",
    "                data_dir/'no/01bb6a2a_nohash_0.wav',  \n",
    "                data_dir/'right/0362539c_nohash_1.wav',\n",
    "                data_dir/'right/b5d1e505_nohash_0.wav']\n",
    "fstr_list = [str(f) for f in sample_files]\n",
    "sample_ds = preprocess_dataset(fstr_list, num_silent=1)\n",
    "count = 1\n",
    "for spectrogram, label in sample_ds.batch(1):\n",
    "  prediction = model(spectrogram)\n",
    "  plt.subplot(len(sample_files)+1, 1, count)\n",
    "  plt.bar(label_list, tf.nn.softmax(prediction[0]))\n",
    "  plt.title(f'Predictions for \"{label_list[label[0]]}\"')\n",
    "  plt.show()\n",
    "  count += 1"
   ]
  },
  {
   "cell_type": "markdown",
   "id": "current-preserve",
   "metadata": {},
   "source": [
    "## Quantize and Convert to TFLite"
   ]
  },
  {
   "cell_type": "code",
   "execution_count": 133,
   "id": "enclosed-government",
   "metadata": {},
   "outputs": [],
   "source": [
    "converter = tf.lite.TFLiteConverter.from_keras_model(model)\n",
    "converter.optimizations = [tf.lite.Optimize.DEFAULT]"
   ]
  },
  {
   "cell_type": "code",
   "execution_count": 134,
   "id": "loved-synthetic",
   "metadata": {},
   "outputs": [],
   "source": [
    "num_calibration_steps = 10\n",
    "ds_iter = val_ds.unbatch().batch(1).as_numpy_iterator()\n",
    "def representative_dataset_gen():\n",
    "  for _ in range(num_calibration_steps):\n",
    "    next_input = next(ds_iter)[0]\n",
    "    next_input = next_input.astype(np.float32)  # (DIFF_FROM_LECTURE)\n",
    "    yield [next_input]"
   ]
  },
  {
   "cell_type": "code",
   "execution_count": 135,
   "id": "supported-poison",
   "metadata": {},
   "outputs": [],
   "source": [
    "converter.optimizations = [tf.lite.Optimize.DEFAULT]\n",
    "converter.representative_dataset = representative_dataset_gen\n",
    "converter.target_spec.supported_ops = [tf.lite.OpsSet.TFLITE_BUILTINS_INT8]\n",
    "converter.inference_input_type = tf.int8  # or tf.uint8; should match dat_q in eval_quantized_model.py\n",
    "converter.inference_output_type = tf.int8  # or tf.uint8"
   ]
  },
  {
   "cell_type": "code",
   "execution_count": 136,
   "id": "least-marketplace",
   "metadata": {},
   "outputs": [
    {
     "name": "stdout",
     "output_type": "stream",
     "text": [
      "INFO:tensorflow:Assets written to: C:\\Users\\Jeromey\\AppData\\Local\\Temp\\tmpb4ytdptt\\assets\n"
     ]
    },
    {
     "name": "stderr",
     "output_type": "stream",
     "text": [
      "INFO:tensorflow:Assets written to: C:\\Users\\Jeromey\\AppData\\Local\\Temp\\tmpb4ytdptt\\assets\n",
      "C:\\Users\\Jeromey\\anaconda3\\envs\\IOT\\lib\\site-packages\\tensorflow\\lite\\python\\convert.py:746: UserWarning: Statistics for quantized inputs were expected, but not specified; continuing anyway.\n",
      "  warnings.warn(\"Statistics for quantized inputs were expected, but not \"\n",
      "WARNING:absl:Buffer deduplication procedure will be skipped when flatbuffer library is not properly loaded\n"
     ]
    }
   ],
   "source": [
    "tflite_quant_model = converter.convert()"
   ]
  },
  {
   "cell_type": "code",
   "execution_count": 137,
   "id": "simplified-faculty",
   "metadata": {},
   "outputs": [
    {
     "name": "stdout",
     "output_type": "stream",
     "text": [
      "Wrote 521136 / 521136 bytes to tflite file\n"
     ]
    }
   ],
   "source": [
    "fname = 'kws_model.tflite'\n",
    "with open(fname, \"wb\") as fpo:\n",
    "  num_bytes_written = fpo.write(tflite_quant_model)\n",
    "print(f\"Wrote {num_bytes_written} / {len(tflite_quant_model)} bytes to tflite file\")"
   ]
  },
  {
   "cell_type": "code",
   "execution_count": 138,
   "id": "thorough-senegal",
   "metadata": {},
   "outputs": [
    {
     "name": "stderr",
     "output_type": "stream",
     "text": [
      "'xxd' is not recognized as an internal or external command,\n",
      "operable program or batch file.\n"
     ]
    }
   ],
   "source": [
    "!xxd -i kws_model.tflite >! kws_model.cc"
   ]
  },
  {
   "cell_type": "code",
   "execution_count": null,
   "id": "4f7a331e-b930-4914-8906-8e9b384b17c4",
   "metadata": {},
   "outputs": [],
   "source": []
  },
  {
   "cell_type": "code",
   "execution_count": null,
   "id": "2325e365",
   "metadata": {},
   "outputs": [],
   "source": []
  },
  {
   "cell_type": "code",
   "execution_count": null,
   "id": "fae34e98",
   "metadata": {},
   "outputs": [],
   "source": []
  },
  {
   "cell_type": "code",
   "execution_count": null,
   "id": "76e2695f",
   "metadata": {},
   "outputs": [],
   "source": []
  }
 ],
 "metadata": {
  "kernelspec": {
   "display_name": "Python 3 (ipykernel)",
   "language": "python",
   "name": "python3"
  },
  "language_info": {
   "codemirror_mode": {
    "name": "ipython",
    "version": 3
   },
   "file_extension": ".py",
   "mimetype": "text/x-python",
   "name": "python",
   "nbconvert_exporter": "python",
   "pygments_lexer": "ipython3",
   "version": "3.8.12"
  }
 },
 "nbformat": 4,
 "nbformat_minor": 5
}
