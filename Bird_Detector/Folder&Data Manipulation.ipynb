{
 "cells": [
  {
   "cell_type": "code",
   "execution_count": null,
   "id": "7581aa49",
   "metadata": {},
   "outputs": [],
   "source": [
    "from keras.preprocessing.image import ImageDataGenerator\n",
    "from skimage import io\n",
    "import tensorflow as tf\n",
    "from tensorflow.keras import Input, layers\n",
    "from tensorflow.keras import models\n",
    "from tensorflow.keras.layers.experimental import preprocessing\n",
    "from tensorflow.lite.experimental.microfrontend.python.ops import audio_microfrontend_op as frontend_op\n",
    "print(tf.__version__)\n",
    "import numpy as np\n",
    "import shutil, os\n",
    "import matplotlib.pyplot as plt\n",
    "import pathlib\n",
    "import random\n",
    "import sys\n",
    "import io\n",
    "import os\n",
    "import glob\n",
    "from datetime import datetime as dt\n"
   ]
  },
  {
   "cell_type": "code",
   "execution_count": null,
   "id": "09fb8dc3",
   "metadata": {},
   "outputs": [],
   "source": [
    "def getListOfFiles(dirName):\n",
    "    # create a list of file and sub directories \n",
    "    # names in the given directory \n",
    "    listOfFile = os.listdir(dirName)\n",
    "    allFiles = list()\n",
    "    # Iterate over all the entries\n",
    "    for entry in listOfFile:\n",
    "        # Create full path\n",
    "        fullPath = os.path.join(dirName, entry)\n",
    "        # If entry is a directory then get the list of files in this directory \n",
    "        if os.path.isdir(fullPath):\n",
    "            allFiles = allFiles + getListOfFiles(fullPath)\n",
    "        else:\n",
    "            allFiles.append(fullPath)\n",
    "                \n",
    "    return allFiles"
   ]
  },
  {
   "cell_type": "code",
   "execution_count": null,
   "id": "cc75489a",
   "metadata": {},
   "outputs": [],
   "source": [
    "IMG_SIZE=96 #image resolution is 96x96 dictated by pico\n",
    "BATCH_SIZE = 64 #Batch for speed and regularization"
   ]
  },
  {
   "cell_type": "raw",
   "id": "021f3307",
   "metadata": {},
   "source": []
  },
  {
   "cell_type": "raw",
   "id": "8538ef85",
   "metadata": {},
   "source": []
  },
  {
   "cell_type": "markdown",
   "id": "3ddfd61f",
   "metadata": {},
   "source": [
    "### Deletes corrupted/unopenable files from source directory"
   ]
  },
  {
   "cell_type": "code",
   "execution_count": null,
   "id": "33f0acd3",
   "metadata": {},
   "outputs": [],
   "source": [
    "import os\n",
    "\n",
    "num_skipped = 0\n",
    "for folder_name in (\"bird\", \"unknown\"):\n",
    "    folder_path = os.path.join(\"data/train\", folder_name)\n",
    "    for fname in os.listdir(folder_path):\n",
    "        fpath = os.path.join(folder_path, fname)\n",
    "        try:\n",
    "            fobj = open(fpath, \"rb\")\n",
    "            is_jfif = tf.compat.as_bytes(\"JFIF\") in fobj.peek(10)\n",
    "        finally:\n",
    "            fobj.close()\n",
    "\n",
    "        if not is_jfif:\n",
    "            num_skipped += 1\n",
    "            # Delete corrupted image\n",
    "            os.remove(fpath)\n",
    "\n",
    "print(\"Deleted %d images\" % num_skipped)"
   ]
  },
  {
   "cell_type": "raw",
   "id": "51124c40",
   "metadata": {},
   "source": []
  },
  {
   "cell_type": "raw",
   "id": "ccc247a9",
   "metadata": {},
   "source": []
  },
  {
   "cell_type": "markdown",
   "id": "6d8be240",
   "metadata": {},
   "source": [
    "### Get file count from source directory\n",
    "> Bird directory used nested folders so getListOfFiles function used for that class"
   ]
  },
  {
   "cell_type": "code",
   "execution_count": null,
   "id": "7b475219",
   "metadata": {},
   "outputs": [],
   "source": [
    "bird_data_dir = '/Users/Jeromey/IOT/project2/data/birdNet'\n",
    "bird_filenames = getListOfFiles(bird_data_dir)\n",
    "len(bird_filenames)\n",
    "\n",
    "unknown_data_dir = pathlib.Path(os.path.join('/Users/Jeromey/IOT/project2/data/imageNet/*'))\n",
    "unknown_filenames = tf.io.gfile.glob(str(unknown_data_dir) + '/*')\n",
    "\n",
    "print(\"Bird dataset size:\", len(bird_filenames))\n",
    "print(\"Unknown dataset size:\", len(unknown_filenames))"
   ]
  },
  {
   "cell_type": "code",
   "execution_count": null,
   "id": "2c2cf2f3",
   "metadata": {},
   "outputs": [],
   "source": [
    "num_unknown=len(unknown_filenames)\n",
    "random_unknown = list(range(0, len(unknown_filenames))) #create array [1,2,3...]\n",
    "random.shuffle(random_unknown) #randomize the array\n",
    "print(\"This will copy and move\", num_unknown, \"random files out of the\", len(random_unknown),\"available from the unknown dataset\")"
   ]
  },
  {
   "cell_type": "raw",
   "id": "5474bd1d",
   "metadata": {},
   "source": []
  },
  {
   "cell_type": "raw",
   "id": "655c1e3e",
   "metadata": {},
   "source": []
  },
  {
   "cell_type": "markdown",
   "id": "caafd397",
   "metadata": {},
   "source": [
    "### For copying NotBird data\n",
    "> Resizes to 96 x 96 and grayscale during copy"
   ]
  },
  {
   "cell_type": "code",
   "execution_count": null,
   "id": "383c5d3d",
   "metadata": {
    "scrolled": true
   },
   "outputs": [],
   "source": [
    "#For copying unknown\n",
    "num_files_to_copy=500000\n",
    "error_count=0\n",
    "for i in range(num_files_to_copy):\n",
    "    try:\n",
    "        shutil.copy2(unknown_filenames[random_unknown[i]],f'/Users/Jeromey/IOT/project2/data/train/unknown')\n",
    "        os.rename(f'/Users/Jeromey/IOT/project2/data/train/unknown/'+os.path.basename(unknown_filenames[random_unknown[i]]),\n",
    "                  f'/Users/Jeromey/IOT/project2/data/train/unknown/'+str(f\"{i}{i}.jpeg\")\n",
    "                 )\n",
    "    except:\n",
    "        error_count=error_count+1\n",
    "        print(\"Something went wrong when copying\",error_count,\"times\")"
   ]
  },
  {
   "cell_type": "markdown",
   "id": "1b60d5eb",
   "metadata": {},
   "source": [
    "### For copying Bird data\n",
    "> Resizes to 96 x 96 and grayscale during copy"
   ]
  },
  {
   "cell_type": "code",
   "execution_count": null,
   "id": "cfe5403c",
   "metadata": {},
   "outputs": [],
   "source": [
    "#For copying bird\n",
    "error_count=0\n",
    "num_files_to_copy=len(bird_filenames)\n",
    "for i in range(num_files_to_copy):\n",
    "    try:\n",
    "        shutil.copy2(bird_filenames[i],f'/Users/Jeromey/IOT/project2/data/train/bird')\n",
    "        os.rename(f'/Users/Jeromey/IOT/project2/data/train/bird/'+os.path.basename(bird_filenames[i]),\n",
    "                  f'/Users/Jeromey/IOT/project2/data/train/bird/'+str(f\"{i}.jpeg\")\n",
    "                 )\n",
    "    except:\n",
    "        error_count=error_count+1\n",
    "        print(\"Something went wrong when copying\",error_count,\"times\")"
   ]
  },
  {
   "cell_type": "raw",
   "id": "9429ecc3",
   "metadata": {},
   "source": []
  },
  {
   "cell_type": "raw",
   "id": "b257fcfc",
   "metadata": {},
   "source": []
  },
  {
   "cell_type": "markdown",
   "id": "e5d345f0",
   "metadata": {},
   "source": [
    "### Createing a data_generator to augment data"
   ]
  },
  {
   "cell_type": "markdown",
   "id": "daf5ae28",
   "metadata": {},
   "source": [
    "> Creating extreme zoom and flip to imitate camera transition"
   ]
  },
  {
   "cell_type": "code",
   "execution_count": null,
   "id": "17feddbc",
   "metadata": {},
   "outputs": [],
   "source": [
    "from keras.preprocessing.image import ImageDataGenerator\n",
    "from skimage import io\n",
    "\n",
    "# Construct an instance of the ImageDataGenerator class\n",
    "# Pass the augmentation parameters through the constructor. \n",
    "\n",
    "notbird_datagen = ImageDataGenerator(\n",
    "        rotation_range=90,     #Random rotation between 0 and 90\n",
    "        width_shift_range=0.2,   #% shift\n",
    "        height_shift_range=0.3,\n",
    "        shear_range=0.4,\n",
    "        zoom_range=0.8,\n",
    "        horizontal_flip=True,\n",
    "        fill_mode='reflect',\n",
    "        )    "
   ]
  },
  {
   "cell_type": "code",
   "execution_count": null,
   "id": "bee0b4b9",
   "metadata": {},
   "outputs": [],
   "source": [
    "#runs through loop and augments entire dataset # of loops\n",
    "i = 0\n",
    "for batch in notbird_datagen.flow_from_directory(directory='data/train/n', \n",
    "                                         batch_size=84900,  \n",
    "                                         target_size=(96, 96),\n",
    "                                         color_mode=\"grayscale\",                                        \n",
    "                                         save_to_dir='/Users/Jeromey/IOT/project2/data/augmented/notperson', \n",
    "                                         save_prefix='aug', \n",
    "                                         save_format='jpeg'):\n",
    "    i += 1\n",
    "    if i > 2: #makes 2 augmentations \n",
    "        break "
   ]
  },
  {
   "cell_type": "markdown",
   "id": "f61cd6df",
   "metadata": {},
   "source": [
    "> Minimal augmentation for Bird dataset"
   ]
  },
  {
   "cell_type": "code",
   "execution_count": null,
   "id": "6691bf23",
   "metadata": {},
   "outputs": [],
   "source": [
    "from keras.preprocessing.image import ImageDataGenerator\n",
    "from skimage import io\n",
    "\n",
    "# Construct an instance of the ImageDataGenerator class\n",
    "# Pass the augmentation parameters through the constructor. \n",
    "\n",
    "bird_datagen = ImageDataGenerator(\n",
    "        rotation_range=25,     #Random rotation between 0 and 45\n",
    "        width_shift_range=0.1,   #% shift\n",
    "        height_shift_range=0.1,\n",
    "        shear_range=0.2,\n",
    "        zoom_range=0.1,\n",
    "        horizontal_flip=True,\n",
    "        fill_mode='reflect',\n",
    "        )    #Also try nearest, constant, reflect, wrap"
   ]
  },
  {
   "cell_type": "code",
   "execution_count": null,
   "id": "b3f675eb",
   "metadata": {},
   "outputs": [],
   "source": [
    "#runs through loop and augments entire dataset # of loops\n",
    "i = 0\n",
    "for batch in bird_datagen.flow_from_directory(directory='data/train/p', \n",
    "                                         batch_size=84900,  \n",
    "                                         target_size=(96, 96),\n",
    "                                         color_mode=\"grayscale\",\n",
    "                                         save_to_dir='/Users/Jeromey/IOT/project2/data/augmented/bird', \n",
    "                                         save_prefix='aug', \n",
    "                                         save_format='jpeg'):\n",
    "    i += 1\n",
    "    if i > 2: #makes 2 augmentations \n",
    "        break "
   ]
  },
  {
   "cell_type": "raw",
   "id": "5f918ec0",
   "metadata": {},
   "source": []
  },
  {
   "cell_type": "raw",
   "id": "3f16ef29",
   "metadata": {},
   "source": []
  },
  {
   "cell_type": "markdown",
   "id": "88ef8dea",
   "metadata": {},
   "source": [
    "### Used to augment all data in directory\n",
    ">resize and change to grayscale"
   ]
  },
  {
   "cell_type": "code",
   "execution_count": null,
   "id": "5771dea1",
   "metadata": {},
   "outputs": [],
   "source": [
    "dataset = []\n",
    "\n",
    "import numpy as np\n",
    "from skimage import io\n",
    "import os\n",
    "from PIL import Image\n",
    "\n",
    "image_directory = 'data/augmented/'\n",
    "SIZE = 96\n",
    "dataset = []\n",
    "\n",
    "my_images = os.listdir(image_directory)\n",
    "for i, image_name in enumerate(my_images):\n",
    "    if (image_name.split('.')[1] == 'jpg'):\n",
    "        image = io.imread(image_directory + image_name)\n",
    "        image = Image.fromarray(image, 'grayscale')\n",
    "        image = image.resize((SIZE,SIZE))\n",
    "        dataset.append(np.array(image))\n",
    "\n",
    "x = np.array(dataset)\n",
    "\n",
    "i = 0\n",
    "for batch in datagen.flow(x, batch_size=16,  \n",
    "                          save_to_dir='data/testout/', \n",
    "                          save_prefix='aug', \n",
    "                          save_format='jpeg'):\n",
    "    i += 1\n",
    "    if i > 20:\n",
    "        break  "
   ]
  },
  {
   "cell_type": "code",
   "execution_count": null,
   "id": "2a8c2bd3",
   "metadata": {},
   "outputs": [],
   "source": []
  }
 ],
 "metadata": {
  "kernelspec": {
   "display_name": "Python 3 (ipykernel)",
   "language": "python",
   "name": "python3"
  },
  "language_info": {
   "codemirror_mode": {
    "name": "ipython",
    "version": 3
   },
   "file_extension": ".py",
   "mimetype": "text/x-python",
   "name": "python",
   "nbconvert_exporter": "python",
   "pygments_lexer": "ipython3",
   "version": "3.8.12"
  }
 },
 "nbformat": 4,
 "nbformat_minor": 5
}
