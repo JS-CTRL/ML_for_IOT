{
 "cells": [
  {
   "cell_type": "code",
   "execution_count": 1,
   "id": "f2661430",
   "metadata": {},
   "outputs": [
    {
     "name": "stdout",
     "output_type": "stream",
     "text": [
      "Requirement already satisfied: ipynb in c:\\users\\jeromey\\anaconda3\\envs\\iot\\lib\\site-packages (0.5.1)\n",
      "Note: you may need to restart the kernel to use updated packages.\n"
     ]
    }
   ],
   "source": [
    "pip install ipynb"
   ]
  },
  {
   "cell_type": "code",
   "execution_count": 2,
   "id": "408e8490",
   "metadata": {},
   "outputs": [
    {
     "name": "stdout",
     "output_type": "stream",
     "text": [
      "2.8.0\n"
     ]
    }
   ],
   "source": [
    "import tensorflow as tf\n",
    "from tensorflow import keras\n",
    "from tensorflow.keras import layers\n",
    "from keras.preprocessing.image import ImageDataGenerator\n",
    "from skimage import io\n",
    "from tensorflow.keras import Input, layers\n",
    "from tensorflow.keras import models\n",
    "from tensorflow.keras.layers.experimental import preprocessing\n",
    "from tensorflow.lite.experimental.microfrontend.python.ops import audio_microfrontend_op as frontend_op\n",
    "print(tf.__version__)\n",
    "import numpy as np\n",
    "import shutil, os\n",
    "import matplotlib.pyplot as plt\n",
    "import pathlib\n",
    "import random\n",
    "import sys\n",
    "import io\n",
    "import os\n",
    "import glob\n",
    "from datetime import datetime as dt\n",
    "from tensorflow.keras.models import Model\n",
    "from tensorflow.keras.layers import Input, Dense, Activation, Flatten, BatchNormalization\n",
    "from tensorflow.keras.layers import Conv2D, DepthwiseConv2D, AveragePooling2D, MaxPooling2D\n",
    "from tensorflow.keras.regularizers import l2\n",
    "\n",
    "%run functions.ipynb #pulling in functions from other file "
   ]
  },
  {
   "cell_type": "code",
   "execution_count": null,
   "id": "69b02bc7",
   "metadata": {},
   "outputs": [],
   "source": []
  },
  {
   "cell_type": "code",
   "execution_count": null,
   "id": "2ad1975a",
   "metadata": {},
   "outputs": [],
   "source": []
  },
  {
   "cell_type": "code",
   "execution_count": 16,
   "id": "91ccfff8",
   "metadata": {},
   "outputs": [],
   "source": [
    "NUM_LABELS=2 #Binary classification so 2, [bird:0, unknown:1]\n",
    "IMG_SIZE=96 #image resolution is 96x96 dictated by pico\n",
    "EPOCHS=1000 #Number of epochs to train for\n",
    "BATCH_SIZE = 64 #Batch for speed and regularization\n",
    "INPUT_SHAPE= (IMG_SIZE,IMG_SIZE,1)\n",
    "norm_layer = tf.keras.layers.Normalization(axis=-1)"
   ]
  },
  {
   "cell_type": "code",
   "execution_count": null,
   "id": "dfcfbcc5",
   "metadata": {},
   "outputs": [],
   "source": []
  },
  {
   "cell_type": "code",
   "execution_count": 4,
   "id": "fa6cf101",
   "metadata": {},
   "outputs": [
    {
     "name": "stdout",
     "output_type": "stream",
     "text": [
      "Found 169831 images belonging to 2 classes.\n",
      "Found 169831 images belonging to 2 classes.\n"
     ]
    }
   ],
   "source": [
    "#Getting training and validation data\n",
    "validation_generator=val_gen('data/train')\n",
    "train_generator=train_gen('data/train')                             "
   ]
  },
  {
   "cell_type": "code",
   "execution_count": null,
   "id": "9d7fae6b",
   "metadata": {},
   "outputs": [],
   "source": []
  },
  {
   "cell_type": "code",
   "execution_count": null,
   "id": "adea9882",
   "metadata": {},
   "outputs": [],
   "source": []
  },
  {
   "cell_type": "code",
   "execution_count": null,
   "id": "38907951",
   "metadata": {},
   "outputs": [],
   "source": []
  },
  {
   "cell_type": "code",
   "execution_count": null,
   "id": "62a52914",
   "metadata": {},
   "outputs": [],
   "source": []
  },
  {
   "cell_type": "code",
   "execution_count": 7,
   "id": "8d334bc8",
   "metadata": {},
   "outputs": [
    {
     "name": "stdout",
     "output_type": "stream",
     "text": [
      "Model: \"attempt_1\"\n",
      "_________________________________________________________________\n",
      " Layer (type)                Output Shape              Param #   \n",
      "=================================================================\n",
      " normalization (Normalizatio  (None, 96, 96, 1)        3         \n",
      " n)                                                              \n",
      "                                                                 \n",
      " conv2d_10 (Conv2D)          (None, 47, 47, 8)         80        \n",
      "                                                                 \n",
      " depthwise_conv2d_10 (Depthw  (None, 47, 47, 8)        80        \n",
      " iseConv2D)                                                      \n",
      "                                                                 \n",
      " conv2d_11 (Conv2D)          (None, 45, 45, 16)        1168      \n",
      "                                                                 \n",
      " depthwise_conv2d_11 (Depthw  (None, 45, 45, 16)       160       \n",
      " iseConv2D)                                                      \n",
      "                                                                 \n",
      " max_pooling2d_9 (MaxPooling  (None, 22, 22, 16)       0         \n",
      " 2D)                                                             \n",
      "                                                                 \n",
      " dropout_2 (Dropout)         (None, 22, 22, 16)        0         \n",
      "                                                                 \n",
      " conv2d_12 (Conv2D)          (None, 20, 20, 32)        4640      \n",
      "                                                                 \n",
      " depthwise_conv2d_12 (Depthw  (None, 20, 20, 32)       320       \n",
      " iseConv2D)                                                      \n",
      "                                                                 \n",
      " conv2d_13 (Conv2D)          (None, 18, 18, 16)        4624      \n",
      "                                                                 \n",
      " depthwise_conv2d_13 (Depthw  (None, 18, 18, 16)       160       \n",
      " iseConv2D)                                                      \n",
      "                                                                 \n",
      " conv2d_14 (Conv2D)          (None, 16, 16, 8)         1160      \n",
      "                                                                 \n",
      " depthwise_conv2d_14 (Depthw  (None, 16, 16, 8)        80        \n",
      " iseConv2D)                                                      \n",
      "                                                                 \n",
      " max_pooling2d_10 (MaxPoolin  (None, 8, 8, 8)          0         \n",
      " g2D)                                                            \n",
      "                                                                 \n",
      " flatten_2 (Flatten)         (None, 512)               0         \n",
      "                                                                 \n",
      " dense_4 (Dense)             (None, 128)               65664     \n",
      "                                                                 \n",
      " dense_5 (Dense)             (None, 2)                 258       \n",
      "                                                                 \n",
      "=================================================================\n",
      "Total params: 78,397\n",
      "Trainable params: 78,394\n",
      "Non-trainable params: 3\n",
      "_________________________________________________________________\n"
     ]
    }
   ],
   "source": [
    "model = models.Sequential([\n",
    "    layers.Input(shape=INPUT_SHAPE),\n",
    "    norm_layer,\n",
    "    \n",
    "    \n",
    "    \n",
    "    layers.Conv2D(8, 3,2, activation='relu'),\n",
    "    layers.DepthwiseConv2D(kernel_size=(3,3), padding='same'),\n",
    "\n",
    "\n",
    "                        \n",
    "    layers.Conv2D(16, 3, activation='relu'),\n",
    "    layers.DepthwiseConv2D(kernel_size=(3,3), padding='same'),\n",
    "    layers.MaxPooling2D(pool_size=(2, 2)),\n",
    "    layers.Dropout(0.4), \n",
    "    \n",
    "    layers.Conv2D(32, 3, activation='relu'),\n",
    "    layers.DepthwiseConv2D(kernel_size=(3,3), padding='same'),\n",
    "    #layers.MaxPooling2D(pool_size=(2, 2)),\n",
    "\n",
    "                        \n",
    "    layers.Conv2D(16, 3, activation='relu'),\n",
    "    layers.DepthwiseConv2D(kernel_size=(3,3), padding='same'),\n",
    "  #  layers.MaxPooling2D(pool_size=(2, 2)),\n",
    "\n",
    "    layers.Conv2D(8, 3, activation='relu'),\n",
    "    layers.DepthwiseConv2D(kernel_size=(3,3), padding='same'),\n",
    "    layers.MaxPooling2D(pool_size=(2, 2)),                   \n",
    "    \n",
    "    \n",
    "    layers.Flatten(),\n",
    "\n",
    "    layers.Dense(128, activation='relu'),\n",
    "    \n",
    "    layers.Dense(NUM_LABELS),\n",
    "], name=\"attempt_1\")\n",
    "model.summary()\n"
   ]
  },
  {
   "cell_type": "code",
   "execution_count": 17,
   "id": "ac016098",
   "metadata": {
    "scrolled": false
   },
   "outputs": [
    {
     "name": "stdout",
     "output_type": "stream",
     "text": [
      "Steps: 256\n",
      "Epoch 1/1000\n",
      "256/256 [==============================] - 32s 123ms/step - loss: 0.2790 - accuracy: 0.8757 - val_loss: 0.2676 - val_accuracy: 0.8833\n",
      "Epoch 2/1000\n",
      "256/256 [==============================] - 29s 114ms/step - loss: 0.2777 - accuracy: 0.8768 - val_loss: 0.2877 - val_accuracy: 0.8723\n",
      "Epoch 3/1000\n",
      "256/256 [==============================] - 28s 109ms/step - loss: 0.2800 - accuracy: 0.8703 - val_loss: 0.2632 - val_accuracy: 0.8835\n",
      "Epoch 4/1000\n",
      "256/256 [==============================] - 27s 104ms/step - loss: 0.2746 - accuracy: 0.8782 - val_loss: 0.2600 - val_accuracy: 0.8815\n",
      "Epoch 5/1000\n",
      "256/256 [==============================] - 26s 101ms/step - loss: 0.2676 - accuracy: 0.8805 - val_loss: 0.2596 - val_accuracy: 0.8854\n",
      "Epoch 6/1000\n",
      "256/256 [==============================] - 26s 100ms/step - loss: 0.2702 - accuracy: 0.8778 - val_loss: 0.2547 - val_accuracy: 0.8889\n",
      "Epoch 7/1000\n",
      "256/256 [==============================] - 25s 98ms/step - loss: 0.2690 - accuracy: 0.8824 - val_loss: 0.2652 - val_accuracy: 0.8815\n",
      "Epoch 8/1000\n",
      "256/256 [==============================] - 25s 97ms/step - loss: 0.2688 - accuracy: 0.8821 - val_loss: 0.2601 - val_accuracy: 0.8860\n",
      "Epoch 9/1000\n",
      "256/256 [==============================] - 24s 96ms/step - loss: 0.2617 - accuracy: 0.8856 - val_loss: 0.2604 - val_accuracy: 0.8849\n",
      "Epoch 10/1000\n",
      "256/256 [==============================] - 24s 95ms/step - loss: 0.2689 - accuracy: 0.8800 - val_loss: 0.2657 - val_accuracy: 0.8814\n",
      "Epoch 11/1000\n",
      "256/256 [==============================] - 24s 94ms/step - loss: 0.2633 - accuracy: 0.8820 - val_loss: 0.2627 - val_accuracy: 0.8845\n",
      "Epoch 12/1000\n",
      "256/256 [==============================] - 24s 96ms/step - loss: 0.2557 - accuracy: 0.8879 - val_loss: 0.2597 - val_accuracy: 0.8889\n",
      "Epoch 13/1000\n",
      "256/256 [==============================] - 24s 96ms/step - loss: 0.2673 - accuracy: 0.8818 - val_loss: 0.2742 - val_accuracy: 0.8763\n",
      "Epoch 14/1000\n",
      "256/256 [==============================] - 24s 92ms/step - loss: 0.2579 - accuracy: 0.8853 - val_loss: 0.2570 - val_accuracy: 0.8874\n",
      "Epoch 15/1000\n",
      "256/256 [==============================] - 24s 93ms/step - loss: 0.2742 - accuracy: 0.8796 - val_loss: 0.2632 - val_accuracy: 0.8835\n",
      "Epoch 16/1000\n",
      "256/256 [==============================] - 24s 94ms/step - loss: 0.2592 - accuracy: 0.8879 - val_loss: 0.2514 - val_accuracy: 0.8891\n",
      "Epoch 17/1000\n",
      "256/256 [==============================] - 24s 93ms/step - loss: 0.2528 - accuracy: 0.8905 - val_loss: 0.2598 - val_accuracy: 0.8877\n",
      "Epoch 18/1000\n",
      "256/256 [==============================] - 24s 93ms/step - loss: 0.2464 - accuracy: 0.8935 - val_loss: 0.2462 - val_accuracy: 0.8950\n",
      "Epoch 19/1000\n",
      "256/256 [==============================] - 24s 93ms/step - loss: 0.2626 - accuracy: 0.8839 - val_loss: 0.2551 - val_accuracy: 0.8894\n",
      "Epoch 20/1000\n",
      "256/256 [==============================] - 24s 92ms/step - loss: 0.2608 - accuracy: 0.8846 - val_loss: 0.2493 - val_accuracy: 0.8926\n",
      "Epoch 21/1000\n",
      "256/256 [==============================] - 24s 92ms/step - loss: 0.2530 - accuracy: 0.8882 - val_loss: 0.2484 - val_accuracy: 0.8908\n",
      "Epoch 22/1000\n",
      "256/256 [==============================] - 24s 92ms/step - loss: 0.2553 - accuracy: 0.8856 - val_loss: 0.2465 - val_accuracy: 0.8886\n",
      "Epoch 23/1000\n",
      "256/256 [==============================] - 24s 92ms/step - loss: 0.2461 - accuracy: 0.8930 - val_loss: 0.2408 - val_accuracy: 0.8940\n",
      "Epoch 24/1000\n",
      "256/256 [==============================] - 24s 92ms/step - loss: 0.2524 - accuracy: 0.8884 - val_loss: 0.2482 - val_accuracy: 0.8895\n",
      "Epoch 25/1000\n",
      "256/256 [==============================] - 23s 92ms/step - loss: 0.2534 - accuracy: 0.8870 - val_loss: 0.2572 - val_accuracy: 0.8926\n",
      "Epoch 26/1000\n",
      "256/256 [==============================] - 24s 92ms/step - loss: 0.2590 - accuracy: 0.8854 - val_loss: 0.2429 - val_accuracy: 0.8933\n",
      "Epoch 27/1000\n",
      "256/256 [==============================] - 24s 92ms/step - loss: 0.2469 - accuracy: 0.8905 - val_loss: 0.2458 - val_accuracy: 0.8900\n",
      "Epoch 28/1000\n",
      "256/256 [==============================] - 24s 92ms/step - loss: 0.2438 - accuracy: 0.8945 - val_loss: 0.2463 - val_accuracy: 0.8937\n",
      "Epoch 29/1000\n",
      "256/256 [==============================] - 24s 93ms/step - loss: 0.2460 - accuracy: 0.8918 - val_loss: 0.2575 - val_accuracy: 0.8885\n",
      "Epoch 30/1000\n",
      "256/256 [==============================] - 24s 93ms/step - loss: 0.2469 - accuracy: 0.8917 - val_loss: 0.2386 - val_accuracy: 0.8965\n",
      "Epoch 31/1000\n",
      "256/256 [==============================] - 24s 93ms/step - loss: 0.2508 - accuracy: 0.8917 - val_loss: 0.2401 - val_accuracy: 0.8948\n",
      "Epoch 32/1000\n",
      "256/256 [==============================] - 24s 93ms/step - loss: 0.2453 - accuracy: 0.8922 - val_loss: 0.2389 - val_accuracy: 0.8925\n",
      "Epoch 33/1000\n",
      "256/256 [==============================] - 24s 93ms/step - loss: 0.2499 - accuracy: 0.8887 - val_loss: 0.2338 - val_accuracy: 0.8967\n",
      "Epoch 34/1000\n",
      "256/256 [==============================] - 24s 92ms/step - loss: 0.2500 - accuracy: 0.8904 - val_loss: 0.2365 - val_accuracy: 0.8939\n",
      "Epoch 35/1000\n",
      "256/256 [==============================] - 24s 92ms/step - loss: 0.2427 - accuracy: 0.8944 - val_loss: 0.2295 - val_accuracy: 0.9016\n",
      "Epoch 36/1000\n",
      "256/256 [==============================] - 23s 91ms/step - loss: 0.2416 - accuracy: 0.8922 - val_loss: 0.2368 - val_accuracy: 0.8975\n",
      "Epoch 37/1000\n",
      "256/256 [==============================] - 23s 91ms/step - loss: 0.2444 - accuracy: 0.8950 - val_loss: 0.2353 - val_accuracy: 0.8967\n",
      "Epoch 38/1000\n",
      "256/256 [==============================] - 24s 92ms/step - loss: 0.2439 - accuracy: 0.8931 - val_loss: 0.2339 - val_accuracy: 0.8997\n",
      "Epoch 39/1000\n",
      "256/256 [==============================] - 23s 91ms/step - loss: 0.2469 - accuracy: 0.8921 - val_loss: 0.2402 - val_accuracy: 0.8954\n",
      "Epoch 40/1000\n",
      "256/256 [==============================] - 23s 91ms/step - loss: 0.2434 - accuracy: 0.8939 - val_loss: 0.2346 - val_accuracy: 0.8960\n",
      "Epoch 41/1000\n",
      "256/256 [==============================] - 23s 91ms/step - loss: 0.2380 - accuracy: 0.8951 - val_loss: 0.2346 - val_accuracy: 0.8990\n",
      "Epoch 42/1000\n",
      "256/256 [==============================] - 23s 91ms/step - loss: 0.2422 - accuracy: 0.8956 - val_loss: 0.2303 - val_accuracy: 0.9003\n",
      "Epoch 43/1000\n",
      "256/256 [==============================] - 23s 91ms/step - loss: 0.2404 - accuracy: 0.8962 - val_loss: 0.2382 - val_accuracy: 0.8963\n",
      "Epoch 44/1000\n",
      "256/256 [==============================] - 23s 91ms/step - loss: 0.2448 - accuracy: 0.8917 - val_loss: 0.2390 - val_accuracy: 0.8965\n",
      "Epoch 45/1000\n",
      "256/256 [==============================] - 24s 92ms/step - loss: 0.2444 - accuracy: 0.8930 - val_loss: 0.2320 - val_accuracy: 0.8978\n",
      "Epoch 46/1000\n",
      "256/256 [==============================] - 23s 91ms/step - loss: 0.2434 - accuracy: 0.8932 - val_loss: 0.2254 - val_accuracy: 0.9047\n",
      "Epoch 47/1000\n",
      "256/256 [==============================] - 23s 91ms/step - loss: 0.2396 - accuracy: 0.8914 - val_loss: 0.2283 - val_accuracy: 0.9016\n",
      "Epoch 48/1000\n",
      "256/256 [==============================] - 23s 91ms/step - loss: 0.2343 - accuracy: 0.8990 - val_loss: 0.2251 - val_accuracy: 0.9023\n",
      "Epoch 49/1000\n",
      "256/256 [==============================] - 23s 91ms/step - loss: 0.2364 - accuracy: 0.8936 - val_loss: 0.2583 - val_accuracy: 0.8828\n",
      "Epoch 50/1000\n",
      "256/256 [==============================] - 23s 91ms/step - loss: 0.2338 - accuracy: 0.8987 - val_loss: 0.2288 - val_accuracy: 0.9024\n",
      "Epoch 51/1000\n",
      "256/256 [==============================] - 23s 91ms/step - loss: 0.2370 - accuracy: 0.8953 - val_loss: 0.2487 - val_accuracy: 0.8954\n",
      "Epoch 52/1000\n",
      "256/256 [==============================] - 23s 91ms/step - loss: 0.2373 - accuracy: 0.8970 - val_loss: 0.2347 - val_accuracy: 0.8980\n",
      "Epoch 53/1000\n",
      "256/256 [==============================] - 23s 91ms/step - loss: 0.2379 - accuracy: 0.8981 - val_loss: 0.2269 - val_accuracy: 0.8997\n",
      "Epoch 54/1000\n",
      "256/256 [==============================] - 23s 91ms/step - loss: 0.2414 - accuracy: 0.8928 - val_loss: 0.2345 - val_accuracy: 0.8959\n",
      "Epoch 55/1000\n",
      "256/256 [==============================] - 23s 91ms/step - loss: 0.2330 - accuracy: 0.8969 - val_loss: 0.2172 - val_accuracy: 0.9095\n",
      "Epoch 56/1000\n",
      "256/256 [==============================] - 23s 91ms/step - loss: 0.2377 - accuracy: 0.8967 - val_loss: 0.2326 - val_accuracy: 0.8996\n"
     ]
    },
    {
     "name": "stdout",
     "output_type": "stream",
     "text": [
      "Epoch 57/1000\n",
      "256/256 [==============================] - 23s 92ms/step - loss: 0.2356 - accuracy: 0.8973 - val_loss: 0.2216 - val_accuracy: 0.9033\n",
      "Epoch 58/1000\n",
      "256/256 [==============================] - 23s 91ms/step - loss: 0.2355 - accuracy: 0.8979 - val_loss: 0.2237 - val_accuracy: 0.9046\n",
      "Epoch 59/1000\n",
      "256/256 [==============================] - 23s 91ms/step - loss: 0.2375 - accuracy: 0.8971 - val_loss: 0.2247 - val_accuracy: 0.9012\n",
      "Epoch 60/1000\n",
      "256/256 [==============================] - 23s 91ms/step - loss: 0.2308 - accuracy: 0.8999 - val_loss: 0.2164 - val_accuracy: 0.9064\n",
      "Epoch 61/1000\n",
      "256/256 [==============================] - 23s 91ms/step - loss: 0.2296 - accuracy: 0.9040 - val_loss: 0.2212 - val_accuracy: 0.9046\n",
      "Epoch 62/1000\n",
      "256/256 [==============================] - 23s 91ms/step - loss: 0.2277 - accuracy: 0.9028 - val_loss: 0.2283 - val_accuracy: 0.9020\n",
      "Epoch 63/1000\n",
      "256/256 [==============================] - 23s 91ms/step - loss: 0.2322 - accuracy: 0.8970 - val_loss: 0.2252 - val_accuracy: 0.9037\n",
      "Epoch 64/1000\n",
      "256/256 [==============================] - 23s 91ms/step - loss: 0.2309 - accuracy: 0.8985 - val_loss: 0.2273 - val_accuracy: 0.8991\n",
      "Epoch 65/1000\n",
      "256/256 [==============================] - 23s 92ms/step - loss: 0.2335 - accuracy: 0.8982 - val_loss: 0.2352 - val_accuracy: 0.9030\n",
      "Epoch 66/1000\n",
      "256/256 [==============================] - 24s 92ms/step - loss: 0.2291 - accuracy: 0.9029 - val_loss: 0.2233 - val_accuracy: 0.9041\n",
      "Epoch 67/1000\n",
      "256/256 [==============================] - 24s 92ms/step - loss: 0.2252 - accuracy: 0.9023 - val_loss: 0.2158 - val_accuracy: 0.9089\n",
      "Epoch 68/1000\n",
      "256/256 [==============================] - 23s 92ms/step - loss: 0.2253 - accuracy: 0.9042 - val_loss: 0.2182 - val_accuracy: 0.9075\n",
      "Epoch 69/1000\n",
      "256/256 [==============================] - 23s 92ms/step - loss: 0.2218 - accuracy: 0.9052 - val_loss: 0.2186 - val_accuracy: 0.9076\n",
      "Epoch 70/1000\n",
      "256/256 [==============================] - ETA: 0s - loss: 0.2352 - accuracy: 0.8962Restoring model weights from the end of the best epoch: 55.\n",
      "256/256 [==============================] - 23s 92ms/step - loss: 0.2352 - accuracy: 0.8962 - val_loss: 0.2157 - val_accuracy: 0.9073\n",
      "Epoch 70: early stopping\n",
      "\n",
      "\n",
      "Saving model to kws_ufe_03may2022_1553.h5\n",
      "\n",
      "\n"
     ]
    },
    {
     "data": {
      "image/png": "[encoded data removed]",
      "text/plain": [
       "<Figure size 432x288 with 2 Axes>"
      ]
     },
     "metadata": {
      "needs_background": "light"
     },
     "output_type": "display_data"
    },
    {
     "name": "stdout",
     "output_type": "stream",
     "text": [
      "\n",
      "\n",
      "Bird accuracy: 0.8485\n",
      "Unknown accuracy: 0.971\n"
     ]
    }
   ],
   "source": [
    "EPOCHS=1000\n",
    "patience=15\n",
    "\n",
    "\n",
    "steps=256\n",
    "model_compile()\n",
    "print(\"Steps:\",steps)\n",
    "\n",
    "\n",
    "callback=tf.keras.callbacks.EarlyStopping(\n",
    "    monitor= 'val_accuracy',\n",
    "    verbose=1,\n",
    "    patience=15,\n",
    "    restore_best_weights=True\n",
    ")\n",
    "\n",
    "history = model.fit(\n",
    "    train_generator, \n",
    "    validation_data=validation_generator,  \n",
    "    steps_per_epoch=steps,\n",
    "    validation_steps=steps,\n",
    "    epochs=EPOCHS,\n",
    "    callbacks=[callback]\n",
    ")\n",
    "print(\"\\n\")\n",
    "save_model()\n",
    "print(\"\\n\")\n",
    "plot_accuracy(history)\n",
    "print(\"\\n\")\n",
    "test_model(2000)"
   ]
  },
  {
   "cell_type": "code",
   "execution_count": null,
   "id": "6d708d47",
   "metadata": {},
   "outputs": [],
   "source": []
  },
  {
   "cell_type": "code",
   "execution_count": 18,
   "id": "3c09affb",
   "metadata": {},
   "outputs": [],
   "source": [
    "BASE_DIR =\"/Users/Jeromey/IOT/project2/data/train\""
   ]
  },
  {
   "cell_type": "code",
   "execution_count": 19,
   "id": "19e16d1b",
   "metadata": {},
   "outputs": [
    {
     "name": "stdout",
     "output_type": "stream",
     "text": [
      "INFO:tensorflow:Assets written to: C:\\Users\\Jeromey\\AppData\\Local\\Temp\\tmpfbdujmxh\\assets\n"
     ]
    },
    {
     "name": "stderr",
     "output_type": "stream",
     "text": [
      "INFO:tensorflow:Assets written to: C:\\Users\\Jeromey\\AppData\\Local\\Temp\\tmpfbdujmxh\\assets\n",
      "WARNING:absl:Buffer deduplication procedure will be skipped when flatbuffer library is not properly loaded\n"
     ]
    },
    {
     "name": "stdout",
     "output_type": "stream",
     "text": [
      "INFO:tensorflow:Assets written to: C:\\Users\\Jeromey\\AppData\\Local\\Temp\\tmp_cj0_49o\\assets\n"
     ]
    },
    {
     "name": "stderr",
     "output_type": "stream",
     "text": [
      "INFO:tensorflow:Assets written to: C:\\Users\\Jeromey\\AppData\\Local\\Temp\\tmp_cj0_49o\\assets\n",
      "C:\\Users\\Jeromey\\anaconda3\\envs\\IOT\\lib\\site-packages\\tensorflow\\lite\\python\\convert.py:746: UserWarning: Statistics for quantized inputs were expected, but not specified; continuing anyway.\n",
      "  warnings.warn(\"Statistics for quantized inputs were expected, but not \"\n",
      "WARNING:absl:Buffer deduplication procedure will be skipped when flatbuffer library is not properly loaded\n"
     ]
    }
   ],
   "source": [
    "# model = tf.keras.models.load_model(argv[1])\n",
    "converter = tf.lite.TFLiteConverter.from_keras_model(model)\n",
    "tflite_model = converter.convert()\n",
    "# with tf.io.gfile.GFile('vww_96_float.tflite', 'wb') as float_file:\n",
    "#   float_file.write(tflite_model)\n",
    "\n",
    "converter.optimizations = [tf.lite.Optimize.DEFAULT]\n",
    "def representative_dataset_gen():\n",
    "  dataset_dir = os.path.join(BASE_DIR, \"person\")\n",
    "  for idx, image_file in enumerate(os.listdir(dataset_dir)):\n",
    "    # 10 representative images should be enough for calibration.\n",
    "    if idx > 10:\n",
    "        return\n",
    "    full_path = os.path.join(dataset_dir, image_file)\n",
    "    if os.path.isfile(full_path):\n",
    "      img = tf.keras.preprocessing.image.load_img(\n",
    "          full_path, color_mode=\"grayscale\").resize((96, 96))\n",
    "      arr = tf.keras.preprocessing.image.img_to_array(img)\n",
    "      # Scale input to [0, 1.0] like in training.\n",
    "      yield [arr.reshape(1, 96, 96, 1)]\n",
    "      #yield [arr.reshape(1, 96, 96, 1) / 255.] \n",
    "\n",
    "# Convert model to full-int8 and save as quantized tflite flatbuffer.\n",
    "converter.representative_dataset = representative_dataset_gen\n",
    "converter.target_spec.supported_ops = [tf.lite.OpsSet.TFLITE_BUILTINS_INT8]\n",
    "converter.inference_input_type = tf.int8\n",
    "converter.inference_output_type = tf.int8\n",
    "quantized_tflite_model = converter.convert()\n",
    "with tf.io.gfile.GFile('vww_96_int8.tflite', 'wb') as quantized_file:\n",
    "    quantized_file.write(quantized_tflite_model)"
   ]
  },
  {
   "cell_type": "code",
   "execution_count": 15,
   "id": "2102fe80",
   "metadata": {},
   "outputs": [
    {
     "name": "stdout",
     "output_type": "stream",
     "text": [
      "Wrote 91464 / 91464 bytes to tflite file\n"
     ]
    }
   ],
   "source": [
    "fname = 'vww_96_int8.tflite'\n",
    "with open(fname, \"wb\") as fpo:\n",
    "  num_bytes_written = fpo.write(quantized_tflite_model)\n",
    "print(f\"Wrote {num_bytes_written} / {len(quantized_tflite_model)} bytes to tflite file\")"
   ]
  }
 ],
 "metadata": {
  "kernelspec": {
   "display_name": "Python 3 (ipykernel)",
   "language": "python",
   "name": "python3"
  },
  "language_info": {
   "codemirror_mode": {
    "name": "ipython",
    "version": 3
   },
   "file_extension": ".py",
   "mimetype": "text/x-python",
   "name": "python",
   "nbconvert_exporter": "python",
   "pygments_lexer": "ipython3",
   "version": "3.8.12"
  }
 },
 "nbformat": 4,
 "nbformat_minor": 5
}
