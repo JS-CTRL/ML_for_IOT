{
 "cells": [
  {
   "cell_type": "code",
   "execution_count": 1,
   "id": "a05e9672",
   "metadata": {},
   "outputs": [
    {
     "name": "stdout",
     "output_type": "stream",
     "text": [
      "Requirement already satisfied: ipynb in c:\\users\\jeromey\\anaconda3\\envs\\iot\\lib\\site-packages (0.5.1)\n",
      "Note: you may need to restart the kernel to use updated packages.\n"
     ]
    }
   ],
   "source": [
    "pip install ipynb"
   ]
  },
  {
   "cell_type": "code",
   "execution_count": 2,
   "id": "81ba7b2a",
   "metadata": {},
   "outputs": [
    {
     "name": "stdout",
     "output_type": "stream",
     "text": [
      "2.8.0\n"
     ]
    }
   ],
   "source": [
    "%run functions.ipynb #pulling in functions from other file \n",
    "import tensorflow as tf\n",
    "from tensorflow import keras\n",
    "from tensorflow.keras import layers\n",
    "from keras.preprocessing.image import ImageDataGenerator\n",
    "from skimage import io\n",
    "from tensorflow.keras import Input, layers\n",
    "from tensorflow.keras import models\n",
    "from tensorflow.keras.layers.experimental import preprocessing\n",
    "from tensorflow.lite.experimental.microfrontend.python.ops import audio_microfrontend_op as frontend_op\n",
    "print(tf.__version__)\n",
    "import numpy as np\n",
    "import shutil, os\n",
    "import matplotlib.pyplot as plt\n",
    "import pathlib\n",
    "import random\n",
    "import sys\n",
    "import io\n",
    "import os\n",
    "import glob\n",
    "from datetime import datetime as dt\n",
    "from tensorflow.keras.models import Model\n",
    "from tensorflow.keras.layers import Input, Dense, Activation, Flatten, BatchNormalization\n",
    "from tensorflow.keras.layers import Conv2D, DepthwiseConv2D, AveragePooling2D, MaxPooling2D\n",
    "from tensorflow.keras.regularizers import l2\n",
    "import os\n",
    "from absl import app\n",
    "\n",
    "assert tf.__version__.startswith('2')"
   ]
  },
  {
   "cell_type": "code",
   "execution_count": 4,
   "id": "0f19c212",
   "metadata": {},
   "outputs": [],
   "source": [
    "IMAGE_SIZE=IMG_SIZE = 96\n",
    "BATCH_SIZE = 128\n",
    "\n",
    "\n",
    "batch_size = 128\n",
    "validation_split = 0.1\n",
    "\n",
    "lrates = .001, .0005, .00025\n",
    "\n",
    "color_mode = 'grayscale'\n",
    "if color_mode == 'grayscale':\n",
    "  n_color_chans = 1\n",
    "elif color_mode == 'rgb':\n",
    "  n_color_chans = 3\n",
    "else:\n",
    "  raise ValueError(\"color_mode should be either 'rgb' or 'grayscale'\")\n",
    "\n",
    "BASE_DIR =\"/Users/Jeromey/IOT/project2/data/augmented\"\n"
   ]
  },
  {
   "cell_type": "code",
   "execution_count": 5,
   "id": "c531fb9d",
   "metadata": {},
   "outputs": [
    {
     "name": "stdout",
     "output_type": "stream",
     "text": [
      "Found 908428 images belonging to 2 classes.\n",
      "Found 100935 images belonging to 2 classes.\n",
      "{'notperson': 0, 'person': 1}\n"
     ]
    }
   ],
   "source": [
    "datagen = tf.keras.preprocessing.image.ImageDataGenerator(\n",
    "    rotation_range=10,\n",
    "    width_shift_range=0.05,\n",
    "    height_shift_range=0.05,\n",
    "    zoom_range=.1,\n",
    "    horizontal_flip=True,\n",
    "    validation_split=validation_split,\n",
    "    rescale=1. / 255)\n",
    "train_generator = datagen.flow_from_directory(\n",
    "    BASE_DIR,\n",
    "    target_size=(IMAGE_SIZE, IMAGE_SIZE),\n",
    "    batch_size=BATCH_SIZE,\n",
    "    subset='training',\n",
    "    color_mode='grayscale') # was 'rgb'\n",
    "val_generator = datagen.flow_from_directory(\n",
    "    BASE_DIR,\n",
    "    target_size=(IMAGE_SIZE, IMAGE_SIZE),\n",
    "    batch_size=BATCH_SIZE,\n",
    "    subset='validation',\n",
    "    color_mode='grayscale') # was 'rgb'\n",
    "print(train_generator.class_indices)\n",
    "\n",
    "\n",
    "def train_epochs(model, train_generator, val_generator, epoch_count,\n",
    "                 learning_rate, steps_per_epoch=None):\n",
    "  model.compile(\n",
    "      optimizer=tf.keras.optimizers.Adam(learning_rate),\n",
    "      loss='categorical_crossentropy',\n",
    "      metrics=['accuracy'])\n",
    "  if steps_per_epoch is None:\n",
    "    steps_per_epoch = len(train_generator)\n",
    "  history_fine = model.fit(\n",
    "      train_generator,\n",
    "      steps_per_epoch=steps_per_epoch,\n",
    "      epochs=epoch_count,\n",
    "      validation_data=val_generator,\n",
    "      validation_steps=len(val_generator),\n",
    "      batch_size=BATCH_SIZE)\n",
    "  return model\n",
    ")"
   ]
  },
  {
   "cell_type": "code",
   "execution_count": 10,
   "id": "afcc80f5",
   "metadata": {},
   "outputs": [],
   "source": [
    "model_file = 'kws_ufe_05may2022_1846.h5'\n",
    "model = tf.keras.models.load_model(model_file)"
   ]
  },
  {
   "cell_type": "code",
   "execution_count": 11,
   "id": "5dd88105",
   "metadata": {},
   "outputs": [
    {
     "name": "stdout",
     "output_type": "stream",
     "text": [
      "Model: \"model\"\n",
      "_________________________________________________________________\n",
      " Layer (type)                Output Shape              Param #   \n",
      "=================================================================\n",
      " input_1 (InputLayer)        [(None, 96, 96, 1)]       0         \n",
      "                                                                 \n",
      " conv2d (Conv2D)             (None, 48, 48, 8)         80        \n",
      "                                                                 \n",
      " batch_normalization (BatchN  (None, 48, 48, 8)        32        \n",
      " ormalization)                                                   \n",
      "                                                                 \n",
      " activation (Activation)     (None, 48, 48, 8)         0         \n",
      "                                                                 \n",
      " depthwise_conv2d (Depthwise  (None, 48, 48, 8)        80        \n",
      " Conv2D)                                                         \n",
      "                                                                 \n",
      " batch_normalization_1 (Batc  (None, 48, 48, 8)        32        \n",
      " hNormalization)                                                 \n",
      "                                                                 \n",
      " activation_1 (Activation)   (None, 48, 48, 8)         0         \n",
      "                                                                 \n",
      " conv2d_1 (Conv2D)           (None, 48, 48, 16)        144       \n",
      "                                                                 \n",
      " batch_normalization_2 (Batc  (None, 48, 48, 16)       64        \n",
      " hNormalization)                                                 \n",
      "                                                                 \n",
      " activation_2 (Activation)   (None, 48, 48, 16)        0         \n",
      "                                                                 \n",
      " depthwise_conv2d_1 (Depthwi  (None, 24, 24, 16)       160       \n",
      " seConv2D)                                                       \n",
      "                                                                 \n",
      " batch_normalization_3 (Batc  (None, 24, 24, 16)       64        \n",
      " hNormalization)                                                 \n",
      "                                                                 \n",
      " activation_3 (Activation)   (None, 24, 24, 16)        0         \n",
      "                                                                 \n",
      " conv2d_2 (Conv2D)           (None, 24, 24, 32)        544       \n",
      "                                                                 \n",
      " batch_normalization_4 (Batc  (None, 24, 24, 32)       128       \n",
      " hNormalization)                                                 \n",
      "                                                                 \n",
      " activation_4 (Activation)   (None, 24, 24, 32)        0         \n",
      "                                                                 \n",
      " depthwise_conv2d_2 (Depthwi  (None, 24, 24, 32)       320       \n",
      " seConv2D)                                                       \n",
      "                                                                 \n",
      " batch_normalization_5 (Batc  (None, 24, 24, 32)       128       \n",
      " hNormalization)                                                 \n",
      "                                                                 \n",
      " activation_5 (Activation)   (None, 24, 24, 32)        0         \n",
      "                                                                 \n",
      " conv2d_3 (Conv2D)           (None, 24, 24, 32)        1056      \n",
      "                                                                 \n",
      " batch_normalization_6 (Batc  (None, 24, 24, 32)       128       \n",
      " hNormalization)                                                 \n",
      "                                                                 \n",
      " activation_6 (Activation)   (None, 24, 24, 32)        0         \n",
      "                                                                 \n",
      " depthwise_conv2d_3 (Depthwi  (None, 12, 12, 32)       320       \n",
      " seConv2D)                                                       \n",
      "                                                                 \n",
      " batch_normalization_7 (Batc  (None, 12, 12, 32)       128       \n",
      " hNormalization)                                                 \n",
      "                                                                 \n",
      " activation_7 (Activation)   (None, 12, 12, 32)        0         \n",
      "                                                                 \n",
      " conv2d_4 (Conv2D)           (None, 12, 12, 64)        2112      \n",
      "                                                                 \n",
      " batch_normalization_8 (Batc  (None, 12, 12, 64)       256       \n",
      " hNormalization)                                                 \n",
      "                                                                 \n",
      " activation_8 (Activation)   (None, 12, 12, 64)        0         \n",
      "                                                                 \n",
      " depthwise_conv2d_4 (Depthwi  (None, 12, 12, 64)       640       \n",
      " seConv2D)                                                       \n",
      "                                                                 \n",
      " batch_normalization_9 (Batc  (None, 12, 12, 64)       256       \n",
      " hNormalization)                                                 \n",
      "                                                                 \n",
      " activation_9 (Activation)   (None, 12, 12, 64)        0         \n",
      "                                                                 \n",
      " conv2d_5 (Conv2D)           (None, 12, 12, 64)        4160      \n",
      "                                                                 \n",
      " batch_normalization_10 (Bat  (None, 12, 12, 64)       256       \n",
      " chNormalization)                                                \n",
      "                                                                 \n",
      " activation_10 (Activation)  (None, 12, 12, 64)        0         \n",
      "                                                                 \n",
      " depthwise_conv2d_5 (Depthwi  (None, 6, 6, 64)         640       \n",
      " seConv2D)                                                       \n",
      "                                                                 \n",
      " batch_normalization_11 (Bat  (None, 6, 6, 64)         256       \n",
      " chNormalization)                                                \n",
      "                                                                 \n",
      " activation_11 (Activation)  (None, 6, 6, 64)          0         \n",
      "                                                                 \n",
      " conv2d_6 (Conv2D)           (None, 6, 6, 128)         8320      \n",
      "                                                                 \n",
      " batch_normalization_12 (Bat  (None, 6, 6, 128)        512       \n",
      " chNormalization)                                                \n",
      "                                                                 \n",
      " activation_12 (Activation)  (None, 6, 6, 128)         0         \n",
      "                                                                 \n",
      " depthwise_conv2d_6 (Depthwi  (None, 6, 6, 128)        1280      \n",
      " seConv2D)                                                       \n",
      "                                                                 \n",
      " batch_normalization_13 (Bat  (None, 6, 6, 128)        512       \n",
      " chNormalization)                                                \n",
      "                                                                 \n",
      " activation_13 (Activation)  (None, 6, 6, 128)         0         \n",
      "                                                                 \n",
      " conv2d_7 (Conv2D)           (None, 6, 6, 128)         16512     \n",
      "                                                                 \n",
      " batch_normalization_14 (Bat  (None, 6, 6, 128)        512       \n",
      " chNormalization)                                                \n",
      "                                                                 \n",
      " activation_14 (Activation)  (None, 6, 6, 128)         0         \n",
      "                                                                 \n",
      " depthwise_conv2d_7 (Depthwi  (None, 6, 6, 128)        1280      \n",
      " seConv2D)                                                       \n",
      "                                                                 \n",
      " batch_normalization_15 (Bat  (None, 6, 6, 128)        512       \n",
      " chNormalization)                                                \n",
      "                                                                 \n",
      " activation_15 (Activation)  (None, 6, 6, 128)         0         \n"
     ]
    },
    {
     "name": "stdout",
     "output_type": "stream",
     "text": [
      "                                                                 \n",
      " conv2d_8 (Conv2D)           (None, 6, 6, 128)         16512     \n",
      "                                                                 \n",
      " batch_normalization_16 (Bat  (None, 6, 6, 128)        512       \n",
      " chNormalization)                                                \n",
      "                                                                 \n",
      " activation_16 (Activation)  (None, 6, 6, 128)         0         \n",
      "                                                                 \n",
      " depthwise_conv2d_8 (Depthwi  (None, 6, 6, 128)        1280      \n",
      " seConv2D)                                                       \n",
      "                                                                 \n",
      " batch_normalization_17 (Bat  (None, 6, 6, 128)        512       \n",
      " chNormalization)                                                \n",
      "                                                                 \n",
      " activation_17 (Activation)  (None, 6, 6, 128)         0         \n",
      "                                                                 \n",
      " conv2d_9 (Conv2D)           (None, 6, 6, 128)         16512     \n",
      "                                                                 \n",
      " batch_normalization_18 (Bat  (None, 6, 6, 128)        512       \n",
      " chNormalization)                                                \n",
      "                                                                 \n",
      " activation_18 (Activation)  (None, 6, 6, 128)         0         \n",
      "                                                                 \n",
      " depthwise_conv2d_9 (Depthwi  (None, 6, 6, 128)        1280      \n",
      " seConv2D)                                                       \n",
      "                                                                 \n",
      " batch_normalization_19 (Bat  (None, 6, 6, 128)        512       \n",
      " chNormalization)                                                \n",
      "                                                                 \n",
      " activation_19 (Activation)  (None, 6, 6, 128)         0         \n",
      "                                                                 \n",
      " conv2d_10 (Conv2D)          (None, 6, 6, 128)         16512     \n",
      "                                                                 \n",
      " batch_normalization_20 (Bat  (None, 6, 6, 128)        512       \n",
      " chNormalization)                                                \n",
      "                                                                 \n",
      " activation_20 (Activation)  (None, 6, 6, 128)         0         \n",
      "                                                                 \n",
      " depthwise_conv2d_10 (Depthw  (None, 6, 6, 128)        1280      \n",
      " iseConv2D)                                                      \n",
      "                                                                 \n",
      " batch_normalization_21 (Bat  (None, 6, 6, 128)        512       \n",
      " chNormalization)                                                \n",
      "                                                                 \n",
      " activation_21 (Activation)  (None, 6, 6, 128)         0         \n",
      "                                                                 \n",
      " conv2d_11 (Conv2D)          (None, 6, 6, 128)         16512     \n",
      "                                                                 \n",
      " batch_normalization_22 (Bat  (None, 6, 6, 128)        512       \n",
      " chNormalization)                                                \n",
      "                                                                 \n",
      " activation_22 (Activation)  (None, 6, 6, 128)         0         \n",
      "                                                                 \n",
      " depthwise_conv2d_11 (Depthw  (None, 3, 3, 128)        1280      \n",
      " iseConv2D)                                                      \n",
      "                                                                 \n",
      " batch_normalization_23 (Bat  (None, 3, 3, 128)        512       \n",
      " chNormalization)                                                \n",
      "                                                                 \n",
      " activation_23 (Activation)  (None, 3, 3, 128)         0         \n",
      "                                                                 \n",
      " conv2d_12 (Conv2D)          (None, 3, 3, 256)         33024     \n",
      "                                                                 \n",
      " batch_normalization_24 (Bat  (None, 3, 3, 256)        1024      \n",
      " chNormalization)                                                \n",
      "                                                                 \n",
      " activation_24 (Activation)  (None, 3, 3, 256)         0         \n",
      "                                                                 \n",
      " depthwise_conv2d_12 (Depthw  (None, 3, 3, 256)        2560      \n",
      " iseConv2D)                                                      \n",
      "                                                                 \n",
      " batch_normalization_25 (Bat  (None, 3, 3, 256)        1024      \n",
      " chNormalization)                                                \n",
      "                                                                 \n",
      " activation_25 (Activation)  (None, 3, 3, 256)         0         \n",
      "                                                                 \n",
      " conv2d_13 (Conv2D)          (None, 3, 3, 256)         65792     \n",
      "                                                                 \n",
      " batch_normalization_26 (Bat  (None, 3, 3, 256)        1024      \n",
      " chNormalization)                                                \n",
      "                                                                 \n",
      " activation_26 (Activation)  (None, 3, 3, 256)         0         \n",
      "                                                                 \n",
      " average_pooling2d (AverageP  (None, 1, 1, 256)        0         \n",
      " ooling2D)                                                       \n",
      "                                                                 \n",
      " flatten (Flatten)           (None, 256)               0         \n",
      "                                                                 \n",
      " dense (Dense)               (None, 2)                 514       \n",
      "                                                                 \n",
      "=================================================================\n",
      "Total params: 221,650\n",
      "Trainable params: 216,178\n",
      "Non-trainable params: 5,472\n",
      "_________________________________________________________________\n"
     ]
    }
   ],
   "source": [
    "model.summary()"
   ]
  },
  {
   "cell_type": "code",
   "execution_count": 12,
   "id": "dd45a2ea",
   "metadata": {},
   "outputs": [
    {
     "name": "stdout",
     "output_type": "stream",
     "text": [
      "Bird accuracy: 0.989\n",
      "Unknown accuracy: 0.01\n"
     ]
    }
   ],
   "source": [
    "test_model(1000) #For unknown its inverted so % wrong"
   ]
  },
  {
   "cell_type": "code",
   "execution_count": 14,
   "id": "5a979070",
   "metadata": {},
   "outputs": [
    {
     "name": "stdout",
     "output_type": "stream",
     "text": [
      "Epoch 1/100\n",
      "2366/2366 [==============================] - 1085s 458ms/step - loss: 0.1096 - accuracy: 0.9682 - val_loss: 0.5835 - val_accuracy: 0.8523\n",
      "Epoch 2/100\n",
      "2366/2366 [==============================] - 1196s 506ms/step - loss: 0.1034 - accuracy: 0.9702 - val_loss: 0.5750 - val_accuracy: 0.8529\n",
      "Epoch 3/100\n",
      "2366/2366 [==============================] - 1233s 521ms/step - loss: 0.1017 - accuracy: 0.9703 - val_loss: 0.4825 - val_accuracy: 0.8636\n",
      "Epoch 4/100\n",
      "2366/2366 [==============================] - 1045s 442ms/step - loss: 0.1007 - accuracy: 0.9706 - val_loss: 0.5322 - val_accuracy: 0.8523\n",
      "Epoch 5/100\n",
      "2366/2366 [==============================] - 914s 386ms/step - loss: 0.0980 - accuracy: 0.9712 - val_loss: 0.4038 - val_accuracy: 0.8699\n",
      "Epoch 6/100\n",
      "2366/2366 [==============================] - 846s 358ms/step - loss: 0.0974 - accuracy: 0.9712 - val_loss: 0.4631 - val_accuracy: 0.8609\n",
      "Epoch 7/100\n",
      "2366/2366 [==============================] - 788s 333ms/step - loss: 0.0960 - accuracy: 0.9717 - val_loss: 0.3665 - val_accuracy: 0.8766\n",
      "Epoch 8/100\n",
      "2366/2366 [==============================] - 721s 304ms/step - loss: 0.0952 - accuracy: 0.9719 - val_loss: 0.5326 - val_accuracy: 0.8582\n",
      "Epoch 9/100\n",
      "2366/2366 [==============================] - 675s 285ms/step - loss: 0.0945 - accuracy: 0.9720 - val_loss: 0.4873 - val_accuracy: 0.8589\n",
      "Epoch 10/100\n",
      "2366/2366 [==============================] - ETA: 0s - loss: 0.0937 - accuracy: 0.9723Restoring model weights from the end of the best epoch: 7.\n",
      "2366/2366 [==============================] - 996s 421ms/step - loss: 0.0937 - accuracy: 0.9723 - val_loss: 0.3988 - val_accuracy: 0.8638\n",
      "Epoch 10: early stopping\n"
     ]
    },
    {
     "data": {
      "image/png": "[encoded data removed]",
      "text/plain": [
       "<Figure size 432x288 with 2 Axes>"
      ]
     },
     "metadata": {
      "needs_background": "light"
     },
     "output_type": "display_data"
    }
   ],
   "source": [
    "model.compile(\n",
    "      optimizer=tf.keras.optimizers.Adam(.00025),\n",
    "      loss='categorical_crossentropy',\n",
    "      metrics=['accuracy'])\n",
    "    \n",
    "callback=tf.keras.callbacks.EarlyStopping(\n",
    "    monitor= 'val_accuracy',\n",
    "    verbose=1,\n",
    "    patience=3,\n",
    "    restore_best_weights=True\n",
    ")\n",
    "\n",
    "history = model.fit(\n",
    "    train_generator, \n",
    "    validation_data=val_generator,  \n",
    "    steps_per_epoch=len(train_generator)//3,\n",
    "    validation_steps=len(val_generator)//2,\n",
    "    epochs=100,\n",
    "    callbacks=[callback]\n",
    ")\n",
    "\n",
    "plot_accuracy(history)"
   ]
  },
  {
   "cell_type": "code",
   "execution_count": 17,
   "id": "188e6a37",
   "metadata": {},
   "outputs": [
    {
     "name": "stdout",
     "output_type": "stream",
     "text": [
      "Epoch 1/100\n",
      "2366/2366 [==============================] - 1195s 504ms/step - loss: 0.0929 - accuracy: 0.9729 - val_loss: 0.4424 - val_accuracy: 0.8669\n",
      "Epoch 2/100\n",
      "2366/2366 [==============================] - 1020s 431ms/step - loss: 0.0905 - accuracy: 0.9739 - val_loss: 0.4339 - val_accuracy: 0.8677\n",
      "Epoch 3/100\n",
      "2366/2366 [==============================] - 937s 396ms/step - loss: 0.0908 - accuracy: 0.9736 - val_loss: 0.4345 - val_accuracy: 0.8679\n",
      "Epoch 4/100\n",
      "2366/2366 [==============================] - 861s 364ms/step - loss: 0.0898 - accuracy: 0.9740 - val_loss: 0.4398 - val_accuracy: 0.8666\n",
      "Epoch 5/100\n",
      "2366/2366 [==============================] - 789s 333ms/step - loss: 0.0893 - accuracy: 0.9739 - val_loss: 0.4405 - val_accuracy: 0.8669\n",
      "Epoch 6/100\n",
      "2366/2366 [==============================] - ETA: 0s - loss: 0.0899 - accuracy: 0.9738Restoring model weights from the end of the best epoch: 3.\n",
      "2366/2366 [==============================] - 722s 305ms/step - loss: 0.0899 - accuracy: 0.9738 - val_loss: 0.4429 - val_accuracy: 0.8669\n",
      "Epoch 6: early stopping\n"
     ]
    },
    {
     "data": {
      "image/png": "[encoded data removed]",
      "text/plain": [
       "<Figure size 432x288 with 2 Axes>"
      ]
     },
     "metadata": {
      "needs_background": "light"
     },
     "output_type": "display_data"
    }
   ],
   "source": [
    "model.compile(\n",
    "      optimizer=tf.keras.optimizers.Adam(0.00001),\n",
    "      loss='categorical_crossentropy',\n",
    "      metrics=['accuracy'])\n",
    "    \n",
    "callback=tf.keras.callbacks.EarlyStopping(\n",
    "    monitor= 'val_accuracy',\n",
    "    verbose=1,\n",
    "    patience=3,\n",
    "    restore_best_weights=True\n",
    ")\n",
    "\n",
    "history = model.fit(\n",
    "    train_generator, \n",
    "    validation_data=val_generator,  \n",
    "    steps_per_epoch=len(train_generator)//3,\n",
    "    validation_steps=len(val_generator)//2,\n",
    "    epochs=100,\n",
    "    callbacks=[callback]\n",
    ")\n",
    "\n",
    "plot_accuracy(history)"
   ]
  },
  {
   "cell_type": "code",
   "execution_count": 18,
   "id": "e4a9b360",
   "metadata": {},
   "outputs": [
    {
     "name": "stdout",
     "output_type": "stream",
     "text": [
      "Saving model to kws_ufe_06may2022_0038.h5\n"
     ]
    }
   ],
   "source": [
    "save_model()"
   ]
  },
  {
   "cell_type": "code",
   "execution_count": 19,
   "id": "cbd67e53",
   "metadata": {},
   "outputs": [
    {
     "name": "stdout",
     "output_type": "stream",
     "text": [
      "Epoch 1/100\n",
      "7098/7098 [==============================] - 2282s 321ms/step - loss: 0.0896 - accuracy: 0.9741 - val_loss: 0.4369 - val_accuracy: 0.8683\n",
      "Epoch 2/100\n",
      "7098/7098 [==============================] - 1988s 280ms/step - loss: 0.0891 - accuracy: 0.9741 - val_loss: 0.4484 - val_accuracy: 0.8673\n",
      "Epoch 3/100\n",
      "7098/7098 [==============================] - 2091s 295ms/step - loss: 0.0883 - accuracy: 0.9744 - val_loss: 0.4392 - val_accuracy: 0.8677\n",
      "Epoch 4/100\n",
      "7098/7098 [==============================] - ETA: 0s - loss: 0.0881 - accuracy: 0.9746Restoring model weights from the end of the best epoch: 1.\n",
      "7098/7098 [==============================] - 2643s 372ms/step - loss: 0.0881 - accuracy: 0.9746 - val_loss: 0.4521 - val_accuracy: 0.8665\n",
      "Epoch 4: early stopping\n"
     ]
    },
    {
     "data": {
      "image/png": "[encoded data removed]",
      "text/plain": [
       "<Figure size 432x288 with 2 Axes>"
      ]
     },
     "metadata": {
      "needs_background": "light"
     },
     "output_type": "display_data"
    }
   ],
   "source": [
    "model.compile(\n",
    "      optimizer=tf.keras.optimizers.Adam(0.00001),\n",
    "      loss='categorical_crossentropy',\n",
    "      metrics=['accuracy'])\n",
    "    \n",
    "callback=tf.keras.callbacks.EarlyStopping(\n",
    "    monitor= 'val_accuracy',\n",
    "    verbose=1,\n",
    "    patience=3,\n",
    "    restore_best_weights=True\n",
    ")\n",
    "\n",
    "history = model.fit(\n",
    "    train_generator, \n",
    "    validation_data=val_generator,  \n",
    "    steps_per_epoch=len(train_generator),\n",
    "    validation_steps=len(val_generator),\n",
    "    epochs=100,\n",
    "    callbacks=[callback]\n",
    ")\n",
    "\n",
    "plot_accuracy(history)"
   ]
  },
  {
   "cell_type": "code",
   "execution_count": 20,
   "id": "8ddd47ee",
   "metadata": {},
   "outputs": [
    {
     "name": "stdout",
     "output_type": "stream",
     "text": [
      "Saving model to kws_ufe_06may2022_0308.h5\n"
     ]
    }
   ],
   "source": [
    "save_model()"
   ]
  },
  {
   "cell_type": "code",
   "execution_count": 21,
   "id": "76459552",
   "metadata": {},
   "outputs": [
    {
     "name": "stdout",
     "output_type": "stream",
     "text": [
      "Epoch 1/100\n",
      "7098/7098 [==============================] - 3271s 460ms/step - loss: 0.0891 - accuracy: 0.9743 - val_loss: 0.4431 - val_accuracy: 0.8669\n",
      "Epoch 2/100\n",
      "7098/7098 [==============================] - 2109s 297ms/step - loss: 0.0889 - accuracy: 0.9743 - val_loss: 0.4470 - val_accuracy: 0.8665\n",
      "Epoch 3/100\n",
      "7098/7098 [==============================] - 2137s 301ms/step - loss: 0.0891 - accuracy: 0.9742 - val_loss: 0.4448 - val_accuracy: 0.8669\n",
      "Epoch 4/100\n",
      "7098/7098 [==============================] - 2081s 293ms/step - loss: 0.0888 - accuracy: 0.9743 - val_loss: 0.4490 - val_accuracy: 0.8670\n",
      "Epoch 5/100\n",
      "7098/7098 [==============================] - 2142s 302ms/step - loss: 0.0885 - accuracy: 0.9744 - val_loss: 0.4458 - val_accuracy: 0.8670\n",
      "Epoch 6/100\n",
      "7098/7098 [==============================] - 2065s 291ms/step - loss: 0.0887 - accuracy: 0.9743 - val_loss: 0.4463 - val_accuracy: 0.8670\n",
      "Epoch 7/100\n",
      "7098/7098 [==============================] - 2107s 297ms/step - loss: 0.0884 - accuracy: 0.9744 - val_loss: 0.4436 - val_accuracy: 0.8673\n",
      "Epoch 8/100\n",
      "7098/7098 [==============================] - 2122s 299ms/step - loss: 0.0887 - accuracy: 0.9743 - val_loss: 0.4469 - val_accuracy: 0.8667\n",
      "Epoch 9/100\n",
      "7098/7098 [==============================] - 2147s 302ms/step - loss: 0.0879 - accuracy: 0.9746 - val_loss: 0.4428 - val_accuracy: 0.8678\n",
      "Epoch 10/100\n",
      "7098/7098 [==============================] - 2185s 308ms/step - loss: 0.0886 - accuracy: 0.9744 - val_loss: 0.4469 - val_accuracy: 0.8673\n",
      "Epoch 11/100\n",
      "7098/7098 [==============================] - 2433s 343ms/step - loss: 0.0888 - accuracy: 0.9743 - val_loss: 0.4431 - val_accuracy: 0.8681\n",
      "Epoch 12/100\n",
      "7098/7098 [==============================] - 2921s 411ms/step - loss: 0.0882 - accuracy: 0.9745 - val_loss: 0.4477 - val_accuracy: 0.8671\n",
      "Epoch 13/100\n",
      "7098/7098 [==============================] - 2903s 409ms/step - loss: 0.0883 - accuracy: 0.9745 - val_loss: 0.4458 - val_accuracy: 0.8673\n",
      "Epoch 14/100\n",
      "7098/7098 [==============================] - ETA: 0s - loss: 0.0884 - accuracy: 0.9745Restoring model weights from the end of the best epoch: 11.\n",
      "7098/7098 [==============================] - 2829s 399ms/step - loss: 0.0884 - accuracy: 0.9745 - val_loss: 0.4389 - val_accuracy: 0.8676\n",
      "Epoch 14: early stopping\n"
     ]
    },
    {
     "data": {
      "image/png": "[encoded data removed]",
      "text/plain": [
       "<Figure size 432x288 with 2 Axes>"
      ]
     },
     "metadata": {
      "needs_background": "light"
     },
     "output_type": "display_data"
    }
   ],
   "source": [
    "model.compile(\n",
    "      optimizer=tf.keras.optimizers.Adam(0.000001),\n",
    "      loss='categorical_crossentropy',\n",
    "      metrics=['accuracy'])\n",
    "    \n",
    "callback=tf.keras.callbacks.EarlyStopping(\n",
    "    monitor= 'val_accuracy',\n",
    "    verbose=1,\n",
    "    patience=3,\n",
    "    restore_best_weights=True\n",
    ")\n",
    "\n",
    "history = model.fit(\n",
    "    train_generator, \n",
    "    validation_data=val_generator,  \n",
    "    steps_per_epoch=len(train_generator),\n",
    "    validation_steps=len(val_generator),\n",
    "    epochs=100,\n",
    "    callbacks=[callback]\n",
    ")\n",
    "\n",
    "plot_accuracy(history)"
   ]
  },
  {
   "cell_type": "code",
   "execution_count": 22,
   "id": "d120cd4d",
   "metadata": {},
   "outputs": [
    {
     "name": "stdout",
     "output_type": "stream",
     "text": [
      "Saving model to kws_ufe_06may2022_1225.h5\n"
     ]
    }
   ],
   "source": [
    "save_model()"
   ]
  },
  {
   "cell_type": "code",
   "execution_count": null,
   "id": "5eb5b153",
   "metadata": {},
   "outputs": [],
   "source": []
  },
  {
   "cell_type": "code",
   "execution_count": null,
   "id": "cef4039b",
   "metadata": {},
   "outputs": [],
   "source": []
  },
  {
   "cell_type": "code",
   "execution_count": null,
   "id": "754fa250",
   "metadata": {},
   "outputs": [],
   "source": []
  },
  {
   "cell_type": "code",
   "execution_count": null,
   "id": "f914bac7",
   "metadata": {},
   "outputs": [],
   "source": []
  },
  {
   "cell_type": "code",
   "execution_count": null,
   "id": "101118f6",
   "metadata": {},
   "outputs": [],
   "source": []
  }
 ],
 "metadata": {
  "kernelspec": {
   "display_name": "Python 3 (ipykernel)",
   "language": "python",
   "name": "python3"
  },
  "language_info": {
   "codemirror_mode": {
    "name": "ipython",
    "version": 3
   },
   "file_extension": ".py",
   "mimetype": "text/x-python",
   "name": "python",
   "nbconvert_exporter": "python",
   "pygments_lexer": "ipython3",
   "version": "3.8.12"
  }
 },
 "nbformat": 4,
 "nbformat_minor": 5
}
