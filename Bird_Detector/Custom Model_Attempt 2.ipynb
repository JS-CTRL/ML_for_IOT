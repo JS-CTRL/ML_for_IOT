{
 "cells": [
  {
   "cell_type": "code",
   "execution_count": 1,
   "id": "f2661430",
   "metadata": {},
   "outputs": [
    {
     "name": "stdout",
     "output_type": "stream",
     "text": [
      "Requirement already satisfied: ipynb in c:\\users\\jeromey\\anaconda3\\envs\\iot\\lib\\site-packages (0.5.1)\n",
      "Note: you may need to restart the kernel to use updated packages.\n"
     ]
    }
   ],
   "source": [
    "pip install ipynb"
   ]
  },
  {
   "cell_type": "code",
   "execution_count": 2,
   "id": "408e8490",
   "metadata": {},
   "outputs": [
    {
     "name": "stdout",
     "output_type": "stream",
     "text": [
      "2.8.0\n"
     ]
    }
   ],
   "source": [
    "import tensorflow as tf\n",
    "from tensorflow import keras\n",
    "from tensorflow.keras import layers\n",
    "from keras.preprocessing.image import ImageDataGenerator\n",
    "from skimage import io\n",
    "from tensorflow.keras import Input, layers\n",
    "from tensorflow.keras import models\n",
    "from tensorflow.keras.layers.experimental import preprocessing\n",
    "from tensorflow.lite.experimental.microfrontend.python.ops import audio_microfrontend_op as frontend_op\n",
    "print(tf.__version__)\n",
    "import numpy as np\n",
    "import shutil, os\n",
    "import matplotlib.pyplot as plt\n",
    "import pathlib\n",
    "import random\n",
    "import sys\n",
    "import io\n",
    "import os\n",
    "import glob\n",
    "from datetime import datetime as dt\n",
    "from tensorflow.keras.models import Model\n",
    "from tensorflow.keras.layers import Input, Dense, Activation, Flatten, BatchNormalization\n",
    "from tensorflow.keras.layers import Conv2D, DepthwiseConv2D, AveragePooling2D, MaxPooling2D\n",
    "from tensorflow.keras.regularizers import l2\n",
    "\n",
    "%run functions.ipynb #pulling in functions from other file "
   ]
  },
  {
   "cell_type": "code",
   "execution_count": null,
   "id": "69b02bc7",
   "metadata": {},
   "outputs": [],
   "source": []
  },
  {
   "cell_type": "code",
   "execution_count": null,
   "id": "2ad1975a",
   "metadata": {},
   "outputs": [],
   "source": []
  },
  {
   "cell_type": "code",
   "execution_count": 3,
   "id": "91ccfff8",
   "metadata": {},
   "outputs": [],
   "source": [
    "NUM_LABELS=2 #Binary classification so 2, [bird:0, unknown:1]\n",
    "IMG_SIZE=96 #image resolution is 96x96 dictated by pico\n",
    "EPOCHS=1000 #Number of epochs to train for\n",
    "BATCH_SIZE = 64 #Batch for speed and regularization\n",
    "INPUT_SHAPE= (IMG_SIZE,IMG_SIZE,1)\n",
    "norm_layer = tf.keras.layers.Normalization(axis=-1)"
   ]
  },
  {
   "cell_type": "code",
   "execution_count": null,
   "id": "dfcfbcc5",
   "metadata": {},
   "outputs": [],
   "source": []
  },
  {
   "cell_type": "code",
   "execution_count": 4,
   "id": "fa6cf101",
   "metadata": {},
   "outputs": [
    {
     "name": "stdout",
     "output_type": "stream",
     "text": [
      "Found 509462 images belonging to 2 classes.\n",
      "Found 509462 images belonging to 2 classes.\n"
     ]
    }
   ],
   "source": [
    "#Getting training and validation data\n",
    "validation_generator=val_gen('data/augmented')\n",
    "train_generator=train_gen('data/augmented')                             "
   ]
  },
  {
   "cell_type": "code",
   "execution_count": null,
   "id": "9d7fae6b",
   "metadata": {},
   "outputs": [],
   "source": []
  },
  {
   "cell_type": "code",
   "execution_count": null,
   "id": "adea9882",
   "metadata": {},
   "outputs": [],
   "source": []
  },
  {
   "cell_type": "code",
   "execution_count": null,
   "id": "38907951",
   "metadata": {},
   "outputs": [],
   "source": []
  },
  {
   "cell_type": "code",
   "execution_count": null,
   "id": "62a52914",
   "metadata": {},
   "outputs": [],
   "source": []
  },
  {
   "cell_type": "code",
   "execution_count": 5,
   "id": "8d334bc8",
   "metadata": {},
   "outputs": [
    {
     "name": "stdout",
     "output_type": "stream",
     "text": [
      "Model: \"attempt_1\"\n",
      "_________________________________________________________________\n",
      " Layer (type)                Output Shape              Param #   \n",
      "=================================================================\n",
      " conv2d (Conv2D)             (None, 47, 47, 8)         80        \n",
      "                                                                 \n",
      " depthwise_conv2d (Depthwise  (None, 47, 47, 8)        80        \n",
      " Conv2D)                                                         \n",
      "                                                                 \n",
      " conv2d_1 (Conv2D)           (None, 45, 45, 16)        1168      \n",
      "                                                                 \n",
      " depthwise_conv2d_1 (Depthwi  (None, 45, 45, 16)       160       \n",
      " seConv2D)                                                       \n",
      "                                                                 \n",
      " max_pooling2d (MaxPooling2D  (None, 22, 22, 16)       0         \n",
      " )                                                               \n",
      "                                                                 \n",
      " dropout (Dropout)           (None, 22, 22, 16)        0         \n",
      "                                                                 \n",
      " conv2d_2 (Conv2D)           (None, 20, 20, 32)        4640      \n",
      "                                                                 \n",
      " depthwise_conv2d_2 (Depthwi  (None, 20, 20, 32)       320       \n",
      " seConv2D)                                                       \n",
      "                                                                 \n",
      " conv2d_3 (Conv2D)           (None, 18, 18, 16)        4624      \n",
      "                                                                 \n",
      " depthwise_conv2d_3 (Depthwi  (None, 18, 18, 16)       160       \n",
      " seConv2D)                                                       \n",
      "                                                                 \n",
      " conv2d_4 (Conv2D)           (None, 16, 16, 8)         1160      \n",
      "                                                                 \n",
      " depthwise_conv2d_4 (Depthwi  (None, 16, 16, 8)        80        \n",
      " seConv2D)                                                       \n",
      "                                                                 \n",
      " max_pooling2d_1 (MaxPooling  (None, 8, 8, 8)          0         \n",
      " 2D)                                                             \n",
      "                                                                 \n",
      " flatten (Flatten)           (None, 512)               0         \n",
      "                                                                 \n",
      " dense (Dense)               (None, 128)               65664     \n",
      "                                                                 \n",
      " dense_1 (Dense)             (None, 2)                 258       \n",
      "                                                                 \n",
      "=================================================================\n",
      "Total params: 78,394\n",
      "Trainable params: 78,394\n",
      "Non-trainable params: 0\n",
      "_________________________________________________________________\n"
     ]
    }
   ],
   "source": [
    "model = models.Sequential([\n",
    "    layers.Input(shape=INPUT_SHAPE),\n",
    " #   norm_layer,\n",
    "    \n",
    "    \n",
    "    \n",
    "    layers.Conv2D(8, 3,2, activation='relu'),\n",
    "    layers.DepthwiseConv2D(kernel_size=(3,3), padding='same'),\n",
    "\n",
    "\n",
    "                        \n",
    "    layers.Conv2D(16, 3, activation='relu'),\n",
    "    layers.DepthwiseConv2D(kernel_size=(3,3), padding='same'),\n",
    "    layers.MaxPooling2D(pool_size=(2, 2)),\n",
    "    layers.Dropout(0.4), \n",
    "    \n",
    "    layers.Conv2D(32, 3, activation='relu'),\n",
    "    layers.DepthwiseConv2D(kernel_size=(3,3), padding='same'),\n",
    "    #layers.MaxPooling2D(pool_size=(2, 2)),\n",
    "\n",
    "                        \n",
    "    layers.Conv2D(16, 3, activation='relu'),\n",
    "    layers.DepthwiseConv2D(kernel_size=(3,3), padding='same'),\n",
    "  #  layers.MaxPooling2D(pool_size=(2, 2)),\n",
    "\n",
    "    layers.Conv2D(8, 3, activation='relu'),\n",
    "    layers.DepthwiseConv2D(kernel_size=(3,3), padding='same'),\n",
    "    layers.MaxPooling2D(pool_size=(2, 2)),                   \n",
    "    \n",
    "    \n",
    "    layers.Flatten(),\n",
    "\n",
    "    layers.Dense(128, activation='softmax'),\n",
    "    \n",
    "    layers.Dense(NUM_LABELS),\n",
    "], name=\"attempt_1\")\n",
    "model.summary()\n"
   ]
  },
  {
   "cell_type": "code",
   "execution_count": 6,
   "id": "ac016098",
   "metadata": {
    "scrolled": false
   },
   "outputs": [
    {
     "name": "stdout",
     "output_type": "stream",
     "text": [
      "Steps: 256\n",
      "Epoch 1/100\n",
      "256/256 [==============================] - 78s 300ms/step - loss: 0.6732 - accuracy: 0.5770 - val_loss: 0.6282 - val_accuracy: 0.6766\n",
      "Epoch 2/100\n",
      "256/256 [==============================] - 70s 275ms/step - loss: 0.6016 - accuracy: 0.6969 - val_loss: 0.5836 - val_accuracy: 0.7085\n",
      "Epoch 3/100\n",
      "256/256 [==============================] - 68s 265ms/step - loss: 0.5571 - accuracy: 0.7284 - val_loss: 0.5246 - val_accuracy: 0.7578\n",
      "Epoch 4/100\n",
      "256/256 [==============================] - 65s 253ms/step - loss: 0.5190 - accuracy: 0.7526 - val_loss: 0.4817 - val_accuracy: 0.7817\n",
      "Epoch 5/100\n",
      "256/256 [==============================] - 62s 242ms/step - loss: 0.4848 - accuracy: 0.7735 - val_loss: 0.4562 - val_accuracy: 0.7906\n",
      "Epoch 6/100\n",
      "256/256 [==============================] - 59s 231ms/step - loss: 0.4567 - accuracy: 0.7878 - val_loss: 0.4437 - val_accuracy: 0.7971\n",
      "Epoch 7/100\n",
      "256/256 [==============================] - 57s 224ms/step - loss: 0.4402 - accuracy: 0.7983 - val_loss: 0.4210 - val_accuracy: 0.8110\n",
      "Epoch 8/100\n",
      "256/256 [==============================] - 55s 215ms/step - loss: 0.4310 - accuracy: 0.8017 - val_loss: 0.4221 - val_accuracy: 0.8066\n",
      "Epoch 9/100\n",
      "256/256 [==============================] - 53s 207ms/step - loss: 0.4109 - accuracy: 0.8130 - val_loss: 0.3952 - val_accuracy: 0.8221\n",
      "Epoch 10/100\n",
      "256/256 [==============================] - 51s 198ms/step - loss: 0.4014 - accuracy: 0.8196 - val_loss: 0.3885 - val_accuracy: 0.8278\n",
      "Epoch 11/100\n",
      "256/256 [==============================] - 50s 195ms/step - loss: 0.3922 - accuracy: 0.8205 - val_loss: 0.3597 - val_accuracy: 0.8436\n",
      "Epoch 12/100\n",
      "256/256 [==============================] - 48s 187ms/step - loss: 0.3735 - accuracy: 0.8329 - val_loss: 0.3661 - val_accuracy: 0.8351\n",
      "Epoch 13/100\n",
      "256/256 [==============================] - 46s 179ms/step - loss: 0.3756 - accuracy: 0.8311 - val_loss: 0.3834 - val_accuracy: 0.8314\n",
      "Epoch 14/100\n",
      "256/256 [==============================] - 45s 174ms/step - loss: 0.3756 - accuracy: 0.8328 - val_loss: 0.3575 - val_accuracy: 0.8497\n",
      "Epoch 15/100\n",
      "256/256 [==============================] - 43s 170ms/step - loss: 0.3613 - accuracy: 0.8393 - val_loss: 0.3342 - val_accuracy: 0.8542\n",
      "Epoch 16/100\n",
      "256/256 [==============================] - 41s 162ms/step - loss: 0.3522 - accuracy: 0.8480 - val_loss: 0.3219 - val_accuracy: 0.8630\n",
      "Epoch 17/100\n",
      "256/256 [==============================] - 40s 157ms/step - loss: 0.3507 - accuracy: 0.8437 - val_loss: 0.3498 - val_accuracy: 0.8421\n",
      "Epoch 18/100\n",
      "256/256 [==============================] - 38s 150ms/step - loss: 0.3466 - accuracy: 0.8476 - val_loss: 0.3351 - val_accuracy: 0.8524\n",
      "Epoch 19/100\n",
      "256/256 [==============================] - 38s 147ms/step - loss: 0.3352 - accuracy: 0.8530 - val_loss: 0.3468 - val_accuracy: 0.8474\n",
      "Epoch 20/100\n",
      "256/256 [==============================] - 36s 142ms/step - loss: 0.3368 - accuracy: 0.8506 - val_loss: 0.3455 - val_accuracy: 0.8508\n",
      "Epoch 21/100\n",
      "256/256 [==============================] - 36s 141ms/step - loss: 0.3372 - accuracy: 0.8515 - val_loss: 0.3202 - val_accuracy: 0.8602\n",
      "Epoch 22/100\n",
      "256/256 [==============================] - 35s 138ms/step - loss: 0.3259 - accuracy: 0.8591 - val_loss: 0.3336 - val_accuracy: 0.8465\n",
      "Epoch 23/100\n",
      "256/256 [==============================] - 34s 133ms/step - loss: 0.3285 - accuracy: 0.8535 - val_loss: 0.3095 - val_accuracy: 0.8680\n",
      "Epoch 24/100\n",
      "256/256 [==============================] - 33s 129ms/step - loss: 0.3209 - accuracy: 0.8593 - val_loss: 0.3117 - val_accuracy: 0.8641\n",
      "Epoch 25/100\n",
      "256/256 [==============================] - 32s 126ms/step - loss: 0.3164 - accuracy: 0.8603 - val_loss: 0.3433 - val_accuracy: 0.8519\n",
      "Epoch 26/100\n",
      "256/256 [==============================] - 32s 123ms/step - loss: 0.3162 - accuracy: 0.8615 - val_loss: 0.2893 - val_accuracy: 0.8745\n",
      "Epoch 27/100\n",
      "256/256 [==============================] - 30s 118ms/step - loss: 0.3141 - accuracy: 0.8605 - val_loss: 0.3047 - val_accuracy: 0.8688\n",
      "Epoch 28/100\n",
      "256/256 [==============================] - 30s 116ms/step - loss: 0.3161 - accuracy: 0.8622 - val_loss: 0.3022 - val_accuracy: 0.8695\n",
      "Epoch 29/100\n",
      "256/256 [==============================] - 29s 114ms/step - loss: 0.3072 - accuracy: 0.8643 - val_loss: 0.2932 - val_accuracy: 0.8759\n",
      "Epoch 30/100\n",
      "256/256 [==============================] - 29s 111ms/step - loss: 0.3057 - accuracy: 0.8676 - val_loss: 0.2839 - val_accuracy: 0.8767\n",
      "Epoch 31/100\n",
      "256/256 [==============================] - 28s 109ms/step - loss: 0.3052 - accuracy: 0.8641 - val_loss: 0.2962 - val_accuracy: 0.8724\n",
      "Epoch 32/100\n",
      "256/256 [==============================] - 28s 108ms/step - loss: 0.2994 - accuracy: 0.8724 - val_loss: 0.3189 - val_accuracy: 0.8605\n",
      "Epoch 33/100\n",
      "256/256 [==============================] - 27s 106ms/step - loss: 0.3045 - accuracy: 0.8674 - val_loss: 0.2969 - val_accuracy: 0.8734\n",
      "Epoch 34/100\n",
      "256/256 [==============================] - 27s 104ms/step - loss: 0.2928 - accuracy: 0.8708 - val_loss: 0.2910 - val_accuracy: 0.8765\n",
      "Epoch 35/100\n",
      "256/256 [==============================] - 26s 103ms/step - loss: 0.2884 - accuracy: 0.8779 - val_loss: 0.2799 - val_accuracy: 0.8794\n",
      "Epoch 36/100\n",
      "256/256 [==============================] - 26s 102ms/step - loss: 0.2845 - accuracy: 0.8757 - val_loss: 0.2865 - val_accuracy: 0.8745\n",
      "Epoch 37/100\n",
      "256/256 [==============================] - 25s 99ms/step - loss: 0.2917 - accuracy: 0.8715 - val_loss: 0.2797 - val_accuracy: 0.8815\n",
      "Epoch 38/100\n",
      "256/256 [==============================] - 26s 100ms/step - loss: 0.2954 - accuracy: 0.8694 - val_loss: 0.2859 - val_accuracy: 0.8726\n",
      "Epoch 39/100\n",
      "256/256 [==============================] - 25s 99ms/step - loss: 0.2841 - accuracy: 0.8746 - val_loss: 0.2663 - val_accuracy: 0.8840\n",
      "Epoch 40/100\n",
      "256/256 [==============================] - 25s 99ms/step - loss: 0.2787 - accuracy: 0.8779 - val_loss: 0.2836 - val_accuracy: 0.8785\n",
      "Epoch 41/100\n",
      "256/256 [==============================] - 25s 98ms/step - loss: 0.2868 - accuracy: 0.8747 - val_loss: 0.3109 - val_accuracy: 0.8615\n",
      "Epoch 42/100\n",
      "256/256 [==============================] - 25s 97ms/step - loss: 0.2823 - accuracy: 0.8760 - val_loss: 0.2653 - val_accuracy: 0.8865\n",
      "Epoch 43/100\n",
      "256/256 [==============================] - 24s 96ms/step - loss: 0.2803 - accuracy: 0.8763 - val_loss: 0.2937 - val_accuracy: 0.8717\n",
      "Epoch 44/100\n",
      "256/256 [==============================] - 24s 95ms/step - loss: 0.2855 - accuracy: 0.8741 - val_loss: 0.2605 - val_accuracy: 0.8878\n",
      "Epoch 45/100\n",
      "256/256 [==============================] - 24s 94ms/step - loss: 0.2854 - accuracy: 0.8752 - val_loss: 0.2643 - val_accuracy: 0.8831\n",
      "Epoch 46/100\n",
      "256/256 [==============================] - 24s 95ms/step - loss: 0.2724 - accuracy: 0.8812 - val_loss: 0.2623 - val_accuracy: 0.8837\n",
      "Epoch 47/100\n",
      "256/256 [==============================] - 24s 94ms/step - loss: 0.2734 - accuracy: 0.8804 - val_loss: 0.2608 - val_accuracy: 0.8882\n",
      "Epoch 48/100\n",
      "256/256 [==============================] - 24s 92ms/step - loss: 0.2710 - accuracy: 0.8813 - val_loss: 0.2681 - val_accuracy: 0.8839\n",
      "Epoch 49/100\n",
      "256/256 [==============================] - 24s 92ms/step - loss: 0.2784 - accuracy: 0.8799 - val_loss: 0.2979 - val_accuracy: 0.8698\n",
      "Epoch 50/100\n",
      "256/256 [==============================] - 23s 92ms/step - loss: 0.2665 - accuracy: 0.8849 - val_loss: 0.2864 - val_accuracy: 0.8781\n",
      "Epoch 51/100\n",
      "256/256 [==============================] - 23s 91ms/step - loss: 0.2671 - accuracy: 0.8847 - val_loss: 0.2703 - val_accuracy: 0.8795\n",
      "Epoch 52/100\n",
      "256/256 [==============================] - 23s 91ms/step - loss: 0.2694 - accuracy: 0.8815 - val_loss: 0.2765 - val_accuracy: 0.8782\n",
      "Epoch 53/100\n",
      "256/256 [==============================] - 23s 91ms/step - loss: 0.2624 - accuracy: 0.8898 - val_loss: 0.2667 - val_accuracy: 0.8858\n",
      "Epoch 54/100\n",
      "256/256 [==============================] - 23s 91ms/step - loss: 0.2649 - accuracy: 0.8860 - val_loss: 0.2727 - val_accuracy: 0.8798\n",
      "Epoch 55/100\n",
      "256/256 [==============================] - 23s 90ms/step - loss: 0.2592 - accuracy: 0.8870 - val_loss: 0.3432 - val_accuracy: 0.8575\n",
      "Epoch 56/100\n",
      "256/256 [==============================] - 23s 90ms/step - loss: 0.2674 - accuracy: 0.8826 - val_loss: 0.2692 - val_accuracy: 0.8817\n"
     ]
    },
    {
     "name": "stdout",
     "output_type": "stream",
     "text": [
      "Epoch 57/100\n",
      "256/256 [==============================] - 23s 90ms/step - loss: 0.2602 - accuracy: 0.8898 - val_loss: 0.2525 - val_accuracy: 0.8918\n",
      "Epoch 58/100\n",
      "256/256 [==============================] - 23s 90ms/step - loss: 0.2685 - accuracy: 0.8826 - val_loss: 0.2847 - val_accuracy: 0.8743\n",
      "Epoch 59/100\n",
      "256/256 [==============================] - 23s 90ms/step - loss: 0.2616 - accuracy: 0.8864 - val_loss: 0.2662 - val_accuracy: 0.8813\n",
      "Epoch 60/100\n",
      "256/256 [==============================] - 23s 89ms/step - loss: 0.2594 - accuracy: 0.8882 - val_loss: 0.2412 - val_accuracy: 0.8984\n",
      "Epoch 61/100\n",
      "256/256 [==============================] - 23s 89ms/step - loss: 0.2549 - accuracy: 0.8906 - val_loss: 0.2811 - val_accuracy: 0.8841\n",
      "Epoch 62/100\n",
      "256/256 [==============================] - 22s 87ms/step - loss: 0.2539 - accuracy: 0.8887 - val_loss: 0.2403 - val_accuracy: 0.8965\n",
      "Epoch 63/100\n",
      "256/256 [==============================] - 22s 87ms/step - loss: 0.2539 - accuracy: 0.8908 - val_loss: 0.2340 - val_accuracy: 0.9009\n",
      "Epoch 64/100\n",
      "256/256 [==============================] - 22s 87ms/step - loss: 0.2526 - accuracy: 0.8907 - val_loss: 0.2399 - val_accuracy: 0.8998\n",
      "Epoch 65/100\n",
      "256/256 [==============================] - 22s 88ms/step - loss: 0.2559 - accuracy: 0.8897 - val_loss: 0.2571 - val_accuracy: 0.8895\n",
      "Epoch 66/100\n",
      "256/256 [==============================] - 23s 89ms/step - loss: 0.2485 - accuracy: 0.8941 - val_loss: 0.2424 - val_accuracy: 0.8972\n",
      "Epoch 67/100\n",
      "256/256 [==============================] - 23s 88ms/step - loss: 0.2512 - accuracy: 0.8937 - val_loss: 0.2503 - val_accuracy: 0.8911\n",
      "Epoch 68/100\n",
      "256/256 [==============================] - 23s 88ms/step - loss: 0.2541 - accuracy: 0.8930 - val_loss: 0.2747 - val_accuracy: 0.8800\n",
      "Epoch 69/100\n",
      "256/256 [==============================] - 22s 87ms/step - loss: 0.2522 - accuracy: 0.8934 - val_loss: 0.2431 - val_accuracy: 0.8978\n",
      "Epoch 70/100\n",
      "256/256 [==============================] - 22s 88ms/step - loss: 0.2477 - accuracy: 0.8950 - val_loss: 0.2449 - val_accuracy: 0.8961\n",
      "Epoch 71/100\n",
      "256/256 [==============================] - 22s 86ms/step - loss: 0.2503 - accuracy: 0.8953 - val_loss: 0.2333 - val_accuracy: 0.8998\n",
      "Epoch 72/100\n",
      "256/256 [==============================] - 22s 86ms/step - loss: 0.2431 - accuracy: 0.8957 - val_loss: 0.2370 - val_accuracy: 0.9008\n",
      "Epoch 73/100\n",
      "256/256 [==============================] - 22s 88ms/step - loss: 0.2369 - accuracy: 0.9003 - val_loss: 0.2338 - val_accuracy: 0.8984\n",
      "Epoch 74/100\n",
      "256/256 [==============================] - 22s 86ms/step - loss: 0.2488 - accuracy: 0.8929 - val_loss: 0.2398 - val_accuracy: 0.8961\n",
      "Epoch 75/100\n",
      "256/256 [==============================] - 22s 87ms/step - loss: 0.2465 - accuracy: 0.8970 - val_loss: 0.2484 - val_accuracy: 0.8935\n",
      "Epoch 76/100\n",
      "256/256 [==============================] - 22s 87ms/step - loss: 0.2411 - accuracy: 0.8995 - val_loss: 0.2359 - val_accuracy: 0.8953\n",
      "Epoch 77/100\n",
      "256/256 [==============================] - 22s 87ms/step - loss: 0.2428 - accuracy: 0.8962 - val_loss: 0.2241 - val_accuracy: 0.9064\n",
      "Epoch 78/100\n",
      "256/256 [==============================] - 22s 87ms/step - loss: 0.2449 - accuracy: 0.8974 - val_loss: 0.2469 - val_accuracy: 0.8942\n",
      "Epoch 79/100\n",
      "256/256 [==============================] - 22s 87ms/step - loss: 0.2405 - accuracy: 0.8959 - val_loss: 0.2525 - val_accuracy: 0.8928\n",
      "Epoch 80/100\n",
      "256/256 [==============================] - 22s 86ms/step - loss: 0.2438 - accuracy: 0.8967 - val_loss: 0.2512 - val_accuracy: 0.8911\n",
      "Epoch 81/100\n",
      "256/256 [==============================] - 22s 86ms/step - loss: 0.2442 - accuracy: 0.8971 - val_loss: 0.2399 - val_accuracy: 0.8971\n",
      "Epoch 82/100\n",
      "256/256 [==============================] - 22s 86ms/step - loss: 0.2391 - accuracy: 0.8979 - val_loss: 0.2353 - val_accuracy: 0.9008\n",
      "Epoch 83/100\n",
      "256/256 [==============================] - 22s 86ms/step - loss: 0.2389 - accuracy: 0.8986 - val_loss: 0.2397 - val_accuracy: 0.9018\n",
      "Epoch 84/100\n",
      "256/256 [==============================] - 22s 86ms/step - loss: 0.2400 - accuracy: 0.8977 - val_loss: 0.2347 - val_accuracy: 0.9012\n",
      "Epoch 85/100\n",
      "256/256 [==============================] - 22s 87ms/step - loss: 0.2382 - accuracy: 0.8982 - val_loss: 0.2340 - val_accuracy: 0.8998\n",
      "Epoch 86/100\n",
      "256/256 [==============================] - 22s 88ms/step - loss: 0.2464 - accuracy: 0.8975 - val_loss: 0.2235 - val_accuracy: 0.9040\n",
      "Epoch 87/100\n",
      "256/256 [==============================] - 22s 87ms/step - loss: 0.2363 - accuracy: 0.8988 - val_loss: 0.2229 - val_accuracy: 0.9045\n",
      "Epoch 88/100\n",
      "256/256 [==============================] - 22s 87ms/step - loss: 0.2370 - accuracy: 0.8995 - val_loss: 0.2207 - val_accuracy: 0.9067\n",
      "Epoch 89/100\n",
      "256/256 [==============================] - 22s 87ms/step - loss: 0.2433 - accuracy: 0.8951 - val_loss: 0.2255 - val_accuracy: 0.9041\n",
      "Epoch 90/100\n",
      "256/256 [==============================] - 22s 87ms/step - loss: 0.2271 - accuracy: 0.9022 - val_loss: 0.2237 - val_accuracy: 0.9066\n",
      "Epoch 91/100\n",
      "256/256 [==============================] - 22s 88ms/step - loss: 0.2381 - accuracy: 0.8964 - val_loss: 0.2373 - val_accuracy: 0.8968\n",
      "Epoch 92/100\n",
      "256/256 [==============================] - 22s 87ms/step - loss: 0.2410 - accuracy: 0.8983 - val_loss: 0.2287 - val_accuracy: 0.9030\n",
      "Epoch 93/100\n",
      "256/256 [==============================] - 22s 87ms/step - loss: 0.2339 - accuracy: 0.9006 - val_loss: 0.2432 - val_accuracy: 0.8980\n",
      "Epoch 94/100\n",
      "256/256 [==============================] - 22s 87ms/step - loss: 0.2328 - accuracy: 0.8997 - val_loss: 0.2240 - val_accuracy: 0.9044\n",
      "Epoch 95/100\n",
      "256/256 [==============================] - 22s 87ms/step - loss: 0.2396 - accuracy: 0.8965 - val_loss: 0.2249 - val_accuracy: 0.9039\n",
      "Epoch 96/100\n",
      "256/256 [==============================] - 22s 87ms/step - loss: 0.2297 - accuracy: 0.9026 - val_loss: 0.2549 - val_accuracy: 0.8873\n",
      "Epoch 97/100\n",
      "256/256 [==============================] - 22s 87ms/step - loss: 0.2334 - accuracy: 0.8998 - val_loss: 0.2178 - val_accuracy: 0.9064\n",
      "Epoch 98/100\n",
      "256/256 [==============================] - 22s 86ms/step - loss: 0.2393 - accuracy: 0.8981 - val_loss: 0.2205 - val_accuracy: 0.9056\n",
      "Epoch 99/100\n",
      "256/256 [==============================] - 22s 87ms/step - loss: 0.2413 - accuracy: 0.8970 - val_loss: 0.2273 - val_accuracy: 0.9045\n",
      "Epoch 100/100\n",
      "256/256 [==============================] - 22s 86ms/step - loss: 0.2317 - accuracy: 0.9039 - val_loss: 0.2546 - val_accuracy: 0.8896\n",
      "\n",
      "\n",
      "Saving model to kws_ufe_04may2022_2122.h5\n",
      "\n",
      "\n"
     ]
    },
    {
     "data": {
      "image/png": "[encoded data removed]",
      "text/plain": [
       "<Figure size 432x288 with 2 Axes>"
      ]
     },
     "metadata": {
      "needs_background": "light"
     },
     "output_type": "display_data"
    },
    {
     "name": "stdout",
     "output_type": "stream",
     "text": [
      "\n",
      "\n",
      "Bird accuracy: 0.946\n",
      "Unknown accuracy: 0.844\n"
     ]
    }
   ],
   "source": [
    "EPOCHS=100\n",
    "patience=5\n",
    "\n",
    "\n",
    "steps=256\n",
    "model_compile()\n",
    "print(\"Steps:\",steps)\n",
    "\n",
    "\n",
    "callback=tf.keras.callbacks.EarlyStopping(\n",
    "    monitor= 'val_accuracy',\n",
    "    verbose=1,\n",
    "    patience=15,\n",
    "    restore_best_weights=True\n",
    ")\n",
    "\n",
    "history = model.fit(\n",
    "    train_generator, \n",
    "    validation_data=validation_generator,  \n",
    "    steps_per_epoch=steps,\n",
    "    validation_steps=steps,\n",
    "    epochs=EPOCHS,\n",
    "    callbacks=[callback]\n",
    ")\n",
    "print(\"\\n\")\n",
    "save_model()\n",
    "print(\"\\n\")\n",
    "plot_accuracy(history)\n",
    "print(\"\\n\")\n",
    "test_model(1000)"
   ]
  },
  {
   "cell_type": "code",
   "execution_count": 7,
   "id": "dc656a61",
   "metadata": {},
   "outputs": [
    {
     "name": "stdout",
     "output_type": "stream",
     "text": [
      "7961/7961 - 186s - loss: 0.2560 - accuracy: 0.8894 - 186s/epoch - 23ms/step\n"
     ]
    }
   ],
   "source": [
    "val_loss, val_acc = model.evaluate(validation_generator, verbose=2)"
   ]
  },
  {
   "cell_type": "code",
   "execution_count": 8,
   "id": "3c09affb",
   "metadata": {},
   "outputs": [],
   "source": [
    "BASE_DIR =\"/Users/Jeromey/IOT/project2/data/train/p\""
   ]
  },
  {
   "cell_type": "code",
   "execution_count": 9,
   "id": "19e16d1b",
   "metadata": {},
   "outputs": [
    {
     "name": "stdout",
     "output_type": "stream",
     "text": [
      "INFO:tensorflow:Assets written to: C:\\Users\\Jeromey\\AppData\\Local\\Temp\\tmp7iiquxvs\\assets\n"
     ]
    },
    {
     "name": "stderr",
     "output_type": "stream",
     "text": [
      "WARNING:absl:Buffer deduplication procedure will be skipped when flatbuffer library is not properly loaded\n"
     ]
    },
    {
     "name": "stdout",
     "output_type": "stream",
     "text": [
      "INFO:tensorflow:Assets written to: C:\\Users\\Jeromey\\AppData\\Local\\Temp\\tmpm9y834_h\\assets\n"
     ]
    },
    {
     "name": "stderr",
     "output_type": "stream",
     "text": [
      "INFO:tensorflow:Assets written to: C:\\Users\\Jeromey\\AppData\\Local\\Temp\\tmpm9y834_h\\assets\n",
      "C:\\Users\\Jeromey\\anaconda3\\envs\\IOT\\lib\\site-packages\\tensorflow\\lite\\python\\convert.py:746: UserWarning: Statistics for quantized inputs were expected, but not specified; continuing anyway.\n",
      "  warnings.warn(\"Statistics for quantized inputs were expected, but not \"\n",
      "WARNING:absl:Buffer deduplication procedure will be skipped when flatbuffer library is not properly loaded\n"
     ]
    }
   ],
   "source": [
    "# model = tf.keras.models.load_model(argv[1])\n",
    "converter = tf.lite.TFLiteConverter.from_keras_model(model)\n",
    "tflite_model = converter.convert()\n",
    "# with tf.io.gfile.GFile('vww_96_float.tflite', 'wb') as float_file:\n",
    "#   float_file.write(tflite_model)\n",
    "\n",
    "converter.optimizations = [tf.lite.Optimize.DEFAULT]\n",
    "def representative_dataset_gen():\n",
    "  dataset_dir = os.path.join(BASE_DIR, \"person\")\n",
    "  for idx, image_file in enumerate(os.listdir(dataset_dir)):\n",
    "    # 10 representative images should be enough for calibration.\n",
    "    if idx > 10000:\n",
    "        return\n",
    "    full_path = os.path.join(dataset_dir, image_file)\n",
    "    if os.path.isfile(full_path):\n",
    "      img = tf.keras.preprocessing.image.load_img(\n",
    "          full_path, color_mode=\"grayscale\").resize((96, 96))\n",
    "      arr = tf.keras.preprocessing.image.img_to_array(img)\n",
    "      # Scale input to [0, 1.0] like in training.\n",
    "      yield [arr.reshape(1, 96, 96, 1)]\n",
    "      #yield [arr.reshape(1, 96, 96, 1) / 255.] \n",
    "\n",
    "# Convert model to full-int8 and save as quantized tflite flatbuffer.\n",
    "converter.representative_dataset = representative_dataset_gen\n",
    "converter.target_spec.supported_ops = [tf.lite.OpsSet.TFLITE_BUILTINS_INT8]\n",
    "converter.inference_input_type = tf.int8\n",
    "converter.inference_output_type = tf.int8\n",
    "quantized_tflite_model = converter.convert()\n",
    "with tf.io.gfile.GFile('vww_96_int8_norm2.tflite', 'wb') as quantized_file:\n",
    "    quantized_file.write(quantized_tflite_model)"
   ]
  },
  {
   "cell_type": "code",
   "execution_count": 10,
   "id": "2102fe80",
   "metadata": {},
   "outputs": [
    {
     "name": "stdout",
     "output_type": "stream",
     "text": [
      "Wrote 91368 / 91368 bytes to tflite file\n"
     ]
    }
   ],
   "source": [
    "fname = 'vww_96_int8t.tflite'\n",
    "with open(fname, \"wb\") as fpo:\n",
    "  num_bytes_written = fpo.write(quantized_tflite_model)\n",
    "print(f\"Wrote {num_bytes_written} / {len(quantized_tflite_model)} bytes to tflite file\")"
   ]
  },
  {
   "cell_type": "code",
   "execution_count": null,
   "id": "cf1d706c",
   "metadata": {
    "scrolled": true
   },
   "outputs": [],
   "source": []
  },
  {
   "cell_type": "code",
   "execution_count": 28,
   "id": "a5d5ae26",
   "metadata": {},
   "outputs": [],
   "source": [
    "x1=tf.keras.utils.load_img(\n",
    "    path='data/train/p/person/35000.jpeg',\n",
    "    color_mode=\"grayscale\",\n",
    "    target_size=(IMG_SIZE,IMG_SIZE),\n",
    "    interpolation='nearest'\n",
    ")"
   ]
  },
  {
   "cell_type": "code",
   "execution_count": 29,
   "id": "d9f249db",
   "metadata": {},
   "outputs": [],
   "source": [
    "x2=tf.keras.utils.load_img(\n",
    "    path='data/train/n/notperson/35000.jpeg',\n",
    "    color_mode=\"grayscale\",\n",
    "    target_size=(IMG_SIZE,IMG_SIZE),\n",
    "    interpolation='nearest'\n",
    ")"
   ]
  },
  {
   "cell_type": "code",
   "execution_count": 30,
   "id": "5fb41bb7",
   "metadata": {},
   "outputs": [
    {
     "data": {
      "text/plain": [
       "array([[-2.8527043,  2.887944 ]], dtype=float32)"
      ]
     },
     "execution_count": 30,
     "metadata": {},
     "output_type": "execute_result"
    }
   ],
   "source": [
    "x1_arr=tf.keras.utils.img_to_array(x1)\n",
    "x1_shape=x1_arr.reshape((1,) +x1_arr.shape)\n",
    "x1_predict=model.predict(x1_shape)\n",
    "x1_predict"
   ]
  },
  {
   "cell_type": "code",
   "execution_count": 31,
   "id": "8f133561",
   "metadata": {},
   "outputs": [
    {
     "data": {
      "text/plain": [
       "array([[ 1.2502034, -1.2574968]], dtype=float32)"
      ]
     },
     "execution_count": 31,
     "metadata": {},
     "output_type": "execute_result"
    }
   ],
   "source": [
    "x2_arr=tf.keras.utils.img_to_array(x2)\n",
    "x2_shape=x2_arr.reshape((1,) +x2_arr.shape)\n",
    "x2_predict=model.predict(x2_shape)\n",
    "x2_predict"
   ]
  },
  {
   "cell_type": "code",
   "execution_count": 32,
   "id": "c664d3a5",
   "metadata": {},
   "outputs": [],
   "source": [
    "label_map = (train_generator.class_indices)"
   ]
  },
  {
   "cell_type": "code",
   "execution_count": 27,
   "id": "4afcae6b",
   "metadata": {},
   "outputs": [
    {
     "data": {
      "text/plain": [
       "{'notperson': 0, 'person': 1}"
      ]
     },
     "execution_count": 27,
     "metadata": {},
     "output_type": "execute_result"
    }
   ],
   "source": [
    "label_map"
   ]
  },
  {
   "cell_type": "code",
   "execution_count": null,
   "id": "ca4a542e",
   "metadata": {},
   "outputs": [],
   "source": []
  },
  {
   "cell_type": "code",
   "execution_count": null,
   "id": "7f734070",
   "metadata": {},
   "outputs": [],
   "source": []
  },
  {
   "cell_type": "code",
   "execution_count": 33,
   "id": "cb6ddea9",
   "metadata": {},
   "outputs": [
    {
     "name": "stdout",
     "output_type": "stream",
     "text": [
      "INFO:tensorflow:Assets written to: C:\\Users\\Jeromey\\AppData\\Local\\Temp\\tmpikxlarfn\\assets\n"
     ]
    },
    {
     "name": "stderr",
     "output_type": "stream",
     "text": [
      "INFO:tensorflow:Assets written to: C:\\Users\\Jeromey\\AppData\\Local\\Temp\\tmpikxlarfn\\assets\n",
      "WARNING:absl:Buffer deduplication procedure will be skipped when flatbuffer library is not properly loaded\n"
     ]
    },
    {
     "name": "stdout",
     "output_type": "stream",
     "text": [
      "INFO:tensorflow:Assets written to: C:\\Users\\Jeromey\\AppData\\Local\\Temp\\tmpvee01_ck\\assets\n"
     ]
    },
    {
     "name": "stderr",
     "output_type": "stream",
     "text": [
      "INFO:tensorflow:Assets written to: C:\\Users\\Jeromey\\AppData\\Local\\Temp\\tmpvee01_ck\\assets\n",
      "WARNING:absl:Buffer deduplication procedure will be skipped when flatbuffer library is not properly loaded\n"
     ]
    }
   ],
   "source": [
    "# model = tf.keras.models.load_model(argv[1])\n",
    "converter = tf.lite.TFLiteConverter.from_keras_model(model)\n",
    "tflite_model = converter.convert()\n",
    "# with tf.io.gfile.GFile('vww_96_float.tflite', 'wb') as float_file:\n",
    "#   float_file.write(tflite_model)\n",
    "\n",
    "converter.optimizations = [tf.lite.Optimize.DEFAULT]\n",
    "def representative_dataset_gen():\n",
    "  dataset_dir = os.path.join(BASE_DIR, \"person\")\n",
    "  for idx, image_file in enumerate(os.listdir(dataset_dir)):\n",
    "    # 10 representative images should be enough for calibration.\n",
    "    if idx > 10000:\n",
    "        return\n",
    "    full_path = os.path.join(dataset_dir, image_file)\n",
    "    if os.path.isfile(full_path):\n",
    "      img = tf.keras.preprocessing.image.load_img(\n",
    "          full_path, color_mode=\"grayscale\").resize((96, 96))\n",
    "      arr = tf.keras.preprocessing.image.img_to_array(img)\n",
    "      # Scale input to [0, 1.0] like in training.\n",
    "      yield [arr.reshape(1, 96, 96, 1)]\n",
    "      #yield [arr.reshape(1, 96, 96, 1) / 255.] \n",
    "\n",
    "# Convert model to full-int8 and save as quantized tflite flatbuffer.\n",
    "converter.representative_dataset = representative_dataset_gen\n",
    "converter.optimizations = [tf.lite.Optimize.DEFAULT]\n",
    "converter.target_spec.supported_types = [tf.float16]\n",
    "quantized_tflite_model = converter.convert()\n",
    "with tf.io.gfile.GFile('vww_96_flaot.tflite', 'wb') as quantized_file:\n",
    "    quantized_file.write(quantized_tflite_model)"
   ]
  },
  {
   "cell_type": "code",
   "execution_count": null,
   "id": "22bc7eb1",
   "metadata": {},
   "outputs": [],
   "source": []
  }
 ],
 "metadata": {
  "kernelspec": {
   "display_name": "Python 3 (ipykernel)",
   "language": "python",
   "name": "python3"
  },
  "language_info": {
   "codemirror_mode": {
    "name": "ipython",
    "version": 3
   },
   "file_extension": ".py",
   "mimetype": "text/x-python",
   "name": "python",
   "nbconvert_exporter": "python",
   "pygments_lexer": "ipython3",
   "version": "3.8.12"
  }
 },
 "nbformat": 4,
 "nbformat_minor": 5
}
